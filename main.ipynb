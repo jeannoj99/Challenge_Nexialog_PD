{
 "cells": [
  {
   "cell_type": "code",
   "execution_count": 1,
   "metadata": {},
   "outputs": [
    {
     "name": "stdout",
     "output_type": "stream",
     "text": [
      "Importation de packages terminée\n"
     ]
    }
   ],
   "source": [
    "# import packages \n",
    "import openpyxl\n",
    "import seaborn as sns\n",
    "import matplotlib.pyplot as plt\n",
    "import numpy as np\n",
    "import pandas as pd\n",
    "from sklearn.impute import SimpleImputer\n",
    "from scipy.stats import mannwhitneyu ,chi2_contingency, anderson, f_oneway\n",
    "from sklearn.model_selection import train_test_split\n",
    "from sklearn.metrics import roc_auc_score\n",
    "import statsmodels.api as sm\n",
    "from jenkspy import JenksNaturalBreaks\n",
    "import warnings\n",
    "warnings.filterwarnings(\"ignore\")\n",
    "\n",
    "\n",
    "from src.preprocessing import convert_numeric_to_category, DecisionTreeDiscretizer\n",
    "from src.tests import cramers_v, mannwhitney_test, calculate_information_value_from_contingency_table, show_conditionnal_density, show_risk_stability_overtime, show_volume_stability_overtime\n",
    "from src.score import grid_score, attribute_score, subplot_segment_default_rate\n",
    "print(\"Importation de packages terminée\")"
   ]
  },
  {
   "cell_type": "code",
   "execution_count": 2,
   "metadata": {},
   "outputs": [],
   "source": [
    "\n",
    "data=pd.read_csv(\"data/application_train_vf.csv\",parse_dates=[\"date_mensuelle\"], index_col=0)\n",
    "data[\"SK_ID_CURR\"].value_counts().max()\n",
    "\n",
    "# importation de données d'autre base préparées\n",
    "credit_bureau_data=pd.read_csv(\"data/cb_findings.csv\", index_col=0)\n",
    "data=data.merge(credit_bureau_data, left_on=\"SK_ID_CURR\", right_on=\"CB_SK_ID_CURR\")\n",
    "\n",
    "# feature engineering\n",
    "data[\"HAS_CHILDREN\"]=data[\"CNT_CHILDREN\"].apply(lambda x : \"Y\" if x > 0 else \"N\")\n",
    "data.drop(columns=[\"CNT_CHILDREN\"], inplace=True)\n",
    "\n",
    "drop_documents_cols=[\"FLAG_DOCUMENT_2\",\"FLAG_DOCUMENT_3\",\"FLAG_DOCUMENT_4\" , \n",
    "\"FLAG_DOCUMENT_5\" , \"FLAG_DOCUMENT_6\",\"FLAG_DOCUMENT_7\" ,              \n",
    "\"FLAG_DOCUMENT_8\" , \"FLAG_DOCUMENT_9\",\"FLAG_DOCUMENT_10\"  ,\"FLAG_DOCUMENT_11\" , \"FLAG_DOCUMENT_12\",              \n",
    "\"FLAG_DOCUMENT_13\" ,\"FLAG_DOCUMENT_14\" ,\"FLAG_DOCUMENT_15\", \"FLAG_DOCUMENT_16\" ,\n",
    "\"FLAG_DOCUMENT_17\", \"FLAG_DOCUMENT_18\",\"FLAG_DOCUMENT_19\", \"FLAG_DOCUMENT_20\",\"FLAG_DOCUMENT_21\"]\n",
    "\n",
    "data.drop(columns=drop_documents_cols, inplace=True)\n",
    "\n",
    "\n",
    "convert_numeric_to_category(data)\n",
    "\n",
    "data[\"date_annee\"]=data[\"date_mensuelle\"].dt.year #annee\n",
    "\n",
    "out_of_sample_data=data[data[\"date_annee\"]==2020] # echantillon out-of-sample\n",
    "data=data[data[\"date_annee\"]<2020] # echantillon in-sample\n"
   ]
  },
  {
   "cell_type": "code",
   "execution_count": 3,
   "metadata": {},
   "outputs": [
    {
     "name": "stdout",
     "output_type": "stream",
     "text": [
      "Phase de modélisation\n",
      "Optimization terminated successfully.\n",
      "         Current function value: 0.257571\n",
      "         Iterations 7\n",
      "Phase de scoring\n",
      "La grille de score est exportée au dossier data au nom de grille_de_score\n"
     ]
    }
   ],
   "source": [
    "categorical_vars=data.select_dtypes(include=\"object\").columns.tolist()\n",
    "numerical_vars=data.select_dtypes(include=\"number\").columns.tolist()\n",
    "binary_vars=[var for var in numerical_vars if (data[var].nunique()==2)&(var !=\"TARGET\")]\n",
    "\n",
    "binary_risk_non_stable_vars=[\"FLAG_MOBIL\", \"FLAG_CONT_MOBILE\", \"FLAG_EMAIL\", \"REG_REGION_NOT_LIVE_REGION\", \"REG_REGION_NOT_WORK_REGION\",\"LIVE_REGION_NOT_WORK_REGION\"]\n",
    "\n",
    "binary_vars=list(filter(lambda x : x not in binary_risk_non_stable_vars, binary_vars))\n",
    "\n",
    "binary_volume_non_stable_vars=[]\n",
    "\n",
    "# variables à virer parmi les binaires:\n",
    "binary_non_stable_vars=list(set(binary_volume_non_stable_vars+binary_risk_non_stable_vars))\n",
    "\n",
    "binary_vars=list(filter(lambda x : x not in binary_non_stable_vars,binary_vars))\n",
    "\n",
    "data.drop(columns=binary_non_stable_vars, inplace=True)\n",
    "\n",
    "numerical_vars=list(filter(lambda x : x not in binary_vars+binary_non_stable_vars,numerical_vars))\n",
    "\n",
    "low_category_categorical_vars=[var for var in categorical_vars+numerical_vars if  (var not in binary_vars+binary_non_stable_vars+[\"TARGET\"]) & (data[var].nunique()>=2) & (data[var].nunique()<=4)]\n",
    "    \n",
    "    \n",
    "low_category_non_stable_vars=[\"FLAG_OWN_REALTY\", \"FONDKAPREMONT_MODE\", \"HOUSETYPE_MODE\", \"EMERGENCYSTATE_MODE\", \"CODE_GENDER\"]\n",
    "low_category_categorical_vars=list(filter(lambda x : x not in low_category_non_stable_vars,low_category_categorical_vars))\n",
    "\n",
    "data.drop(columns=low_category_non_stable_vars)\n",
    "\n",
    "categorical_vars=list(filter(lambda x : x not in binary_non_stable_vars+binary_vars+low_category_categorical_vars+low_category_non_stable_vars, categorical_vars))\n",
    "\n",
    "    \n",
    "data[\"OCCUPATION_TYPE\"].fillna(\"Unknown\", inplace=True)\n",
    "out_of_sample_data[\"OCCUPATION_TYPE\"].fillna(\"Unknown\", inplace=True)\n",
    "\n",
    "# groupement proposé pour occupation_type suivant tdf\n",
    "group_occupation_type={\n",
    "    0: ['Accountants', 'HR staff', 'High skill tech staff'],\n",
    " 1: ['Managers', 'Core staff', 'Private service staff', 'Unknown',\n",
    "        'Medicine staff', 'IT staff', 'Secretaries'],\n",
    " 2: ['Realty agents', 'Cleaning staff', 'Sales staff', 'Laborers',\n",
    "        'Cooking staff', 'Security staff'],\n",
    " 3: ['Drivers', 'Waiters/barmen staff', 'Low-skill Laborers'],\n",
    "}\n",
    "\n",
    "data[\"OCCUPATION_TYPE\"]=data[\"OCCUPATION_TYPE\"].map({value: key for key, values in group_occupation_type.items() for value in values})\n",
    "out_of_sample_data[\"OCCUPATION_TYPE\"]=out_of_sample_data[\"OCCUPATION_TYPE\"].map({value: key for key, values in group_occupation_type.items() for value in values})\n",
    "group_education_type={\n",
    "    \"Graduated\" : [\"Academic degree\", \"Higher education\"],\n",
    "    \"Non graduated\":[\"Lower secondary\", \"Secondary / secondary special\", \"Incomplete higher\"]\n",
    "}\n",
    "\n",
    "data[\"NAME_EDUCATION_TYPE\"]=data[\"NAME_EDUCATION_TYPE\"].map({value: key for key, values in group_education_type.items() for value in values})\n",
    "out_of_sample_data[\"NAME_EDUCATION_TYPE\"]=out_of_sample_data[\"NAME_EDUCATION_TYPE\"].map({value: key for key, values in group_education_type.items() for value in values})\n",
    "\n",
    "group_family_status={\n",
    "    \"Already_Married\": [\"Civil marriage\", \"Married\",\"Separated\", \"Widow\"],\n",
    "    \"Single\" :[\"Single / not married\", \"Unknown\"]\n",
    "}\n",
    "\n",
    "data[\"NAME_FAMILY_STATUS_2\"]=data[\"NAME_FAMILY_STATUS\"].map({value: key for key, values in group_family_status.items() for value in values})\n",
    "out_of_sample_data[\"NAME_FAMILY_STATUS_2\"]=out_of_sample_data[\"NAME_FAMILY_STATUS\"].map({value: key for key, values in group_family_status.items() for value in values})\n",
    "\n",
    "\n",
    "data[\"FAM_STATS_CHILD\"]=data[\"NAME_FAMILY_STATUS_2\"]+\"-\"+\"HAS_CHILDREN_\"+data[\"HAS_CHILDREN\"] \n",
    "\n",
    "data[\"FAM_STATS_CHILD\"]=data[\"FAM_STATS_CHILD\"].apply(lambda x : \"Single\" if x in [\"Single-HAS_CHILDREN_N\",\"Single-HAS_CHILDREN_Y\"] else x)\n",
    "out_of_sample_data[\"FAM_STATS_CHILD\"]=out_of_sample_data[\"NAME_FAMILY_STATUS_2\"]+\"-\"+\"HAS_CHILDREN_\"+out_of_sample_data[\"HAS_CHILDREN\"] \n",
    "\n",
    "out_of_sample_data[\"FAM_STATS_CHILD\"]=out_of_sample_data[\"FAM_STATS_CHILD\"].apply(lambda x : \"Single\" if x in [\"Single-HAS_CHILDREN_N\",\"Single-HAS_CHILDREN_Y\"] else x)\n",
    "\n",
    "\n",
    "\n",
    "social_vars=[\"OBS_30_CNT_SOCIAL_CIRCLE\",\n",
    "\"DEF_30_CNT_SOCIAL_CIRCLE\",\n",
    "\"OBS_60_CNT_SOCIAL_CIRCLE\",\n",
    "\"DEF_60_CNT_SOCIAL_CIRCLE\", \"DAYS_LAST_PHONE_CHANGE\"\n",
    "]\n",
    "\n",
    "    \n",
    "data[\"DAYS_LAST_PHONE_CHANGE\"].fillna(data[\"DAYS_LAST_PHONE_CHANGE\"].min(), inplace=True)\n",
    "out_of_sample_data[\"DAYS_LAST_PHONE_CHANGE\"].fillna(out_of_sample_data[\"DAYS_LAST_PHONE_CHANGE\"].min(), inplace=True)\n",
    "\n",
    "data[\"AMT_CREDIT_TO_INCOME\"]=(data[\"AMT_CREDIT\"]+data[\"CB_AMT_CREDIT_SUM\"])/data[\"AMT_INCOME_TOTAL\"]\n",
    "out_of_sample_data[\"AMT_CREDIT_TO_INCOME\"]=(out_of_sample_data[\"AMT_CREDIT\"]+out_of_sample_data[\"CB_AMT_CREDIT_SUM\"])/out_of_sample_data[\"AMT_INCOME_TOTAL\"]\n",
    "\n",
    "median_imputer=SimpleImputer(strategy=\"median\").set_output(transform=\"pandas\")\n",
    "data[\"AMT_GOODS_PRICE\"]=median_imputer.fit_transform(data[\"AMT_GOODS_PRICE\"].to_numpy().reshape(-1,1))\n",
    "out_of_sample_data[\"AMT_GOODS_PRICE\"]=median_imputer.fit_transform(out_of_sample_data[\"AMT_GOODS_PRICE\"].to_numpy().reshape(-1,1))\n",
    "\n",
    "# FEATURE ENGINEERING\n",
    "data[\"AMT_CREDIT_NORM\"]=data[\"AMT_CREDIT\"]/data[\"AMT_GOODS_PRICE\"]\n",
    "data[\"AMT_ANNUITY\"]=(data[\"AMT_ANNUITY\"]+data[\"CB_AMT_ANNUITY\"])/data[\"AMT_INCOME_TOTAL\"]\n",
    "data[\"AMT_INCOME_TOTAL_NORM\"]=data[\"AMT_INCOME_TOTAL\"]/data[\"AMT_GOODS_PRICE\"]\n",
    "\n",
    "data[\"BORROWER_AGE\"]=data[\"DAYS_BIRTH\"].apply(np.abs)//365\n",
    "data[\"BORROWER_SENIORITY\"]=data[\"DAYS_EMPLOYED\"].apply(np.abs)//365\n",
    "data[\"BORROWER_FIDELITY\"]=data[\"DAYS_REGISTRATION\"].apply(np.abs)//365\n",
    "\n",
    "out_of_sample_data[\"AMT_CREDIT_NORM\"]=out_of_sample_data[\"AMT_CREDIT\"]/out_of_sample_data[\"AMT_GOODS_PRICE\"]\n",
    "out_of_sample_data[\"AMT_ANNUITY\"]=(out_of_sample_data[\"AMT_ANNUITY\"]+out_of_sample_data[\"CB_AMT_ANNUITY\"])/out_of_sample_data[\"AMT_INCOME_TOTAL\"]\n",
    "out_of_sample_data[\"AMT_INCOME_TOTAL_NORM\"]=out_of_sample_data[\"AMT_INCOME_TOTAL\"]/out_of_sample_data[\"AMT_GOODS_PRICE\"]\n",
    "\n",
    "out_of_sample_data[\"BORROWER_AGE\"]=out_of_sample_data[\"DAYS_BIRTH\"].apply(np.abs)//365\n",
    "out_of_sample_data[\"BORROWER_SENIORITY\"]=out_of_sample_data[\"DAYS_EMPLOYED\"].apply(np.abs)//365\n",
    "out_of_sample_data[\"BORROWER_FIDELITY\"]=out_of_sample_data[\"DAYS_REGISTRATION\"].apply(np.abs)//365\n",
    "\n",
    "    \n",
    "    \n",
    "tested_numerical_variables=[\n",
    "    \"BORROWER_AGE\",\"BORROWER_SENIORITY\",\"BORROWER_FIDELITY\",\"AMT_INCOME_TOTAL_NORM\",\n",
    "    \"AMT_CREDIT_NORM\", \"AMT_INCOME_TOTAL\",\"AMT_CREDIT\",\n",
    "    \"AMT_ANNUITY\",\"AMT_GOODS_PRICE\",\n",
    "    'CB_AMT_CREDIT_SUM_DEBT', 'CB_NB_CREDIT_ACTIVE', 'CB_NB_CREDIT_CLOSED', 'CB_DAYS_CREDIT', 'CB_DAYS_CREDIT_ENDDATE', 'CB_AMT_CREDIT_SUM', 'CB_AMT_ANNUITY'\n",
    "] \n",
    "\n",
    "    \n",
    "    \n",
    "# echantillon d'entrainement et echantillon de calibrage\n",
    "data_train, data_test=train_test_split(data, test_size=0.3, stratify=data[\"TARGET\"], random_state=42)\n",
    "\n",
    "discretised_cols=[\"AMT_INCOME_TOTAL_NORM\", \"AMT_CREDIT_TO_INCOME\" , \"BORROWER_AGE\", \"BORROWER_SENIORITY\",\n",
    "                  \"BORROWER_FIDELITY\", \"AMT_CREDIT_NORM\", \"DAYS_LAST_PHONE_CHANGE\"\n",
    "                  ]\n",
    "discretised_cols_2=[\"AMT_ANNUITY\",\"AMT_GOODS_PRICE\", \"CB_DAYS_CREDIT\",\n",
    "                  'CB_AMT_CREDIT_SUM_DEBT', 'CB_NB_CREDIT_CLOSED', \n",
    "                  'CB_DAYS_CREDIT_ENDDATE', 'CB_AMT_CREDIT_SUM', 'CB_AMT_ANNUITY'\n",
    "]\n",
    "\n",
    "dt_discretizer=DecisionTreeDiscretizer(target=data_train[\"TARGET\"]) #instanciation du discrétiseur\n",
    "\n",
    "for col in discretised_cols:\n",
    "    dt_discretizer.fit(data_train[col])\n",
    "    data_train[col]=dt_discretizer.transform(data_train[col])\n",
    "    data_test[col]=dt_discretizer.transform(data_test[col])\n",
    "    out_of_sample_data[col]=dt_discretizer.transform(out_of_sample_data[col])\n",
    "\n",
    "    \n",
    "\n",
    "for col in discretised_cols_2:\n",
    "    dt_discretizer.fit(data_train[col])\n",
    "    data_train[col]=dt_discretizer.transform(data_train[col])\n",
    "    data_test[col]=dt_discretizer.transform(data_test[col])\n",
    "    out_of_sample_data[col]=dt_discretizer.transform(out_of_sample_data[col])\n",
    "    \n",
    "        \n",
    "# Modélisation \n",
    "print(\"Phase de modélisation\")\n",
    "formula=\"TARGET ~ C(OCCUPATION_TYPE,Treatment(reference=0)) + C(NAME_EDUCATION_TYPE,Treatment(reference='Non graduated'))  + C(AMT_CREDIT_NORM,Treatment(reference=3)) + C(BORROWER_AGE,Treatment(reference=0)) + C(BORROWER_SENIORITY,Treatment(reference=0)) + C(CB_NB_CREDIT_CLOSED, Treatment(reference=0))+ C(CB_DAYS_CREDIT,Treatment(reference=2)) - 1\" # + C(DAYS_LAST_PHONE_CHANGE, Treatment(reference=3)) + C(FAM_STATS_CHILD,Treatment(reference='Single')) + +BORROWER_FIDELITY \n",
    "model_logit=sm.Logit.from_formula(formula=formula,data=data_train).fit()\n",
    "\n",
    "\n",
    "print(\"Phase de scoring\")\n",
    "liste_variables_utilisees = [\"OCCUPATION_TYPE\", \"NAME_EDUCATION_TYPE\"  , \"AMT_CREDIT_NORM\" , \"BORROWER_AGE\" , \"BORROWER_SENIORITY\" , \"CB_NB_CREDIT_CLOSED\", \"CB_DAYS_CREDIT\"]\n",
    "grille = grid_score(data_train,model_logit, liste_variables_utilisees)\n",
    "grille_2020 = grid_score(out_of_sample_data,model_logit, liste_variables_utilisees)\n",
    "\n",
    "\n",
    "grille.to_excel(\"data/grille_de_score.xlsx\")\n",
    "grille_2020.to_excel(\"data/grille_de_score_2020.xlsx\")\n",
    "print(\"La grille de score est exportée au dossier data au nom de grille_de_score\")\n",
    "\n",
    "\n",
    "attribute_score(grille,data_train)\n",
    "attribute_score(grille,data_test)\n",
    "attribute_score(grille,out_of_sample_data)\n",
    "\n",
    "segment=JenksNaturalBreaks(n_classes=7)\n",
    "segment.fit(data_train[\"Note\"].values)\n",
    "\n",
    "data_train[\"Segment\"]=segment.predict(data_train[\"Note\"].values)\n",
    "data_test[\"Segment\"]=segment.predict(data_test[\"Note\"].values)\n",
    "out_of_sample_data[\"Segment\"]=segment.predict(out_of_sample_data[\"Note\"].values)\n"
   ]
  },
  {
   "cell_type": "code",
   "execution_count": 4,
   "metadata": {},
   "outputs": [
    {
     "data": {
      "text/html": [
       "<div>\n",
       "<style scoped>\n",
       "    .dataframe tbody tr th:only-of-type {\n",
       "        vertical-align: middle;\n",
       "    }\n",
       "\n",
       "    .dataframe tbody tr th {\n",
       "        vertical-align: top;\n",
       "    }\n",
       "\n",
       "    .dataframe thead th {\n",
       "        text-align: right;\n",
       "    }\n",
       "</style>\n",
       "<table border=\"1\" class=\"dataframe\">\n",
       "  <thead>\n",
       "    <tr style=\"text-align: right;\">\n",
       "      <th></th>\n",
       "      <th>SK_ID_CURR</th>\n",
       "      <th>TARGET</th>\n",
       "      <th>NAME_CONTRACT_TYPE</th>\n",
       "      <th>CODE_GENDER</th>\n",
       "      <th>FLAG_OWN_CAR</th>\n",
       "      <th>FLAG_OWN_REALTY</th>\n",
       "      <th>AMT_INCOME_TOTAL</th>\n",
       "      <th>AMT_CREDIT</th>\n",
       "      <th>AMT_ANNUITY</th>\n",
       "      <th>AMT_GOODS_PRICE</th>\n",
       "      <th>NAME_TYPE_SUITE</th>\n",
       "      <th>NAME_INCOME_TYPE</th>\n",
       "      <th>NAME_EDUCATION_TYPE</th>\n",
       "      <th>NAME_FAMILY_STATUS</th>\n",
       "      <th>NAME_HOUSING_TYPE</th>\n",
       "      <th>REGION_POPULATION_RELATIVE</th>\n",
       "      <th>DAYS_BIRTH</th>\n",
       "      <th>DAYS_EMPLOYED</th>\n",
       "      <th>DAYS_REGISTRATION</th>\n",
       "      <th>DAYS_ID_PUBLISH</th>\n",
       "      <th>OWN_CAR_AGE</th>\n",
       "      <th>FLAG_MOBIL</th>\n",
       "      <th>FLAG_EMP_PHONE</th>\n",
       "      <th>FLAG_WORK_PHONE</th>\n",
       "      <th>FLAG_CONT_MOBILE</th>\n",
       "      <th>FLAG_PHONE</th>\n",
       "      <th>FLAG_EMAIL</th>\n",
       "      <th>OCCUPATION_TYPE</th>\n",
       "      <th>CNT_FAM_MEMBERS</th>\n",
       "      <th>REGION_RATING_CLIENT</th>\n",
       "      <th>REGION_RATING_CLIENT_W_CITY</th>\n",
       "      <th>WEEKDAY_APPR_PROCESS_START</th>\n",
       "      <th>HOUR_APPR_PROCESS_START</th>\n",
       "      <th>REG_REGION_NOT_LIVE_REGION</th>\n",
       "      <th>REG_REGION_NOT_WORK_REGION</th>\n",
       "      <th>LIVE_REGION_NOT_WORK_REGION</th>\n",
       "      <th>REG_CITY_NOT_LIVE_CITY</th>\n",
       "      <th>REG_CITY_NOT_WORK_CITY</th>\n",
       "      <th>LIVE_CITY_NOT_WORK_CITY</th>\n",
       "      <th>ORGANIZATION_TYPE</th>\n",
       "      <th>EXT_SOURCE_1</th>\n",
       "      <th>EXT_SOURCE_2</th>\n",
       "      <th>EXT_SOURCE_3</th>\n",
       "      <th>APARTMENTS_AVG</th>\n",
       "      <th>BASEMENTAREA_AVG</th>\n",
       "      <th>YEARS_BEGINEXPLUATATION_AVG</th>\n",
       "      <th>YEARS_BUILD_AVG</th>\n",
       "      <th>COMMONAREA_AVG</th>\n",
       "      <th>ELEVATORS_AVG</th>\n",
       "      <th>ENTRANCES_AVG</th>\n",
       "      <th>FLOORSMAX_AVG</th>\n",
       "      <th>FLOORSMIN_AVG</th>\n",
       "      <th>LANDAREA_AVG</th>\n",
       "      <th>LIVINGAPARTMENTS_AVG</th>\n",
       "      <th>LIVINGAREA_AVG</th>\n",
       "      <th>NONLIVINGAPARTMENTS_AVG</th>\n",
       "      <th>NONLIVINGAREA_AVG</th>\n",
       "      <th>APARTMENTS_MODE</th>\n",
       "      <th>BASEMENTAREA_MODE</th>\n",
       "      <th>YEARS_BEGINEXPLUATATION_MODE</th>\n",
       "      <th>YEARS_BUILD_MODE</th>\n",
       "      <th>COMMONAREA_MODE</th>\n",
       "      <th>ELEVATORS_MODE</th>\n",
       "      <th>ENTRANCES_MODE</th>\n",
       "      <th>FLOORSMAX_MODE</th>\n",
       "      <th>FLOORSMIN_MODE</th>\n",
       "      <th>LANDAREA_MODE</th>\n",
       "      <th>LIVINGAPARTMENTS_MODE</th>\n",
       "      <th>LIVINGAREA_MODE</th>\n",
       "      <th>NONLIVINGAPARTMENTS_MODE</th>\n",
       "      <th>NONLIVINGAREA_MODE</th>\n",
       "      <th>APARTMENTS_MEDI</th>\n",
       "      <th>BASEMENTAREA_MEDI</th>\n",
       "      <th>YEARS_BEGINEXPLUATATION_MEDI</th>\n",
       "      <th>YEARS_BUILD_MEDI</th>\n",
       "      <th>COMMONAREA_MEDI</th>\n",
       "      <th>ELEVATORS_MEDI</th>\n",
       "      <th>ENTRANCES_MEDI</th>\n",
       "      <th>FLOORSMAX_MEDI</th>\n",
       "      <th>FLOORSMIN_MEDI</th>\n",
       "      <th>LANDAREA_MEDI</th>\n",
       "      <th>LIVINGAPARTMENTS_MEDI</th>\n",
       "      <th>LIVINGAREA_MEDI</th>\n",
       "      <th>NONLIVINGAPARTMENTS_MEDI</th>\n",
       "      <th>NONLIVINGAREA_MEDI</th>\n",
       "      <th>FONDKAPREMONT_MODE</th>\n",
       "      <th>HOUSETYPE_MODE</th>\n",
       "      <th>TOTALAREA_MODE</th>\n",
       "      <th>WALLSMATERIAL_MODE</th>\n",
       "      <th>EMERGENCYSTATE_MODE</th>\n",
       "      <th>OBS_30_CNT_SOCIAL_CIRCLE</th>\n",
       "      <th>DEF_30_CNT_SOCIAL_CIRCLE</th>\n",
       "      <th>OBS_60_CNT_SOCIAL_CIRCLE</th>\n",
       "      <th>DEF_60_CNT_SOCIAL_CIRCLE</th>\n",
       "      <th>DAYS_LAST_PHONE_CHANGE</th>\n",
       "      <th>AMT_REQ_CREDIT_BUREAU_HOUR</th>\n",
       "      <th>AMT_REQ_CREDIT_BUREAU_DAY</th>\n",
       "      <th>AMT_REQ_CREDIT_BUREAU_WEEK</th>\n",
       "      <th>AMT_REQ_CREDIT_BUREAU_MON</th>\n",
       "      <th>AMT_REQ_CREDIT_BUREAU_QRT</th>\n",
       "      <th>AMT_REQ_CREDIT_BUREAU_YEAR</th>\n",
       "      <th>date_mensuelle</th>\n",
       "      <th>CB_SK_ID_CURR</th>\n",
       "      <th>CB_AMT_CREDIT_SUM_DEBT</th>\n",
       "      <th>CB_NB_CREDIT_ACTIVE</th>\n",
       "      <th>CB_NB_CREDIT_CLOSED</th>\n",
       "      <th>CB_DAYS_CREDIT</th>\n",
       "      <th>CB_DAYS_CREDIT_ENDDATE</th>\n",
       "      <th>CB_AMT_CREDIT_SUM</th>\n",
       "      <th>CB_AMT_ANNUITY</th>\n",
       "      <th>HAS_CHILDREN</th>\n",
       "      <th>date_annee</th>\n",
       "      <th>NAME_FAMILY_STATUS_2</th>\n",
       "      <th>FAM_STATS_CHILD</th>\n",
       "      <th>AMT_CREDIT_TO_INCOME</th>\n",
       "      <th>AMT_CREDIT_NORM</th>\n",
       "      <th>AMT_INCOME_TOTAL_NORM</th>\n",
       "      <th>BORROWER_AGE</th>\n",
       "      <th>BORROWER_SENIORITY</th>\n",
       "      <th>BORROWER_FIDELITY</th>\n",
       "      <th>Note</th>\n",
       "      <th>Segment</th>\n",
       "    </tr>\n",
       "  </thead>\n",
       "  <tbody>\n",
       "    <tr>\n",
       "      <th>267743</th>\n",
       "      <td>282976</td>\n",
       "      <td>0</td>\n",
       "      <td>Revolving loans</td>\n",
       "      <td>M</td>\n",
       "      <td>Y</td>\n",
       "      <td>Y</td>\n",
       "      <td>94500.0</td>\n",
       "      <td>270000.0</td>\n",
       "      <td>(0.0662, 0.153]</td>\n",
       "      <td>NaN</td>\n",
       "      <td>Unaccompanied</td>\n",
       "      <td>Working</td>\n",
       "      <td>Non graduated</td>\n",
       "      <td>Married</td>\n",
       "      <td>House / apartment</td>\n",
       "      <td>0.018850</td>\n",
       "      <td>-11400</td>\n",
       "      <td>-259</td>\n",
       "      <td>-2159.0</td>\n",
       "      <td>-4020</td>\n",
       "      <td>34.0</td>\n",
       "      <td>1</td>\n",
       "      <td>1</td>\n",
       "      <td>0</td>\n",
       "      <td>1</td>\n",
       "      <td>0</td>\n",
       "      <td>0</td>\n",
       "      <td>1</td>\n",
       "      <td>5.0</td>\n",
       "      <td>2</td>\n",
       "      <td>2</td>\n",
       "      <td>SATURDAY</td>\n",
       "      <td>11</td>\n",
       "      <td>0</td>\n",
       "      <td>0</td>\n",
       "      <td>0</td>\n",
       "      <td>0</td>\n",
       "      <td>1</td>\n",
       "      <td>1</td>\n",
       "      <td>Business Entity Type 3</td>\n",
       "      <td>NaN</td>\n",
       "      <td>0.650327</td>\n",
       "      <td>0.657784</td>\n",
       "      <td>NaN</td>\n",
       "      <td>NaN</td>\n",
       "      <td>NaN</td>\n",
       "      <td>NaN</td>\n",
       "      <td>NaN</td>\n",
       "      <td>NaN</td>\n",
       "      <td>NaN</td>\n",
       "      <td>NaN</td>\n",
       "      <td>NaN</td>\n",
       "      <td>NaN</td>\n",
       "      <td>NaN</td>\n",
       "      <td>NaN</td>\n",
       "      <td>NaN</td>\n",
       "      <td>NaN</td>\n",
       "      <td>NaN</td>\n",
       "      <td>NaN</td>\n",
       "      <td>NaN</td>\n",
       "      <td>NaN</td>\n",
       "      <td>NaN</td>\n",
       "      <td>NaN</td>\n",
       "      <td>NaN</td>\n",
       "      <td>NaN</td>\n",
       "      <td>NaN</td>\n",
       "      <td>NaN</td>\n",
       "      <td>NaN</td>\n",
       "      <td>NaN</td>\n",
       "      <td>NaN</td>\n",
       "      <td>NaN</td>\n",
       "      <td>NaN</td>\n",
       "      <td>NaN</td>\n",
       "      <td>NaN</td>\n",
       "      <td>NaN</td>\n",
       "      <td>NaN</td>\n",
       "      <td>NaN</td>\n",
       "      <td>NaN</td>\n",
       "      <td>NaN</td>\n",
       "      <td>NaN</td>\n",
       "      <td>NaN</td>\n",
       "      <td>NaN</td>\n",
       "      <td>NaN</td>\n",
       "      <td>NaN</td>\n",
       "      <td>NaN</td>\n",
       "      <td>NaN</td>\n",
       "      <td>NaN</td>\n",
       "      <td>NaN</td>\n",
       "      <td>NaN</td>\n",
       "      <td>NaN</td>\n",
       "      <td>2.0</td>\n",
       "      <td>2.0</td>\n",
       "      <td>2.0</td>\n",
       "      <td>2.0</td>\n",
       "      <td>(-1329.5, -937.5]</td>\n",
       "      <td>0.0</td>\n",
       "      <td>0.0</td>\n",
       "      <td>0.0</td>\n",
       "      <td>0.0</td>\n",
       "      <td>0.0</td>\n",
       "      <td>0.0</td>\n",
       "      <td>2020-01-01</td>\n",
       "      <td>282976</td>\n",
       "      <td>(268852.5, 2259694.5]</td>\n",
       "      <td>1.0</td>\n",
       "      <td>(-inf, 0.5]</td>\n",
       "      <td>(-2921.5, -254.5]</td>\n",
       "      <td>(-inf, 1301.5]</td>\n",
       "      <td>(-inf, 675243.656]</td>\n",
       "      <td>(-inf, 2.475]</td>\n",
       "      <td>Y</td>\n",
       "      <td>2020</td>\n",
       "      <td>Already_Married</td>\n",
       "      <td>Already_Married-HAS_CHILDREN_Y</td>\n",
       "      <td>(4.85, inf]</td>\n",
       "      <td>NaN</td>\n",
       "      <td>NaN</td>\n",
       "      <td>(30.5, 38.5]</td>\n",
       "      <td>(-inf, 2.5]</td>\n",
       "      <td>(2.5, 16.5]</td>\n",
       "      <td>315</td>\n",
       "      <td>0</td>\n",
       "    </tr>\n",
       "    <tr>\n",
       "      <th>267744</th>\n",
       "      <td>179913</td>\n",
       "      <td>0</td>\n",
       "      <td>Cash loans</td>\n",
       "      <td>M</td>\n",
       "      <td>N</td>\n",
       "      <td>Y</td>\n",
       "      <td>157500.0</td>\n",
       "      <td>417024.0</td>\n",
       "      <td>(0.153, 0.458]</td>\n",
       "      <td>NaN</td>\n",
       "      <td>Unaccompanied</td>\n",
       "      <td>Working</td>\n",
       "      <td>Non graduated</td>\n",
       "      <td>Separated</td>\n",
       "      <td>House / apartment</td>\n",
       "      <td>0.035792</td>\n",
       "      <td>-20884</td>\n",
       "      <td>-2367</td>\n",
       "      <td>-10706.0</td>\n",
       "      <td>-2996</td>\n",
       "      <td>NaN</td>\n",
       "      <td>1</td>\n",
       "      <td>1</td>\n",
       "      <td>0</td>\n",
       "      <td>1</td>\n",
       "      <td>0</td>\n",
       "      <td>0</td>\n",
       "      <td>1</td>\n",
       "      <td>1.0</td>\n",
       "      <td>2</td>\n",
       "      <td>2</td>\n",
       "      <td>TUESDAY</td>\n",
       "      <td>16</td>\n",
       "      <td>0</td>\n",
       "      <td>0</td>\n",
       "      <td>0</td>\n",
       "      <td>0</td>\n",
       "      <td>0</td>\n",
       "      <td>0</td>\n",
       "      <td>Medicine</td>\n",
       "      <td>0.495196</td>\n",
       "      <td>0.692325</td>\n",
       "      <td>0.339288</td>\n",
       "      <td>0.0990</td>\n",
       "      <td>0.0430</td>\n",
       "      <td>0.9836</td>\n",
       "      <td>0.7756</td>\n",
       "      <td>0.0370</td>\n",
       "      <td>0.00</td>\n",
       "      <td>0.0690</td>\n",
       "      <td>0.1667</td>\n",
       "      <td>0.2083</td>\n",
       "      <td>0.0332</td>\n",
       "      <td>0.0790</td>\n",
       "      <td>0.0394</td>\n",
       "      <td>0.0077</td>\n",
       "      <td>0.0011</td>\n",
       "      <td>0.1008</td>\n",
       "      <td>0.0447</td>\n",
       "      <td>0.9836</td>\n",
       "      <td>0.7844</td>\n",
       "      <td>0.0374</td>\n",
       "      <td>0.0000</td>\n",
       "      <td>0.0690</td>\n",
       "      <td>0.1667</td>\n",
       "      <td>0.2083</td>\n",
       "      <td>0.0340</td>\n",
       "      <td>0.0863</td>\n",
       "      <td>0.0411</td>\n",
       "      <td>0.0078</td>\n",
       "      <td>0.0012</td>\n",
       "      <td>0.0999</td>\n",
       "      <td>0.0430</td>\n",
       "      <td>0.9836</td>\n",
       "      <td>0.7786</td>\n",
       "      <td>0.0373</td>\n",
       "      <td>0.00</td>\n",
       "      <td>0.0690</td>\n",
       "      <td>0.1667</td>\n",
       "      <td>0.2083</td>\n",
       "      <td>0.0338</td>\n",
       "      <td>0.0804</td>\n",
       "      <td>0.0402</td>\n",
       "      <td>0.0078</td>\n",
       "      <td>0.0011</td>\n",
       "      <td>reg oper account</td>\n",
       "      <td>block of flats</td>\n",
       "      <td>0.0513</td>\n",
       "      <td>Panel</td>\n",
       "      <td>No</td>\n",
       "      <td>1.0</td>\n",
       "      <td>1.0</td>\n",
       "      <td>1.0</td>\n",
       "      <td>1.0</td>\n",
       "      <td>(-inf, -1329.5]</td>\n",
       "      <td>0.0</td>\n",
       "      <td>0.0</td>\n",
       "      <td>0.0</td>\n",
       "      <td>0.0</td>\n",
       "      <td>0.0</td>\n",
       "      <td>2.0</td>\n",
       "      <td>2020-01-01</td>\n",
       "      <td>179913</td>\n",
       "      <td>(268852.5, 2259694.5]</td>\n",
       "      <td>3.0</td>\n",
       "      <td>(1.5, inf]</td>\n",
       "      <td>(-254.5, -47.5]</td>\n",
       "      <td>(1301.5, 13433.5]</td>\n",
       "      <td>(-inf, 675243.656]</td>\n",
       "      <td>(36604.711, inf]</td>\n",
       "      <td>N</td>\n",
       "      <td>2020</td>\n",
       "      <td>Already_Married</td>\n",
       "      <td>Already_Married-HAS_CHILDREN_N</td>\n",
       "      <td>(4.85, inf]</td>\n",
       "      <td>NaN</td>\n",
       "      <td>NaN</td>\n",
       "      <td>(52.5, inf]</td>\n",
       "      <td>(4.5, 10.5]</td>\n",
       "      <td>(24.5, inf]</td>\n",
       "      <td>520</td>\n",
       "      <td>2</td>\n",
       "    </tr>\n",
       "    <tr>\n",
       "      <th>267745</th>\n",
       "      <td>445626</td>\n",
       "      <td>0</td>\n",
       "      <td>Cash loans</td>\n",
       "      <td>M</td>\n",
       "      <td>N</td>\n",
       "      <td>N</td>\n",
       "      <td>135000.0</td>\n",
       "      <td>241618.5</td>\n",
       "      <td>(0.153, 0.458]</td>\n",
       "      <td>NaN</td>\n",
       "      <td>Unaccompanied</td>\n",
       "      <td>Working</td>\n",
       "      <td>Non graduated</td>\n",
       "      <td>Married</td>\n",
       "      <td>House / apartment</td>\n",
       "      <td>0.018850</td>\n",
       "      <td>-13547</td>\n",
       "      <td>-2274</td>\n",
       "      <td>-7444.0</td>\n",
       "      <td>-3968</td>\n",
       "      <td>NaN</td>\n",
       "      <td>1</td>\n",
       "      <td>1</td>\n",
       "      <td>1</td>\n",
       "      <td>1</td>\n",
       "      <td>0</td>\n",
       "      <td>0</td>\n",
       "      <td>3</td>\n",
       "      <td>4.0</td>\n",
       "      <td>2</td>\n",
       "      <td>2</td>\n",
       "      <td>SUNDAY</td>\n",
       "      <td>21</td>\n",
       "      <td>0</td>\n",
       "      <td>0</td>\n",
       "      <td>0</td>\n",
       "      <td>0</td>\n",
       "      <td>0</td>\n",
       "      <td>0</td>\n",
       "      <td>Self-employed</td>\n",
       "      <td>NaN</td>\n",
       "      <td>0.737402</td>\n",
       "      <td>0.812823</td>\n",
       "      <td>NaN</td>\n",
       "      <td>NaN</td>\n",
       "      <td>0.9672</td>\n",
       "      <td>NaN</td>\n",
       "      <td>NaN</td>\n",
       "      <td>NaN</td>\n",
       "      <td>NaN</td>\n",
       "      <td>NaN</td>\n",
       "      <td>NaN</td>\n",
       "      <td>NaN</td>\n",
       "      <td>NaN</td>\n",
       "      <td>NaN</td>\n",
       "      <td>NaN</td>\n",
       "      <td>NaN</td>\n",
       "      <td>NaN</td>\n",
       "      <td>NaN</td>\n",
       "      <td>0.9672</td>\n",
       "      <td>NaN</td>\n",
       "      <td>NaN</td>\n",
       "      <td>NaN</td>\n",
       "      <td>NaN</td>\n",
       "      <td>NaN</td>\n",
       "      <td>NaN</td>\n",
       "      <td>NaN</td>\n",
       "      <td>NaN</td>\n",
       "      <td>NaN</td>\n",
       "      <td>NaN</td>\n",
       "      <td>NaN</td>\n",
       "      <td>NaN</td>\n",
       "      <td>NaN</td>\n",
       "      <td>0.9672</td>\n",
       "      <td>NaN</td>\n",
       "      <td>NaN</td>\n",
       "      <td>NaN</td>\n",
       "      <td>NaN</td>\n",
       "      <td>NaN</td>\n",
       "      <td>NaN</td>\n",
       "      <td>NaN</td>\n",
       "      <td>NaN</td>\n",
       "      <td>NaN</td>\n",
       "      <td>NaN</td>\n",
       "      <td>NaN</td>\n",
       "      <td>NaN</td>\n",
       "      <td>NaN</td>\n",
       "      <td>0.0017</td>\n",
       "      <td>NaN</td>\n",
       "      <td>No</td>\n",
       "      <td>2.0</td>\n",
       "      <td>0.0</td>\n",
       "      <td>2.0</td>\n",
       "      <td>0.0</td>\n",
       "      <td>(-inf, -1329.5]</td>\n",
       "      <td>0.0</td>\n",
       "      <td>0.0</td>\n",
       "      <td>0.0</td>\n",
       "      <td>0.0</td>\n",
       "      <td>1.0</td>\n",
       "      <td>0.0</td>\n",
       "      <td>2020-01-01</td>\n",
       "      <td>445626</td>\n",
       "      <td>(-inf, 6846.052]</td>\n",
       "      <td>0.0</td>\n",
       "      <td>(0.5, 1.5]</td>\n",
       "      <td>(-inf, -2921.5]</td>\n",
       "      <td>(-inf, 1301.5]</td>\n",
       "      <td>(-inf, 675243.656]</td>\n",
       "      <td>(-inf, 2.475]</td>\n",
       "      <td>Y</td>\n",
       "      <td>2020</td>\n",
       "      <td>Already_Married</td>\n",
       "      <td>Already_Married-HAS_CHILDREN_Y</td>\n",
       "      <td>(-inf, 1.913]</td>\n",
       "      <td>NaN</td>\n",
       "      <td>NaN</td>\n",
       "      <td>(30.5, 38.5]</td>\n",
       "      <td>(4.5, 10.5]</td>\n",
       "      <td>(16.5, 24.5]</td>\n",
       "      <td>372</td>\n",
       "      <td>1</td>\n",
       "    </tr>\n",
       "    <tr>\n",
       "      <th>267746</th>\n",
       "      <td>344490</td>\n",
       "      <td>0</td>\n",
       "      <td>Cash loans</td>\n",
       "      <td>F</td>\n",
       "      <td>N</td>\n",
       "      <td>Y</td>\n",
       "      <td>193500.0</td>\n",
       "      <td>755190.0</td>\n",
       "      <td>(0.153, 0.458]</td>\n",
       "      <td>NaN</td>\n",
       "      <td>Unaccompanied</td>\n",
       "      <td>Pensioner</td>\n",
       "      <td>Non graduated</td>\n",
       "      <td>Widow</td>\n",
       "      <td>House / apartment</td>\n",
       "      <td>0.004960</td>\n",
       "      <td>-19904</td>\n",
       "      <td>365243</td>\n",
       "      <td>-11191.0</td>\n",
       "      <td>-3451</td>\n",
       "      <td>NaN</td>\n",
       "      <td>1</td>\n",
       "      <td>0</td>\n",
       "      <td>0</td>\n",
       "      <td>1</td>\n",
       "      <td>0</td>\n",
       "      <td>0</td>\n",
       "      <td>1</td>\n",
       "      <td>1.0</td>\n",
       "      <td>2</td>\n",
       "      <td>2</td>\n",
       "      <td>WEDNESDAY</td>\n",
       "      <td>17</td>\n",
       "      <td>0</td>\n",
       "      <td>0</td>\n",
       "      <td>0</td>\n",
       "      <td>0</td>\n",
       "      <td>0</td>\n",
       "      <td>0</td>\n",
       "      <td>XNA</td>\n",
       "      <td>NaN</td>\n",
       "      <td>0.285791</td>\n",
       "      <td>0.431192</td>\n",
       "      <td>0.0928</td>\n",
       "      <td>NaN</td>\n",
       "      <td>0.9811</td>\n",
       "      <td>0.7960</td>\n",
       "      <td>NaN</td>\n",
       "      <td>0.00</td>\n",
       "      <td>0.1897</td>\n",
       "      <td>0.1667</td>\n",
       "      <td>0.2083</td>\n",
       "      <td>0.0611</td>\n",
       "      <td>NaN</td>\n",
       "      <td>0.0860</td>\n",
       "      <td>NaN</td>\n",
       "      <td>0.0213</td>\n",
       "      <td>0.0945</td>\n",
       "      <td>NaN</td>\n",
       "      <td>0.9772</td>\n",
       "      <td>0.8040</td>\n",
       "      <td>NaN</td>\n",
       "      <td>0.0000</td>\n",
       "      <td>0.1724</td>\n",
       "      <td>0.1667</td>\n",
       "      <td>0.2083</td>\n",
       "      <td>0.0625</td>\n",
       "      <td>NaN</td>\n",
       "      <td>0.0896</td>\n",
       "      <td>NaN</td>\n",
       "      <td>0.0225</td>\n",
       "      <td>0.0937</td>\n",
       "      <td>NaN</td>\n",
       "      <td>0.9811</td>\n",
       "      <td>0.7987</td>\n",
       "      <td>NaN</td>\n",
       "      <td>0.00</td>\n",
       "      <td>0.1897</td>\n",
       "      <td>0.1667</td>\n",
       "      <td>0.2083</td>\n",
       "      <td>0.0622</td>\n",
       "      <td>NaN</td>\n",
       "      <td>0.0876</td>\n",
       "      <td>NaN</td>\n",
       "      <td>0.0217</td>\n",
       "      <td>not specified</td>\n",
       "      <td>block of flats</td>\n",
       "      <td>0.0721</td>\n",
       "      <td>NaN</td>\n",
       "      <td>No</td>\n",
       "      <td>5.0</td>\n",
       "      <td>0.0</td>\n",
       "      <td>5.0</td>\n",
       "      <td>0.0</td>\n",
       "      <td>(-724.5, inf]</td>\n",
       "      <td>0.0</td>\n",
       "      <td>0.0</td>\n",
       "      <td>0.0</td>\n",
       "      <td>0.0</td>\n",
       "      <td>0.0</td>\n",
       "      <td>2.0</td>\n",
       "      <td>2020-01-01</td>\n",
       "      <td>344490</td>\n",
       "      <td>(6846.052, 268852.5]</td>\n",
       "      <td>1.0</td>\n",
       "      <td>(0.5, 1.5]</td>\n",
       "      <td>(-47.5, inf]</td>\n",
       "      <td>(-inf, 1301.5]</td>\n",
       "      <td>(-inf, 675243.656]</td>\n",
       "      <td>(-inf, 2.475]</td>\n",
       "      <td>N</td>\n",
       "      <td>2020</td>\n",
       "      <td>Already_Married</td>\n",
       "      <td>Already_Married-HAS_CHILDREN_N</td>\n",
       "      <td>(1.913, 4.85]</td>\n",
       "      <td>NaN</td>\n",
       "      <td>NaN</td>\n",
       "      <td>(52.5, inf]</td>\n",
       "      <td>(10.5, inf]</td>\n",
       "      <td>(24.5, inf]</td>\n",
       "      <td>406</td>\n",
       "      <td>1</td>\n",
       "    </tr>\n",
       "    <tr>\n",
       "      <th>267747</th>\n",
       "      <td>291254</td>\n",
       "      <td>0</td>\n",
       "      <td>Cash loans</td>\n",
       "      <td>M</td>\n",
       "      <td>N</td>\n",
       "      <td>N</td>\n",
       "      <td>431478.0</td>\n",
       "      <td>3150000.0</td>\n",
       "      <td>(0.153, 0.458]</td>\n",
       "      <td>NaN</td>\n",
       "      <td>Unaccompanied</td>\n",
       "      <td>Commercial associate</td>\n",
       "      <td>Graduated</td>\n",
       "      <td>Married</td>\n",
       "      <td>House / apartment</td>\n",
       "      <td>0.018634</td>\n",
       "      <td>-17355</td>\n",
       "      <td>-2361</td>\n",
       "      <td>-7541.0</td>\n",
       "      <td>-911</td>\n",
       "      <td>NaN</td>\n",
       "      <td>1</td>\n",
       "      <td>1</td>\n",
       "      <td>1</td>\n",
       "      <td>1</td>\n",
       "      <td>0</td>\n",
       "      <td>0</td>\n",
       "      <td>1</td>\n",
       "      <td>2.0</td>\n",
       "      <td>2</td>\n",
       "      <td>2</td>\n",
       "      <td>WEDNESDAY</td>\n",
       "      <td>14</td>\n",
       "      <td>1</td>\n",
       "      <td>1</td>\n",
       "      <td>0</td>\n",
       "      <td>1</td>\n",
       "      <td>1</td>\n",
       "      <td>0</td>\n",
       "      <td>Trade: type 2</td>\n",
       "      <td>NaN</td>\n",
       "      <td>0.683944</td>\n",
       "      <td>0.689479</td>\n",
       "      <td>0.0990</td>\n",
       "      <td>NaN</td>\n",
       "      <td>0.9846</td>\n",
       "      <td>0.7892</td>\n",
       "      <td>0.0331</td>\n",
       "      <td>0.16</td>\n",
       "      <td>0.0690</td>\n",
       "      <td>0.4583</td>\n",
       "      <td>0.0417</td>\n",
       "      <td>NaN</td>\n",
       "      <td>0.0807</td>\n",
       "      <td>0.0947</td>\n",
       "      <td>0.0000</td>\n",
       "      <td>0.0000</td>\n",
       "      <td>0.1008</td>\n",
       "      <td>NaN</td>\n",
       "      <td>0.9846</td>\n",
       "      <td>0.7975</td>\n",
       "      <td>0.0334</td>\n",
       "      <td>0.1611</td>\n",
       "      <td>0.0690</td>\n",
       "      <td>0.4583</td>\n",
       "      <td>0.0417</td>\n",
       "      <td>NaN</td>\n",
       "      <td>0.0882</td>\n",
       "      <td>0.0986</td>\n",
       "      <td>0.0000</td>\n",
       "      <td>0.0000</td>\n",
       "      <td>0.0999</td>\n",
       "      <td>NaN</td>\n",
       "      <td>0.9846</td>\n",
       "      <td>0.7920</td>\n",
       "      <td>0.0333</td>\n",
       "      <td>0.16</td>\n",
       "      <td>0.0690</td>\n",
       "      <td>0.4583</td>\n",
       "      <td>0.0417</td>\n",
       "      <td>NaN</td>\n",
       "      <td>0.0821</td>\n",
       "      <td>0.0964</td>\n",
       "      <td>0.0000</td>\n",
       "      <td>0.0000</td>\n",
       "      <td>reg oper spec account</td>\n",
       "      <td>block of flats</td>\n",
       "      <td>0.0922</td>\n",
       "      <td>Panel</td>\n",
       "      <td>No</td>\n",
       "      <td>0.0</td>\n",
       "      <td>0.0</td>\n",
       "      <td>0.0</td>\n",
       "      <td>0.0</td>\n",
       "      <td>(-inf, -1329.5]</td>\n",
       "      <td>0.0</td>\n",
       "      <td>0.0</td>\n",
       "      <td>0.0</td>\n",
       "      <td>0.0</td>\n",
       "      <td>0.0</td>\n",
       "      <td>0.0</td>\n",
       "      <td>2020-01-01</td>\n",
       "      <td>291254</td>\n",
       "      <td>(268852.5, 2259694.5]</td>\n",
       "      <td>1.0</td>\n",
       "      <td>(-inf, 0.5]</td>\n",
       "      <td>(-2921.5, -254.5]</td>\n",
       "      <td>(-inf, 1301.5]</td>\n",
       "      <td>(675243.656, 3736824.625]</td>\n",
       "      <td>(-inf, 2.475]</td>\n",
       "      <td>N</td>\n",
       "      <td>2020</td>\n",
       "      <td>Already_Married</td>\n",
       "      <td>Already_Married-HAS_CHILDREN_N</td>\n",
       "      <td>(4.85, inf]</td>\n",
       "      <td>NaN</td>\n",
       "      <td>NaN</td>\n",
       "      <td>(38.5, 52.5]</td>\n",
       "      <td>(4.5, 10.5]</td>\n",
       "      <td>(16.5, 24.5]</td>\n",
       "      <td>589</td>\n",
       "      <td>3</td>\n",
       "    </tr>\n",
       "    <tr>\n",
       "      <th>...</th>\n",
       "      <td>...</td>\n",
       "      <td>...</td>\n",
       "      <td>...</td>\n",
       "      <td>...</td>\n",
       "      <td>...</td>\n",
       "      <td>...</td>\n",
       "      <td>...</td>\n",
       "      <td>...</td>\n",
       "      <td>...</td>\n",
       "      <td>...</td>\n",
       "      <td>...</td>\n",
       "      <td>...</td>\n",
       "      <td>...</td>\n",
       "      <td>...</td>\n",
       "      <td>...</td>\n",
       "      <td>...</td>\n",
       "      <td>...</td>\n",
       "      <td>...</td>\n",
       "      <td>...</td>\n",
       "      <td>...</td>\n",
       "      <td>...</td>\n",
       "      <td>...</td>\n",
       "      <td>...</td>\n",
       "      <td>...</td>\n",
       "      <td>...</td>\n",
       "      <td>...</td>\n",
       "      <td>...</td>\n",
       "      <td>...</td>\n",
       "      <td>...</td>\n",
       "      <td>...</td>\n",
       "      <td>...</td>\n",
       "      <td>...</td>\n",
       "      <td>...</td>\n",
       "      <td>...</td>\n",
       "      <td>...</td>\n",
       "      <td>...</td>\n",
       "      <td>...</td>\n",
       "      <td>...</td>\n",
       "      <td>...</td>\n",
       "      <td>...</td>\n",
       "      <td>...</td>\n",
       "      <td>...</td>\n",
       "      <td>...</td>\n",
       "      <td>...</td>\n",
       "      <td>...</td>\n",
       "      <td>...</td>\n",
       "      <td>...</td>\n",
       "      <td>...</td>\n",
       "      <td>...</td>\n",
       "      <td>...</td>\n",
       "      <td>...</td>\n",
       "      <td>...</td>\n",
       "      <td>...</td>\n",
       "      <td>...</td>\n",
       "      <td>...</td>\n",
       "      <td>...</td>\n",
       "      <td>...</td>\n",
       "      <td>...</td>\n",
       "      <td>...</td>\n",
       "      <td>...</td>\n",
       "      <td>...</td>\n",
       "      <td>...</td>\n",
       "      <td>...</td>\n",
       "      <td>...</td>\n",
       "      <td>...</td>\n",
       "      <td>...</td>\n",
       "      <td>...</td>\n",
       "      <td>...</td>\n",
       "      <td>...</td>\n",
       "      <td>...</td>\n",
       "      <td>...</td>\n",
       "      <td>...</td>\n",
       "      <td>...</td>\n",
       "      <td>...</td>\n",
       "      <td>...</td>\n",
       "      <td>...</td>\n",
       "      <td>...</td>\n",
       "      <td>...</td>\n",
       "      <td>...</td>\n",
       "      <td>...</td>\n",
       "      <td>...</td>\n",
       "      <td>...</td>\n",
       "      <td>...</td>\n",
       "      <td>...</td>\n",
       "      <td>...</td>\n",
       "      <td>...</td>\n",
       "      <td>...</td>\n",
       "      <td>...</td>\n",
       "      <td>...</td>\n",
       "      <td>...</td>\n",
       "      <td>...</td>\n",
       "      <td>...</td>\n",
       "      <td>...</td>\n",
       "      <td>...</td>\n",
       "      <td>...</td>\n",
       "      <td>...</td>\n",
       "      <td>...</td>\n",
       "      <td>...</td>\n",
       "      <td>...</td>\n",
       "      <td>...</td>\n",
       "      <td>...</td>\n",
       "      <td>...</td>\n",
       "      <td>...</td>\n",
       "      <td>...</td>\n",
       "      <td>...</td>\n",
       "      <td>...</td>\n",
       "      <td>...</td>\n",
       "      <td>...</td>\n",
       "      <td>...</td>\n",
       "      <td>...</td>\n",
       "      <td>...</td>\n",
       "      <td>...</td>\n",
       "      <td>...</td>\n",
       "      <td>...</td>\n",
       "      <td>...</td>\n",
       "      <td>...</td>\n",
       "      <td>...</td>\n",
       "      <td>...</td>\n",
       "      <td>...</td>\n",
       "      <td>...</td>\n",
       "      <td>...</td>\n",
       "      <td>...</td>\n",
       "    </tr>\n",
       "    <tr>\n",
       "      <th>306102</th>\n",
       "      <td>150198</td>\n",
       "      <td>0</td>\n",
       "      <td>Cash loans</td>\n",
       "      <td>F</td>\n",
       "      <td>N</td>\n",
       "      <td>N</td>\n",
       "      <td>148500.0</td>\n",
       "      <td>669600.0</td>\n",
       "      <td>(0.153, 0.458]</td>\n",
       "      <td>NaN</td>\n",
       "      <td>Spouse, partner</td>\n",
       "      <td>Pensioner</td>\n",
       "      <td>Non graduated</td>\n",
       "      <td>Married</td>\n",
       "      <td>House / apartment</td>\n",
       "      <td>0.020246</td>\n",
       "      <td>-19046</td>\n",
       "      <td>365243</td>\n",
       "      <td>-296.0</td>\n",
       "      <td>-2602</td>\n",
       "      <td>NaN</td>\n",
       "      <td>1</td>\n",
       "      <td>0</td>\n",
       "      <td>0</td>\n",
       "      <td>1</td>\n",
       "      <td>0</td>\n",
       "      <td>0</td>\n",
       "      <td>1</td>\n",
       "      <td>2.0</td>\n",
       "      <td>3</td>\n",
       "      <td>3</td>\n",
       "      <td>SATURDAY</td>\n",
       "      <td>8</td>\n",
       "      <td>0</td>\n",
       "      <td>0</td>\n",
       "      <td>0</td>\n",
       "      <td>0</td>\n",
       "      <td>0</td>\n",
       "      <td>0</td>\n",
       "      <td>XNA</td>\n",
       "      <td>0.427680</td>\n",
       "      <td>0.068494</td>\n",
       "      <td>0.722393</td>\n",
       "      <td>0.0825</td>\n",
       "      <td>0.0000</td>\n",
       "      <td>0.9747</td>\n",
       "      <td>0.6532</td>\n",
       "      <td>0.0092</td>\n",
       "      <td>0.00</td>\n",
       "      <td>0.1379</td>\n",
       "      <td>0.1667</td>\n",
       "      <td>0.0417</td>\n",
       "      <td>0.0140</td>\n",
       "      <td>0.0672</td>\n",
       "      <td>0.0630</td>\n",
       "      <td>0.0000</td>\n",
       "      <td>0.0000</td>\n",
       "      <td>0.0840</td>\n",
       "      <td>0.0000</td>\n",
       "      <td>0.9747</td>\n",
       "      <td>0.6668</td>\n",
       "      <td>0.0092</td>\n",
       "      <td>0.0000</td>\n",
       "      <td>0.1379</td>\n",
       "      <td>0.1667</td>\n",
       "      <td>0.0417</td>\n",
       "      <td>0.0144</td>\n",
       "      <td>0.0735</td>\n",
       "      <td>0.0657</td>\n",
       "      <td>0.0000</td>\n",
       "      <td>0.0000</td>\n",
       "      <td>0.0833</td>\n",
       "      <td>0.0000</td>\n",
       "      <td>0.9747</td>\n",
       "      <td>0.6578</td>\n",
       "      <td>0.0092</td>\n",
       "      <td>0.00</td>\n",
       "      <td>0.1379</td>\n",
       "      <td>0.1667</td>\n",
       "      <td>0.0417</td>\n",
       "      <td>0.0143</td>\n",
       "      <td>0.0684</td>\n",
       "      <td>0.0642</td>\n",
       "      <td>0.0000</td>\n",
       "      <td>0.0000</td>\n",
       "      <td>reg oper account</td>\n",
       "      <td>block of flats</td>\n",
       "      <td>0.0546</td>\n",
       "      <td>Stone, brick</td>\n",
       "      <td>No</td>\n",
       "      <td>1.0</td>\n",
       "      <td>0.0</td>\n",
       "      <td>1.0</td>\n",
       "      <td>0.0</td>\n",
       "      <td>(-inf, -1329.5]</td>\n",
       "      <td>0.0</td>\n",
       "      <td>0.0</td>\n",
       "      <td>0.0</td>\n",
       "      <td>0.0</td>\n",
       "      <td>0.0</td>\n",
       "      <td>0.0</td>\n",
       "      <td>2020-12-01</td>\n",
       "      <td>150198</td>\n",
       "      <td>(268852.5, 2259694.5]</td>\n",
       "      <td>4.0</td>\n",
       "      <td>(1.5, inf]</td>\n",
       "      <td>(-2921.5, -254.5]</td>\n",
       "      <td>(1301.5, 13433.5]</td>\n",
       "      <td>(675243.656, 3736824.625]</td>\n",
       "      <td>(2.475, 36604.711]</td>\n",
       "      <td>N</td>\n",
       "      <td>2020</td>\n",
       "      <td>Already_Married</td>\n",
       "      <td>Already_Married-HAS_CHILDREN_N</td>\n",
       "      <td>(4.85, inf]</td>\n",
       "      <td>NaN</td>\n",
       "      <td>NaN</td>\n",
       "      <td>(38.5, 52.5]</td>\n",
       "      <td>(10.5, inf]</td>\n",
       "      <td>(-inf, 2.5]</td>\n",
       "      <td>609</td>\n",
       "      <td>3</td>\n",
       "    </tr>\n",
       "    <tr>\n",
       "      <th>306103</th>\n",
       "      <td>377351</td>\n",
       "      <td>0</td>\n",
       "      <td>Cash loans</td>\n",
       "      <td>F</td>\n",
       "      <td>N</td>\n",
       "      <td>Y</td>\n",
       "      <td>90000.0</td>\n",
       "      <td>312768.0</td>\n",
       "      <td>(0.153, 0.458]</td>\n",
       "      <td>NaN</td>\n",
       "      <td>Unaccompanied</td>\n",
       "      <td>Commercial associate</td>\n",
       "      <td>Non graduated</td>\n",
       "      <td>Separated</td>\n",
       "      <td>House / apartment</td>\n",
       "      <td>0.035792</td>\n",
       "      <td>-16483</td>\n",
       "      <td>-2692</td>\n",
       "      <td>-1728.0</td>\n",
       "      <td>-24</td>\n",
       "      <td>NaN</td>\n",
       "      <td>1</td>\n",
       "      <td>1</td>\n",
       "      <td>0</td>\n",
       "      <td>1</td>\n",
       "      <td>0</td>\n",
       "      <td>0</td>\n",
       "      <td>2</td>\n",
       "      <td>1.0</td>\n",
       "      <td>2</td>\n",
       "      <td>2</td>\n",
       "      <td>SATURDAY</td>\n",
       "      <td>12</td>\n",
       "      <td>0</td>\n",
       "      <td>0</td>\n",
       "      <td>0</td>\n",
       "      <td>0</td>\n",
       "      <td>1</td>\n",
       "      <td>1</td>\n",
       "      <td>Industry: type 4</td>\n",
       "      <td>NaN</td>\n",
       "      <td>0.661632</td>\n",
       "      <td>0.824595</td>\n",
       "      <td>NaN</td>\n",
       "      <td>NaN</td>\n",
       "      <td>NaN</td>\n",
       "      <td>NaN</td>\n",
       "      <td>NaN</td>\n",
       "      <td>NaN</td>\n",
       "      <td>NaN</td>\n",
       "      <td>NaN</td>\n",
       "      <td>NaN</td>\n",
       "      <td>NaN</td>\n",
       "      <td>NaN</td>\n",
       "      <td>NaN</td>\n",
       "      <td>NaN</td>\n",
       "      <td>NaN</td>\n",
       "      <td>NaN</td>\n",
       "      <td>NaN</td>\n",
       "      <td>NaN</td>\n",
       "      <td>NaN</td>\n",
       "      <td>NaN</td>\n",
       "      <td>NaN</td>\n",
       "      <td>NaN</td>\n",
       "      <td>NaN</td>\n",
       "      <td>NaN</td>\n",
       "      <td>NaN</td>\n",
       "      <td>NaN</td>\n",
       "      <td>NaN</td>\n",
       "      <td>NaN</td>\n",
       "      <td>NaN</td>\n",
       "      <td>NaN</td>\n",
       "      <td>NaN</td>\n",
       "      <td>NaN</td>\n",
       "      <td>NaN</td>\n",
       "      <td>NaN</td>\n",
       "      <td>NaN</td>\n",
       "      <td>NaN</td>\n",
       "      <td>NaN</td>\n",
       "      <td>NaN</td>\n",
       "      <td>NaN</td>\n",
       "      <td>NaN</td>\n",
       "      <td>NaN</td>\n",
       "      <td>NaN</td>\n",
       "      <td>NaN</td>\n",
       "      <td>NaN</td>\n",
       "      <td>NaN</td>\n",
       "      <td>NaN</td>\n",
       "      <td>NaN</td>\n",
       "      <td>NaN</td>\n",
       "      <td>0.0</td>\n",
       "      <td>0.0</td>\n",
       "      <td>0.0</td>\n",
       "      <td>0.0</td>\n",
       "      <td>(-inf, -1329.5]</td>\n",
       "      <td>0.0</td>\n",
       "      <td>0.0</td>\n",
       "      <td>0.0</td>\n",
       "      <td>0.0</td>\n",
       "      <td>2.0</td>\n",
       "      <td>2.0</td>\n",
       "      <td>2020-12-01</td>\n",
       "      <td>377351</td>\n",
       "      <td>(-inf, 6846.052]</td>\n",
       "      <td>0.0</td>\n",
       "      <td>(1.5, inf]</td>\n",
       "      <td>(-inf, -2921.5]</td>\n",
       "      <td>(-inf, 1301.5]</td>\n",
       "      <td>(-inf, 675243.656]</td>\n",
       "      <td>(-inf, 2.475]</td>\n",
       "      <td>N</td>\n",
       "      <td>2020</td>\n",
       "      <td>Already_Married</td>\n",
       "      <td>Already_Married-HAS_CHILDREN_N</td>\n",
       "      <td>(1.913, 4.85]</td>\n",
       "      <td>NaN</td>\n",
       "      <td>NaN</td>\n",
       "      <td>(38.5, 52.5]</td>\n",
       "      <td>(4.5, 10.5]</td>\n",
       "      <td>(2.5, 16.5]</td>\n",
       "      <td>529</td>\n",
       "      <td>2</td>\n",
       "    </tr>\n",
       "    <tr>\n",
       "      <th>306104</th>\n",
       "      <td>365430</td>\n",
       "      <td>0</td>\n",
       "      <td>Cash loans</td>\n",
       "      <td>F</td>\n",
       "      <td>N</td>\n",
       "      <td>Y</td>\n",
       "      <td>157500.0</td>\n",
       "      <td>1724220.0</td>\n",
       "      <td>(0.153, 0.458]</td>\n",
       "      <td>NaN</td>\n",
       "      <td>Family</td>\n",
       "      <td>Commercial associate</td>\n",
       "      <td>Non graduated</td>\n",
       "      <td>Married</td>\n",
       "      <td>House / apartment</td>\n",
       "      <td>0.072508</td>\n",
       "      <td>-16588</td>\n",
       "      <td>-1103</td>\n",
       "      <td>-1203.0</td>\n",
       "      <td>-110</td>\n",
       "      <td>NaN</td>\n",
       "      <td>1</td>\n",
       "      <td>1</td>\n",
       "      <td>0</td>\n",
       "      <td>1</td>\n",
       "      <td>1</td>\n",
       "      <td>0</td>\n",
       "      <td>1</td>\n",
       "      <td>2.0</td>\n",
       "      <td>1</td>\n",
       "      <td>1</td>\n",
       "      <td>MONDAY</td>\n",
       "      <td>15</td>\n",
       "      <td>0</td>\n",
       "      <td>0</td>\n",
       "      <td>0</td>\n",
       "      <td>0</td>\n",
       "      <td>0</td>\n",
       "      <td>0</td>\n",
       "      <td>Business Entity Type 3</td>\n",
       "      <td>NaN</td>\n",
       "      <td>0.740452</td>\n",
       "      <td>NaN</td>\n",
       "      <td>0.1155</td>\n",
       "      <td>0.0672</td>\n",
       "      <td>0.9776</td>\n",
       "      <td>0.6940</td>\n",
       "      <td>0.0422</td>\n",
       "      <td>0.12</td>\n",
       "      <td>0.0862</td>\n",
       "      <td>0.3958</td>\n",
       "      <td>0.4375</td>\n",
       "      <td>0.1089</td>\n",
       "      <td>0.0929</td>\n",
       "      <td>0.0691</td>\n",
       "      <td>0.0058</td>\n",
       "      <td>0.0356</td>\n",
       "      <td>0.0840</td>\n",
       "      <td>0.0396</td>\n",
       "      <td>0.9777</td>\n",
       "      <td>0.7060</td>\n",
       "      <td>0.0242</td>\n",
       "      <td>0.0806</td>\n",
       "      <td>0.0345</td>\n",
       "      <td>0.3333</td>\n",
       "      <td>0.3750</td>\n",
       "      <td>0.1041</td>\n",
       "      <td>0.0707</td>\n",
       "      <td>0.0455</td>\n",
       "      <td>0.0000</td>\n",
       "      <td>0.0013</td>\n",
       "      <td>0.1166</td>\n",
       "      <td>0.0672</td>\n",
       "      <td>0.9776</td>\n",
       "      <td>0.6981</td>\n",
       "      <td>0.0425</td>\n",
       "      <td>0.12</td>\n",
       "      <td>0.0862</td>\n",
       "      <td>0.3958</td>\n",
       "      <td>0.4375</td>\n",
       "      <td>0.1108</td>\n",
       "      <td>0.0945</td>\n",
       "      <td>0.0704</td>\n",
       "      <td>0.0058</td>\n",
       "      <td>0.0363</td>\n",
       "      <td>reg oper spec account</td>\n",
       "      <td>block of flats</td>\n",
       "      <td>0.0538</td>\n",
       "      <td>Panel</td>\n",
       "      <td>No</td>\n",
       "      <td>0.0</td>\n",
       "      <td>0.0</td>\n",
       "      <td>0.0</td>\n",
       "      <td>0.0</td>\n",
       "      <td>(-724.5, inf]</td>\n",
       "      <td>NaN</td>\n",
       "      <td>NaN</td>\n",
       "      <td>NaN</td>\n",
       "      <td>NaN</td>\n",
       "      <td>NaN</td>\n",
       "      <td>NaN</td>\n",
       "      <td>2020-12-01</td>\n",
       "      <td>365430</td>\n",
       "      <td>(-inf, 6846.052]</td>\n",
       "      <td>0.0</td>\n",
       "      <td>(-inf, 0.5]</td>\n",
       "      <td>(-inf, -2921.5]</td>\n",
       "      <td>(-inf, 1301.5]</td>\n",
       "      <td>(-inf, 675243.656]</td>\n",
       "      <td>(-inf, 2.475]</td>\n",
       "      <td>N</td>\n",
       "      <td>2020</td>\n",
       "      <td>Already_Married</td>\n",
       "      <td>Already_Married-HAS_CHILDREN_N</td>\n",
       "      <td>(4.85, inf]</td>\n",
       "      <td>NaN</td>\n",
       "      <td>NaN</td>\n",
       "      <td>(38.5, 52.5]</td>\n",
       "      <td>(2.5, 4.5]</td>\n",
       "      <td>(2.5, 16.5]</td>\n",
       "      <td>399</td>\n",
       "      <td>1</td>\n",
       "    </tr>\n",
       "    <tr>\n",
       "      <th>306105</th>\n",
       "      <td>342888</td>\n",
       "      <td>0</td>\n",
       "      <td>Cash loans</td>\n",
       "      <td>M</td>\n",
       "      <td>N</td>\n",
       "      <td>Y</td>\n",
       "      <td>63000.0</td>\n",
       "      <td>177768.0</td>\n",
       "      <td>(0.153, 0.458]</td>\n",
       "      <td>NaN</td>\n",
       "      <td>Unaccompanied</td>\n",
       "      <td>Pensioner</td>\n",
       "      <td>Non graduated</td>\n",
       "      <td>Civil marriage</td>\n",
       "      <td>House / apartment</td>\n",
       "      <td>0.007305</td>\n",
       "      <td>-22578</td>\n",
       "      <td>365243</td>\n",
       "      <td>-4293.0</td>\n",
       "      <td>-4319</td>\n",
       "      <td>NaN</td>\n",
       "      <td>1</td>\n",
       "      <td>0</td>\n",
       "      <td>0</td>\n",
       "      <td>1</td>\n",
       "      <td>0</td>\n",
       "      <td>0</td>\n",
       "      <td>1</td>\n",
       "      <td>2.0</td>\n",
       "      <td>3</td>\n",
       "      <td>3</td>\n",
       "      <td>WEDNESDAY</td>\n",
       "      <td>8</td>\n",
       "      <td>0</td>\n",
       "      <td>0</td>\n",
       "      <td>0</td>\n",
       "      <td>1</td>\n",
       "      <td>0</td>\n",
       "      <td>0</td>\n",
       "      <td>XNA</td>\n",
       "      <td>NaN</td>\n",
       "      <td>0.231137</td>\n",
       "      <td>0.410103</td>\n",
       "      <td>NaN</td>\n",
       "      <td>NaN</td>\n",
       "      <td>0.9697</td>\n",
       "      <td>NaN</td>\n",
       "      <td>NaN</td>\n",
       "      <td>NaN</td>\n",
       "      <td>NaN</td>\n",
       "      <td>NaN</td>\n",
       "      <td>NaN</td>\n",
       "      <td>NaN</td>\n",
       "      <td>NaN</td>\n",
       "      <td>0.0020</td>\n",
       "      <td>NaN</td>\n",
       "      <td>NaN</td>\n",
       "      <td>NaN</td>\n",
       "      <td>NaN</td>\n",
       "      <td>0.9697</td>\n",
       "      <td>NaN</td>\n",
       "      <td>NaN</td>\n",
       "      <td>NaN</td>\n",
       "      <td>NaN</td>\n",
       "      <td>NaN</td>\n",
       "      <td>NaN</td>\n",
       "      <td>NaN</td>\n",
       "      <td>NaN</td>\n",
       "      <td>0.0020</td>\n",
       "      <td>NaN</td>\n",
       "      <td>NaN</td>\n",
       "      <td>NaN</td>\n",
       "      <td>NaN</td>\n",
       "      <td>0.9697</td>\n",
       "      <td>NaN</td>\n",
       "      <td>NaN</td>\n",
       "      <td>NaN</td>\n",
       "      <td>NaN</td>\n",
       "      <td>NaN</td>\n",
       "      <td>NaN</td>\n",
       "      <td>NaN</td>\n",
       "      <td>NaN</td>\n",
       "      <td>0.0020</td>\n",
       "      <td>NaN</td>\n",
       "      <td>NaN</td>\n",
       "      <td>NaN</td>\n",
       "      <td>block of flats</td>\n",
       "      <td>0.0024</td>\n",
       "      <td>NaN</td>\n",
       "      <td>No</td>\n",
       "      <td>0.0</td>\n",
       "      <td>0.0</td>\n",
       "      <td>0.0</td>\n",
       "      <td>0.0</td>\n",
       "      <td>(-724.5, inf]</td>\n",
       "      <td>0.0</td>\n",
       "      <td>0.0</td>\n",
       "      <td>0.0</td>\n",
       "      <td>1.0</td>\n",
       "      <td>0.0</td>\n",
       "      <td>0.0</td>\n",
       "      <td>2020-12-01</td>\n",
       "      <td>342888</td>\n",
       "      <td>(6846.052, 268852.5]</td>\n",
       "      <td>1.0</td>\n",
       "      <td>(-inf, 0.5]</td>\n",
       "      <td>(-2921.5, -254.5]</td>\n",
       "      <td>(-inf, 1301.5]</td>\n",
       "      <td>(-inf, 675243.656]</td>\n",
       "      <td>(2.475, 36604.711]</td>\n",
       "      <td>N</td>\n",
       "      <td>2020</td>\n",
       "      <td>Already_Married</td>\n",
       "      <td>Already_Married-HAS_CHILDREN_N</td>\n",
       "      <td>(4.85, inf]</td>\n",
       "      <td>NaN</td>\n",
       "      <td>NaN</td>\n",
       "      <td>(52.5, inf]</td>\n",
       "      <td>(10.5, inf]</td>\n",
       "      <td>(2.5, 16.5]</td>\n",
       "      <td>533</td>\n",
       "      <td>2</td>\n",
       "    </tr>\n",
       "    <tr>\n",
       "      <th>306106</th>\n",
       "      <td>313239</td>\n",
       "      <td>1</td>\n",
       "      <td>Cash loans</td>\n",
       "      <td>M</td>\n",
       "      <td>N</td>\n",
       "      <td>N</td>\n",
       "      <td>135000.0</td>\n",
       "      <td>592560.0</td>\n",
       "      <td>(0.153, 0.458]</td>\n",
       "      <td>NaN</td>\n",
       "      <td>Other_B</td>\n",
       "      <td>Working</td>\n",
       "      <td>Non graduated</td>\n",
       "      <td>Married</td>\n",
       "      <td>House / apartment</td>\n",
       "      <td>0.035792</td>\n",
       "      <td>-13865</td>\n",
       "      <td>-530</td>\n",
       "      <td>-2816.0</td>\n",
       "      <td>-2817</td>\n",
       "      <td>NaN</td>\n",
       "      <td>1</td>\n",
       "      <td>1</td>\n",
       "      <td>1</td>\n",
       "      <td>1</td>\n",
       "      <td>0</td>\n",
       "      <td>0</td>\n",
       "      <td>2</td>\n",
       "      <td>4.0</td>\n",
       "      <td>2</td>\n",
       "      <td>2</td>\n",
       "      <td>MONDAY</td>\n",
       "      <td>13</td>\n",
       "      <td>0</td>\n",
       "      <td>0</td>\n",
       "      <td>0</td>\n",
       "      <td>0</td>\n",
       "      <td>1</td>\n",
       "      <td>1</td>\n",
       "      <td>Business Entity Type 3</td>\n",
       "      <td>NaN</td>\n",
       "      <td>0.687455</td>\n",
       "      <td>0.157595</td>\n",
       "      <td>NaN</td>\n",
       "      <td>NaN</td>\n",
       "      <td>NaN</td>\n",
       "      <td>NaN</td>\n",
       "      <td>NaN</td>\n",
       "      <td>NaN</td>\n",
       "      <td>NaN</td>\n",
       "      <td>NaN</td>\n",
       "      <td>NaN</td>\n",
       "      <td>NaN</td>\n",
       "      <td>NaN</td>\n",
       "      <td>NaN</td>\n",
       "      <td>NaN</td>\n",
       "      <td>NaN</td>\n",
       "      <td>NaN</td>\n",
       "      <td>NaN</td>\n",
       "      <td>NaN</td>\n",
       "      <td>NaN</td>\n",
       "      <td>NaN</td>\n",
       "      <td>NaN</td>\n",
       "      <td>NaN</td>\n",
       "      <td>NaN</td>\n",
       "      <td>NaN</td>\n",
       "      <td>NaN</td>\n",
       "      <td>NaN</td>\n",
       "      <td>NaN</td>\n",
       "      <td>NaN</td>\n",
       "      <td>NaN</td>\n",
       "      <td>NaN</td>\n",
       "      <td>NaN</td>\n",
       "      <td>NaN</td>\n",
       "      <td>NaN</td>\n",
       "      <td>NaN</td>\n",
       "      <td>NaN</td>\n",
       "      <td>NaN</td>\n",
       "      <td>NaN</td>\n",
       "      <td>NaN</td>\n",
       "      <td>NaN</td>\n",
       "      <td>NaN</td>\n",
       "      <td>NaN</td>\n",
       "      <td>NaN</td>\n",
       "      <td>NaN</td>\n",
       "      <td>NaN</td>\n",
       "      <td>NaN</td>\n",
       "      <td>NaN</td>\n",
       "      <td>NaN</td>\n",
       "      <td>NaN</td>\n",
       "      <td>1.0</td>\n",
       "      <td>0.0</td>\n",
       "      <td>1.0</td>\n",
       "      <td>0.0</td>\n",
       "      <td>(-724.5, inf]</td>\n",
       "      <td>0.0</td>\n",
       "      <td>0.0</td>\n",
       "      <td>0.0</td>\n",
       "      <td>0.0</td>\n",
       "      <td>1.0</td>\n",
       "      <td>1.0</td>\n",
       "      <td>2020-12-01</td>\n",
       "      <td>313239</td>\n",
       "      <td>(6846.052, 268852.5]</td>\n",
       "      <td>4.0</td>\n",
       "      <td>(1.5, inf]</td>\n",
       "      <td>(-254.5, -47.5]</td>\n",
       "      <td>(-inf, 1301.5]</td>\n",
       "      <td>(675243.656, 3736824.625]</td>\n",
       "      <td>(-inf, 2.475]</td>\n",
       "      <td>Y</td>\n",
       "      <td>2020</td>\n",
       "      <td>Already_Married</td>\n",
       "      <td>Already_Married-HAS_CHILDREN_Y</td>\n",
       "      <td>(4.85, inf]</td>\n",
       "      <td>NaN</td>\n",
       "      <td>NaN</td>\n",
       "      <td>(30.5, 38.5]</td>\n",
       "      <td>(-inf, 2.5]</td>\n",
       "      <td>(2.5, 16.5]</td>\n",
       "      <td>281</td>\n",
       "      <td>0</td>\n",
       "    </tr>\n",
       "  </tbody>\n",
       "</table>\n",
       "<p>38364 rows × 122 columns</p>\n",
       "</div>"
      ],
      "text/plain": [
       "        SK_ID_CURR  TARGET NAME_CONTRACT_TYPE CODE_GENDER FLAG_OWN_CAR FLAG_OWN_REALTY  AMT_INCOME_TOTAL  AMT_CREDIT      AMT_ANNUITY AMT_GOODS_PRICE  NAME_TYPE_SUITE      NAME_INCOME_TYPE NAME_EDUCATION_TYPE NAME_FAMILY_STATUS  NAME_HOUSING_TYPE  REGION_POPULATION_RELATIVE  DAYS_BIRTH  DAYS_EMPLOYED  DAYS_REGISTRATION  DAYS_ID_PUBLISH  OWN_CAR_AGE  FLAG_MOBIL  FLAG_EMP_PHONE  FLAG_WORK_PHONE  FLAG_CONT_MOBILE  FLAG_PHONE  FLAG_EMAIL  OCCUPATION_TYPE  CNT_FAM_MEMBERS  REGION_RATING_CLIENT  REGION_RATING_CLIENT_W_CITY WEEKDAY_APPR_PROCESS_START  HOUR_APPR_PROCESS_START  REG_REGION_NOT_LIVE_REGION  REG_REGION_NOT_WORK_REGION  LIVE_REGION_NOT_WORK_REGION  REG_CITY_NOT_LIVE_CITY  REG_CITY_NOT_WORK_CITY  LIVE_CITY_NOT_WORK_CITY       ORGANIZATION_TYPE  EXT_SOURCE_1  EXT_SOURCE_2  EXT_SOURCE_3  APARTMENTS_AVG  BASEMENTAREA_AVG  YEARS_BEGINEXPLUATATION_AVG  YEARS_BUILD_AVG  COMMONAREA_AVG  ELEVATORS_AVG  ENTRANCES_AVG  FLOORSMAX_AVG  FLOORSMIN_AVG  LANDAREA_AVG  LIVINGAPARTMENTS_AVG  \\\n",
       "267743      282976       0    Revolving loans           M            Y               Y           94500.0    270000.0  (0.0662, 0.153]             NaN    Unaccompanied               Working       Non graduated            Married  House / apartment                    0.018850      -11400           -259            -2159.0            -4020         34.0           1               1                0                 1           0           0                1              5.0                     2                            2                   SATURDAY                       11                           0                           0                            0                       0                       1                        1  Business Entity Type 3           NaN      0.650327      0.657784             NaN               NaN                          NaN              NaN             NaN            NaN            NaN            NaN            NaN           NaN                   NaN   \n",
       "267744      179913       0         Cash loans           M            N               Y          157500.0    417024.0   (0.153, 0.458]             NaN    Unaccompanied               Working       Non graduated          Separated  House / apartment                    0.035792      -20884          -2367           -10706.0            -2996          NaN           1               1                0                 1           0           0                1              1.0                     2                            2                    TUESDAY                       16                           0                           0                            0                       0                       0                        0                Medicine      0.495196      0.692325      0.339288          0.0990            0.0430                       0.9836           0.7756          0.0370           0.00         0.0690         0.1667         0.2083        0.0332                0.0790   \n",
       "267745      445626       0         Cash loans           M            N               N          135000.0    241618.5   (0.153, 0.458]             NaN    Unaccompanied               Working       Non graduated            Married  House / apartment                    0.018850      -13547          -2274            -7444.0            -3968          NaN           1               1                1                 1           0           0                3              4.0                     2                            2                     SUNDAY                       21                           0                           0                            0                       0                       0                        0           Self-employed           NaN      0.737402      0.812823             NaN               NaN                       0.9672              NaN             NaN            NaN            NaN            NaN            NaN           NaN                   NaN   \n",
       "267746      344490       0         Cash loans           F            N               Y          193500.0    755190.0   (0.153, 0.458]             NaN    Unaccompanied             Pensioner       Non graduated              Widow  House / apartment                    0.004960      -19904         365243           -11191.0            -3451          NaN           1               0                0                 1           0           0                1              1.0                     2                            2                  WEDNESDAY                       17                           0                           0                            0                       0                       0                        0                     XNA           NaN      0.285791      0.431192          0.0928               NaN                       0.9811           0.7960             NaN           0.00         0.1897         0.1667         0.2083        0.0611                   NaN   \n",
       "267747      291254       0         Cash loans           M            N               N          431478.0   3150000.0   (0.153, 0.458]             NaN    Unaccompanied  Commercial associate           Graduated            Married  House / apartment                    0.018634      -17355          -2361            -7541.0             -911          NaN           1               1                1                 1           0           0                1              2.0                     2                            2                  WEDNESDAY                       14                           1                           1                            0                       1                       1                        0           Trade: type 2           NaN      0.683944      0.689479          0.0990               NaN                       0.9846           0.7892          0.0331           0.16         0.0690         0.4583         0.0417           NaN                0.0807   \n",
       "...            ...     ...                ...         ...          ...             ...               ...         ...              ...             ...              ...                   ...                 ...                ...                ...                         ...         ...            ...                ...              ...          ...         ...             ...              ...               ...         ...         ...              ...              ...                   ...                          ...                        ...                      ...                         ...                         ...                          ...                     ...                     ...                      ...                     ...           ...           ...           ...             ...               ...                          ...              ...             ...            ...            ...            ...            ...           ...                   ...   \n",
       "306102      150198       0         Cash loans           F            N               N          148500.0    669600.0   (0.153, 0.458]             NaN  Spouse, partner             Pensioner       Non graduated            Married  House / apartment                    0.020246      -19046         365243             -296.0            -2602          NaN           1               0                0                 1           0           0                1              2.0                     3                            3                   SATURDAY                        8                           0                           0                            0                       0                       0                        0                     XNA      0.427680      0.068494      0.722393          0.0825            0.0000                       0.9747           0.6532          0.0092           0.00         0.1379         0.1667         0.0417        0.0140                0.0672   \n",
       "306103      377351       0         Cash loans           F            N               Y           90000.0    312768.0   (0.153, 0.458]             NaN    Unaccompanied  Commercial associate       Non graduated          Separated  House / apartment                    0.035792      -16483          -2692            -1728.0              -24          NaN           1               1                0                 1           0           0                2              1.0                     2                            2                   SATURDAY                       12                           0                           0                            0                       0                       1                        1        Industry: type 4           NaN      0.661632      0.824595             NaN               NaN                          NaN              NaN             NaN            NaN            NaN            NaN            NaN           NaN                   NaN   \n",
       "306104      365430       0         Cash loans           F            N               Y          157500.0   1724220.0   (0.153, 0.458]             NaN           Family  Commercial associate       Non graduated            Married  House / apartment                    0.072508      -16588          -1103            -1203.0             -110          NaN           1               1                0                 1           1           0                1              2.0                     1                            1                     MONDAY                       15                           0                           0                            0                       0                       0                        0  Business Entity Type 3           NaN      0.740452           NaN          0.1155            0.0672                       0.9776           0.6940          0.0422           0.12         0.0862         0.3958         0.4375        0.1089                0.0929   \n",
       "306105      342888       0         Cash loans           M            N               Y           63000.0    177768.0   (0.153, 0.458]             NaN    Unaccompanied             Pensioner       Non graduated     Civil marriage  House / apartment                    0.007305      -22578         365243            -4293.0            -4319          NaN           1               0                0                 1           0           0                1              2.0                     3                            3                  WEDNESDAY                        8                           0                           0                            0                       1                       0                        0                     XNA           NaN      0.231137      0.410103             NaN               NaN                       0.9697              NaN             NaN            NaN            NaN            NaN            NaN           NaN                   NaN   \n",
       "306106      313239       1         Cash loans           M            N               N          135000.0    592560.0   (0.153, 0.458]             NaN          Other_B               Working       Non graduated            Married  House / apartment                    0.035792      -13865           -530            -2816.0            -2817          NaN           1               1                1                 1           0           0                2              4.0                     2                            2                     MONDAY                       13                           0                           0                            0                       0                       1                        1  Business Entity Type 3           NaN      0.687455      0.157595             NaN               NaN                          NaN              NaN             NaN            NaN            NaN            NaN            NaN           NaN                   NaN   \n",
       "\n",
       "        LIVINGAREA_AVG  NONLIVINGAPARTMENTS_AVG  NONLIVINGAREA_AVG  APARTMENTS_MODE  BASEMENTAREA_MODE  YEARS_BEGINEXPLUATATION_MODE  YEARS_BUILD_MODE  COMMONAREA_MODE  ELEVATORS_MODE  ENTRANCES_MODE  FLOORSMAX_MODE  FLOORSMIN_MODE  LANDAREA_MODE  LIVINGAPARTMENTS_MODE  LIVINGAREA_MODE  NONLIVINGAPARTMENTS_MODE  NONLIVINGAREA_MODE  APARTMENTS_MEDI  BASEMENTAREA_MEDI  YEARS_BEGINEXPLUATATION_MEDI  YEARS_BUILD_MEDI  COMMONAREA_MEDI  ELEVATORS_MEDI  ENTRANCES_MEDI  FLOORSMAX_MEDI  FLOORSMIN_MEDI  LANDAREA_MEDI  LIVINGAPARTMENTS_MEDI  LIVINGAREA_MEDI  NONLIVINGAPARTMENTS_MEDI  NONLIVINGAREA_MEDI     FONDKAPREMONT_MODE  HOUSETYPE_MODE  TOTALAREA_MODE WALLSMATERIAL_MODE EMERGENCYSTATE_MODE  OBS_30_CNT_SOCIAL_CIRCLE  DEF_30_CNT_SOCIAL_CIRCLE  OBS_60_CNT_SOCIAL_CIRCLE  DEF_60_CNT_SOCIAL_CIRCLE DAYS_LAST_PHONE_CHANGE  AMT_REQ_CREDIT_BUREAU_HOUR  AMT_REQ_CREDIT_BUREAU_DAY  AMT_REQ_CREDIT_BUREAU_WEEK  AMT_REQ_CREDIT_BUREAU_MON  AMT_REQ_CREDIT_BUREAU_QRT  AMT_REQ_CREDIT_BUREAU_YEAR  \\\n",
       "267743             NaN                      NaN                NaN              NaN                NaN                           NaN               NaN              NaN             NaN             NaN             NaN             NaN            NaN                    NaN              NaN                       NaN                 NaN              NaN                NaN                           NaN               NaN              NaN             NaN             NaN             NaN             NaN            NaN                    NaN              NaN                       NaN                 NaN                    NaN             NaN             NaN                NaN                 NaN                       2.0                       2.0                       2.0                       2.0      (-1329.5, -937.5]                         0.0                        0.0                         0.0                        0.0                        0.0                         0.0   \n",
       "267744          0.0394                   0.0077             0.0011           0.1008             0.0447                        0.9836            0.7844           0.0374          0.0000          0.0690          0.1667          0.2083         0.0340                 0.0863           0.0411                    0.0078              0.0012           0.0999             0.0430                        0.9836            0.7786           0.0373            0.00          0.0690          0.1667          0.2083         0.0338                 0.0804           0.0402                    0.0078              0.0011       reg oper account  block of flats          0.0513              Panel                  No                       1.0                       1.0                       1.0                       1.0        (-inf, -1329.5]                         0.0                        0.0                         0.0                        0.0                        0.0                         2.0   \n",
       "267745             NaN                      NaN                NaN              NaN                NaN                        0.9672               NaN              NaN             NaN             NaN             NaN             NaN            NaN                    NaN              NaN                       NaN                 NaN              NaN                NaN                        0.9672               NaN              NaN             NaN             NaN             NaN             NaN            NaN                    NaN              NaN                       NaN                 NaN                    NaN             NaN          0.0017                NaN                  No                       2.0                       0.0                       2.0                       0.0        (-inf, -1329.5]                         0.0                        0.0                         0.0                        0.0                        1.0                         0.0   \n",
       "267746          0.0860                      NaN             0.0213           0.0945                NaN                        0.9772            0.8040              NaN          0.0000          0.1724          0.1667          0.2083         0.0625                    NaN           0.0896                       NaN              0.0225           0.0937                NaN                        0.9811            0.7987              NaN            0.00          0.1897          0.1667          0.2083         0.0622                    NaN           0.0876                       NaN              0.0217          not specified  block of flats          0.0721                NaN                  No                       5.0                       0.0                       5.0                       0.0          (-724.5, inf]                         0.0                        0.0                         0.0                        0.0                        0.0                         2.0   \n",
       "267747          0.0947                   0.0000             0.0000           0.1008                NaN                        0.9846            0.7975           0.0334          0.1611          0.0690          0.4583          0.0417            NaN                 0.0882           0.0986                    0.0000              0.0000           0.0999                NaN                        0.9846            0.7920           0.0333            0.16          0.0690          0.4583          0.0417            NaN                 0.0821           0.0964                    0.0000              0.0000  reg oper spec account  block of flats          0.0922              Panel                  No                       0.0                       0.0                       0.0                       0.0        (-inf, -1329.5]                         0.0                        0.0                         0.0                        0.0                        0.0                         0.0   \n",
       "...                ...                      ...                ...              ...                ...                           ...               ...              ...             ...             ...             ...             ...            ...                    ...              ...                       ...                 ...              ...                ...                           ...               ...              ...             ...             ...             ...             ...            ...                    ...              ...                       ...                 ...                    ...             ...             ...                ...                 ...                       ...                       ...                       ...                       ...                    ...                         ...                        ...                         ...                        ...                        ...                         ...   \n",
       "306102          0.0630                   0.0000             0.0000           0.0840             0.0000                        0.9747            0.6668           0.0092          0.0000          0.1379          0.1667          0.0417         0.0144                 0.0735           0.0657                    0.0000              0.0000           0.0833             0.0000                        0.9747            0.6578           0.0092            0.00          0.1379          0.1667          0.0417         0.0143                 0.0684           0.0642                    0.0000              0.0000       reg oper account  block of flats          0.0546       Stone, brick                  No                       1.0                       0.0                       1.0                       0.0        (-inf, -1329.5]                         0.0                        0.0                         0.0                        0.0                        0.0                         0.0   \n",
       "306103             NaN                      NaN                NaN              NaN                NaN                           NaN               NaN              NaN             NaN             NaN             NaN             NaN            NaN                    NaN              NaN                       NaN                 NaN              NaN                NaN                           NaN               NaN              NaN             NaN             NaN             NaN             NaN            NaN                    NaN              NaN                       NaN                 NaN                    NaN             NaN             NaN                NaN                 NaN                       0.0                       0.0                       0.0                       0.0        (-inf, -1329.5]                         0.0                        0.0                         0.0                        0.0                        2.0                         2.0   \n",
       "306104          0.0691                   0.0058             0.0356           0.0840             0.0396                        0.9777            0.7060           0.0242          0.0806          0.0345          0.3333          0.3750         0.1041                 0.0707           0.0455                    0.0000              0.0013           0.1166             0.0672                        0.9776            0.6981           0.0425            0.12          0.0862          0.3958          0.4375         0.1108                 0.0945           0.0704                    0.0058              0.0363  reg oper spec account  block of flats          0.0538              Panel                  No                       0.0                       0.0                       0.0                       0.0          (-724.5, inf]                         NaN                        NaN                         NaN                        NaN                        NaN                         NaN   \n",
       "306105          0.0020                      NaN                NaN              NaN                NaN                        0.9697               NaN              NaN             NaN             NaN             NaN             NaN            NaN                    NaN           0.0020                       NaN                 NaN              NaN                NaN                        0.9697               NaN              NaN             NaN             NaN             NaN             NaN            NaN                    NaN           0.0020                       NaN                 NaN                    NaN  block of flats          0.0024                NaN                  No                       0.0                       0.0                       0.0                       0.0          (-724.5, inf]                         0.0                        0.0                         0.0                        1.0                        0.0                         0.0   \n",
       "306106             NaN                      NaN                NaN              NaN                NaN                           NaN               NaN              NaN             NaN             NaN             NaN             NaN            NaN                    NaN              NaN                       NaN                 NaN              NaN                NaN                           NaN               NaN              NaN             NaN             NaN             NaN             NaN            NaN                    NaN              NaN                       NaN                 NaN                    NaN             NaN             NaN                NaN                 NaN                       1.0                       0.0                       1.0                       0.0          (-724.5, inf]                         0.0                        0.0                         0.0                        0.0                        1.0                         1.0   \n",
       "\n",
       "       date_mensuelle  CB_SK_ID_CURR CB_AMT_CREDIT_SUM_DEBT  CB_NB_CREDIT_ACTIVE CB_NB_CREDIT_CLOSED     CB_DAYS_CREDIT CB_DAYS_CREDIT_ENDDATE          CB_AMT_CREDIT_SUM      CB_AMT_ANNUITY HAS_CHILDREN  date_annee NAME_FAMILY_STATUS_2                 FAM_STATS_CHILD AMT_CREDIT_TO_INCOME AMT_CREDIT_NORM AMT_INCOME_TOTAL_NORM  BORROWER_AGE BORROWER_SENIORITY BORROWER_FIDELITY  Note  Segment  \n",
       "267743     2020-01-01         282976  (268852.5, 2259694.5]                  1.0         (-inf, 0.5]  (-2921.5, -254.5]         (-inf, 1301.5]         (-inf, 675243.656]       (-inf, 2.475]            Y        2020      Already_Married  Already_Married-HAS_CHILDREN_Y          (4.85, inf]             NaN                   NaN  (30.5, 38.5]        (-inf, 2.5]       (2.5, 16.5]   315        0  \n",
       "267744     2020-01-01         179913  (268852.5, 2259694.5]                  3.0          (1.5, inf]    (-254.5, -47.5]      (1301.5, 13433.5]         (-inf, 675243.656]    (36604.711, inf]            N        2020      Already_Married  Already_Married-HAS_CHILDREN_N          (4.85, inf]             NaN                   NaN   (52.5, inf]        (4.5, 10.5]       (24.5, inf]   520        2  \n",
       "267745     2020-01-01         445626       (-inf, 6846.052]                  0.0          (0.5, 1.5]    (-inf, -2921.5]         (-inf, 1301.5]         (-inf, 675243.656]       (-inf, 2.475]            Y        2020      Already_Married  Already_Married-HAS_CHILDREN_Y        (-inf, 1.913]             NaN                   NaN  (30.5, 38.5]        (4.5, 10.5]      (16.5, 24.5]   372        1  \n",
       "267746     2020-01-01         344490   (6846.052, 268852.5]                  1.0          (0.5, 1.5]       (-47.5, inf]         (-inf, 1301.5]         (-inf, 675243.656]       (-inf, 2.475]            N        2020      Already_Married  Already_Married-HAS_CHILDREN_N        (1.913, 4.85]             NaN                   NaN   (52.5, inf]        (10.5, inf]       (24.5, inf]   406        1  \n",
       "267747     2020-01-01         291254  (268852.5, 2259694.5]                  1.0         (-inf, 0.5]  (-2921.5, -254.5]         (-inf, 1301.5]  (675243.656, 3736824.625]       (-inf, 2.475]            N        2020      Already_Married  Already_Married-HAS_CHILDREN_N          (4.85, inf]             NaN                   NaN  (38.5, 52.5]        (4.5, 10.5]      (16.5, 24.5]   589        3  \n",
       "...               ...            ...                    ...                  ...                 ...                ...                    ...                        ...                 ...          ...         ...                  ...                             ...                  ...             ...                   ...           ...                ...               ...   ...      ...  \n",
       "306102     2020-12-01         150198  (268852.5, 2259694.5]                  4.0          (1.5, inf]  (-2921.5, -254.5]      (1301.5, 13433.5]  (675243.656, 3736824.625]  (2.475, 36604.711]            N        2020      Already_Married  Already_Married-HAS_CHILDREN_N          (4.85, inf]             NaN                   NaN  (38.5, 52.5]        (10.5, inf]       (-inf, 2.5]   609        3  \n",
       "306103     2020-12-01         377351       (-inf, 6846.052]                  0.0          (1.5, inf]    (-inf, -2921.5]         (-inf, 1301.5]         (-inf, 675243.656]       (-inf, 2.475]            N        2020      Already_Married  Already_Married-HAS_CHILDREN_N        (1.913, 4.85]             NaN                   NaN  (38.5, 52.5]        (4.5, 10.5]       (2.5, 16.5]   529        2  \n",
       "306104     2020-12-01         365430       (-inf, 6846.052]                  0.0         (-inf, 0.5]    (-inf, -2921.5]         (-inf, 1301.5]         (-inf, 675243.656]       (-inf, 2.475]            N        2020      Already_Married  Already_Married-HAS_CHILDREN_N          (4.85, inf]             NaN                   NaN  (38.5, 52.5]         (2.5, 4.5]       (2.5, 16.5]   399        1  \n",
       "306105     2020-12-01         342888   (6846.052, 268852.5]                  1.0         (-inf, 0.5]  (-2921.5, -254.5]         (-inf, 1301.5]         (-inf, 675243.656]  (2.475, 36604.711]            N        2020      Already_Married  Already_Married-HAS_CHILDREN_N          (4.85, inf]             NaN                   NaN   (52.5, inf]        (10.5, inf]       (2.5, 16.5]   533        2  \n",
       "306106     2020-12-01         313239   (6846.052, 268852.5]                  4.0          (1.5, inf]    (-254.5, -47.5]         (-inf, 1301.5]  (675243.656, 3736824.625]       (-inf, 2.475]            Y        2020      Already_Married  Already_Married-HAS_CHILDREN_Y          (4.85, inf]             NaN                   NaN  (30.5, 38.5]        (-inf, 2.5]       (2.5, 16.5]   281        0  \n",
       "\n",
       "[38364 rows x 122 columns]"
      ]
     },
     "execution_count": 4,
     "metadata": {},
     "output_type": "execute_result"
    }
   ],
   "source": [
    "out_of_sample_data"
   ]
  },
  {
   "cell_type": "code",
   "execution_count": 5,
   "metadata": {},
   "outputs": [
    {
     "name": "stdout",
     "output_type": "stream",
     "text": [
      "DataFrame sauvegardé avec succès sous ./data/data_seg_2020.csv\n"
     ]
    }
   ],
   "source": [
    "csv_file_path = \"./data/data_seg_2020.csv\"\n",
    "out_of_sample_data.to_csv(csv_file_path, index=False)\n",
    "\n",
    "print(f\"DataFrame sauvegardé avec succès sous {csv_file_path}\")"
   ]
  },
  {
   "cell_type": "code",
   "execution_count": 17,
   "metadata": {},
   "outputs": [
    {
     "data": {
      "text/plain": [
       "Segment\n",
       "1    10642\n",
       "2    10349\n",
       "0     7948\n",
       "3     6996\n",
       "4     1823\n",
       "5      606\n",
       "Name: count, dtype: int64"
      ]
     },
     "execution_count": 17,
     "metadata": {},
     "output_type": "execute_result"
    }
   ],
   "source": [
    "out_of_sample_data['Segment'].value_counts()"
   ]
  },
  {
   "cell_type": "code",
   "execution_count": 10,
   "metadata": {},
   "outputs": [],
   "source": [
    "import plotly.express as px"
   ]
  },
  {
   "cell_type": "code",
   "execution_count": 8,
   "metadata": {},
   "outputs": [],
   "source": [
    "def show_risk_stability_overtime_2(data: pd.DataFrame, colname: str):\n",
    "    result = data.groupby([colname, \"date_annee\"])['TARGET'].mean().reset_index()\n",
    "    fig = px.bar(result, x=\"date_annee\", y=\"TARGET\", color=colname, barmode='group')\n",
    "    fig.update_layout(xaxis=dict(title=\"date_annee\", type='category'),\n",
    "                      yaxis_title=\"Taux de défaut moyen\",\n",
    "                      legend_title=\"Segment\")\n",
    "    return fig"
   ]
  },
  {
   "cell_type": "code",
   "execution_count": 14,
   "metadata": {},
   "outputs": [
    {
     "data": {
      "image/png": "[encoded data removed]",
      "text/plain": [
       "<Figure size 1000x600 with 1 Axes>"
      ]
     },
     "metadata": {},
     "output_type": "display_data"
    }
   ],
   "source": [
    "show_risk_stability_overtime(out_of_sample_data, \"Segment\")"
   ]
  },
  {
   "cell_type": "code",
   "execution_count": 13,
   "metadata": {},
   "outputs": [
    {
     "data": {
      "application/vnd.plotly.v1+json": {
       "config": {
        "plotlyServerURL": "https://plot.ly"
       },
       "data": [
        {
         "alignmentgroup": "True",
         "hovertemplate": "date_annee=%{x}<br>TARGET=%{y}<br>Segment=%{marker.color}<extra></extra>",
         "legendgroup": "",
         "marker": {
          "color": [
           0,
           1,
           2,
           3,
           4,
           5
          ],
          "coloraxis": "coloraxis",
          "pattern": {
           "shape": ""
          }
         },
         "name": "",
         "offsetgroup": "",
         "orientation": "v",
         "showlegend": false,
         "textposition": "auto",
         "type": "bar",
         "x": [
          2020,
          2020,
          2020,
          2020,
          2020,
          2020
         ],
         "xaxis": "x",
         "y": [
          0.13978359335681934,
          0.08560420973501222,
          0.06213160691854285,
          0.03987993138936535,
          0.038946791003839826,
          0.034653465346534656
         ],
         "yaxis": "y"
        }
       ],
       "layout": {
        "barmode": "group",
        "coloraxis": {
         "colorbar": {
          "title": {
           "text": "Segment"
          }
         },
         "colorscale": [
          [
           0,
           "#0d0887"
          ],
          [
           0.1111111111111111,
           "#46039f"
          ],
          [
           0.2222222222222222,
           "#7201a8"
          ],
          [
           0.3333333333333333,
           "#9c179e"
          ],
          [
           0.4444444444444444,
           "#bd3786"
          ],
          [
           0.5555555555555556,
           "#d8576b"
          ],
          [
           0.6666666666666666,
           "#ed7953"
          ],
          [
           0.7777777777777778,
           "#fb9f3a"
          ],
          [
           0.8888888888888888,
           "#fdca26"
          ],
          [
           1,
           "#f0f921"
          ]
         ]
        },
        "legend": {
         "title": {
          "text": "Segment"
         },
         "tracegroupgap": 0
        },
        "margin": {
         "t": 60
        },
        "template": {
         "data": {
          "bar": [
           {
            "error_x": {
             "color": "#2a3f5f"
            },
            "error_y": {
             "color": "#2a3f5f"
            },
            "marker": {
             "line": {
              "color": "#E5ECF6",
              "width": 0.5
             },
             "pattern": {
              "fillmode": "overlay",
              "size": 10,
              "solidity": 0.2
             }
            },
            "type": "bar"
           }
          ],
          "barpolar": [
           {
            "marker": {
             "line": {
              "color": "#E5ECF6",
              "width": 0.5
             },
             "pattern": {
              "fillmode": "overlay",
              "size": 10,
              "solidity": 0.2
             }
            },
            "type": "barpolar"
           }
          ],
          "carpet": [
           {
            "aaxis": {
             "endlinecolor": "#2a3f5f",
             "gridcolor": "white",
             "linecolor": "white",
             "minorgridcolor": "white",
             "startlinecolor": "#2a3f5f"
            },
            "baxis": {
             "endlinecolor": "#2a3f5f",
             "gridcolor": "white",
             "linecolor": "white",
             "minorgridcolor": "white",
             "startlinecolor": "#2a3f5f"
            },
            "type": "carpet"
           }
          ],
          "choropleth": [
           {
            "colorbar": {
             "outlinewidth": 0,
             "ticks": ""
            },
            "type": "choropleth"
           }
          ],
          "contour": [
           {
            "colorbar": {
             "outlinewidth": 0,
             "ticks": ""
            },
            "colorscale": [
             [
              0,
              "#0d0887"
             ],
             [
              0.1111111111111111,
              "#46039f"
             ],
             [
              0.2222222222222222,
              "#7201a8"
             ],
             [
              0.3333333333333333,
              "#9c179e"
             ],
             [
              0.4444444444444444,
              "#bd3786"
             ],
             [
              0.5555555555555556,
              "#d8576b"
             ],
             [
              0.6666666666666666,
              "#ed7953"
             ],
             [
              0.7777777777777778,
              "#fb9f3a"
             ],
             [
              0.8888888888888888,
              "#fdca26"
             ],
             [
              1,
              "#f0f921"
             ]
            ],
            "type": "contour"
           }
          ],
          "contourcarpet": [
           {
            "colorbar": {
             "outlinewidth": 0,
             "ticks": ""
            },
            "type": "contourcarpet"
           }
          ],
          "heatmap": [
           {
            "colorbar": {
             "outlinewidth": 0,
             "ticks": ""
            },
            "colorscale": [
             [
              0,
              "#0d0887"
             ],
             [
              0.1111111111111111,
              "#46039f"
             ],
             [
              0.2222222222222222,
              "#7201a8"
             ],
             [
              0.3333333333333333,
              "#9c179e"
             ],
             [
              0.4444444444444444,
              "#bd3786"
             ],
             [
              0.5555555555555556,
              "#d8576b"
             ],
             [
              0.6666666666666666,
              "#ed7953"
             ],
             [
              0.7777777777777778,
              "#fb9f3a"
             ],
             [
              0.8888888888888888,
              "#fdca26"
             ],
             [
              1,
              "#f0f921"
             ]
            ],
            "type": "heatmap"
           }
          ],
          "heatmapgl": [
           {
            "colorbar": {
             "outlinewidth": 0,
             "ticks": ""
            },
            "colorscale": [
             [
              0,
              "#0d0887"
             ],
             [
              0.1111111111111111,
              "#46039f"
             ],
             [
              0.2222222222222222,
              "#7201a8"
             ],
             [
              0.3333333333333333,
              "#9c179e"
             ],
             [
              0.4444444444444444,
              "#bd3786"
             ],
             [
              0.5555555555555556,
              "#d8576b"
             ],
             [
              0.6666666666666666,
              "#ed7953"
             ],
             [
              0.7777777777777778,
              "#fb9f3a"
             ],
             [
              0.8888888888888888,
              "#fdca26"
             ],
             [
              1,
              "#f0f921"
             ]
            ],
            "type": "heatmapgl"
           }
          ],
          "histogram": [
           {
            "marker": {
             "pattern": {
              "fillmode": "overlay",
              "size": 10,
              "solidity": 0.2
             }
            },
            "type": "histogram"
           }
          ],
          "histogram2d": [
           {
            "colorbar": {
             "outlinewidth": 0,
             "ticks": ""
            },
            "colorscale": [
             [
              0,
              "#0d0887"
             ],
             [
              0.1111111111111111,
              "#46039f"
             ],
             [
              0.2222222222222222,
              "#7201a8"
             ],
             [
              0.3333333333333333,
              "#9c179e"
             ],
             [
              0.4444444444444444,
              "#bd3786"
             ],
             [
              0.5555555555555556,
              "#d8576b"
             ],
             [
              0.6666666666666666,
              "#ed7953"
             ],
             [
              0.7777777777777778,
              "#fb9f3a"
             ],
             [
              0.8888888888888888,
              "#fdca26"
             ],
             [
              1,
              "#f0f921"
             ]
            ],
            "type": "histogram2d"
           }
          ],
          "histogram2dcontour": [
           {
            "colorbar": {
             "outlinewidth": 0,
             "ticks": ""
            },
            "colorscale": [
             [
              0,
              "#0d0887"
             ],
             [
              0.1111111111111111,
              "#46039f"
             ],
             [
              0.2222222222222222,
              "#7201a8"
             ],
             [
              0.3333333333333333,
              "#9c179e"
             ],
             [
              0.4444444444444444,
              "#bd3786"
             ],
             [
              0.5555555555555556,
              "#d8576b"
             ],
             [
              0.6666666666666666,
              "#ed7953"
             ],
             [
              0.7777777777777778,
              "#fb9f3a"
             ],
             [
              0.8888888888888888,
              "#fdca26"
             ],
             [
              1,
              "#f0f921"
             ]
            ],
            "type": "histogram2dcontour"
           }
          ],
          "mesh3d": [
           {
            "colorbar": {
             "outlinewidth": 0,
             "ticks": ""
            },
            "type": "mesh3d"
           }
          ],
          "parcoords": [
           {
            "line": {
             "colorbar": {
              "outlinewidth": 0,
              "ticks": ""
             }
            },
            "type": "parcoords"
           }
          ],
          "pie": [
           {
            "automargin": true,
            "type": "pie"
           }
          ],
          "scatter": [
           {
            "fillpattern": {
             "fillmode": "overlay",
             "size": 10,
             "solidity": 0.2
            },
            "type": "scatter"
           }
          ],
          "scatter3d": [
           {
            "line": {
             "colorbar": {
              "outlinewidth": 0,
              "ticks": ""
             }
            },
            "marker": {
             "colorbar": {
              "outlinewidth": 0,
              "ticks": ""
             }
            },
            "type": "scatter3d"
           }
          ],
          "scattercarpet": [
           {
            "marker": {
             "colorbar": {
              "outlinewidth": 0,
              "ticks": ""
             }
            },
            "type": "scattercarpet"
           }
          ],
          "scattergeo": [
           {
            "marker": {
             "colorbar": {
              "outlinewidth": 0,
              "ticks": ""
             }
            },
            "type": "scattergeo"
           }
          ],
          "scattergl": [
           {
            "marker": {
             "colorbar": {
              "outlinewidth": 0,
              "ticks": ""
             }
            },
            "type": "scattergl"
           }
          ],
          "scattermapbox": [
           {
            "marker": {
             "colorbar": {
              "outlinewidth": 0,
              "ticks": ""
             }
            },
            "type": "scattermapbox"
           }
          ],
          "scatterpolar": [
           {
            "marker": {
             "colorbar": {
              "outlinewidth": 0,
              "ticks": ""
             }
            },
            "type": "scatterpolar"
           }
          ],
          "scatterpolargl": [
           {
            "marker": {
             "colorbar": {
              "outlinewidth": 0,
              "ticks": ""
             }
            },
            "type": "scatterpolargl"
           }
          ],
          "scatterternary": [
           {
            "marker": {
             "colorbar": {
              "outlinewidth": 0,
              "ticks": ""
             }
            },
            "type": "scatterternary"
           }
          ],
          "surface": [
           {
            "colorbar": {
             "outlinewidth": 0,
             "ticks": ""
            },
            "colorscale": [
             [
              0,
              "#0d0887"
             ],
             [
              0.1111111111111111,
              "#46039f"
             ],
             [
              0.2222222222222222,
              "#7201a8"
             ],
             [
              0.3333333333333333,
              "#9c179e"
             ],
             [
              0.4444444444444444,
              "#bd3786"
             ],
             [
              0.5555555555555556,
              "#d8576b"
             ],
             [
              0.6666666666666666,
              "#ed7953"
             ],
             [
              0.7777777777777778,
              "#fb9f3a"
             ],
             [
              0.8888888888888888,
              "#fdca26"
             ],
             [
              1,
              "#f0f921"
             ]
            ],
            "type": "surface"
           }
          ],
          "table": [
           {
            "cells": {
             "fill": {
              "color": "#EBF0F8"
             },
             "line": {
              "color": "white"
             }
            },
            "header": {
             "fill": {
              "color": "#C8D4E3"
             },
             "line": {
              "color": "white"
             }
            },
            "type": "table"
           }
          ]
         },
         "layout": {
          "annotationdefaults": {
           "arrowcolor": "#2a3f5f",
           "arrowhead": 0,
           "arrowwidth": 1
          },
          "autotypenumbers": "strict",
          "coloraxis": {
           "colorbar": {
            "outlinewidth": 0,
            "ticks": ""
           }
          },
          "colorscale": {
           "diverging": [
            [
             0,
             "#8e0152"
            ],
            [
             0.1,
             "#c51b7d"
            ],
            [
             0.2,
             "#de77ae"
            ],
            [
             0.3,
             "#f1b6da"
            ],
            [
             0.4,
             "#fde0ef"
            ],
            [
             0.5,
             "#f7f7f7"
            ],
            [
             0.6,
             "#e6f5d0"
            ],
            [
             0.7,
             "#b8e186"
            ],
            [
             0.8,
             "#7fbc41"
            ],
            [
             0.9,
             "#4d9221"
            ],
            [
             1,
             "#276419"
            ]
           ],
           "sequential": [
            [
             0,
             "#0d0887"
            ],
            [
             0.1111111111111111,
             "#46039f"
            ],
            [
             0.2222222222222222,
             "#7201a8"
            ],
            [
             0.3333333333333333,
             "#9c179e"
            ],
            [
             0.4444444444444444,
             "#bd3786"
            ],
            [
             0.5555555555555556,
             "#d8576b"
            ],
            [
             0.6666666666666666,
             "#ed7953"
            ],
            [
             0.7777777777777778,
             "#fb9f3a"
            ],
            [
             0.8888888888888888,
             "#fdca26"
            ],
            [
             1,
             "#f0f921"
            ]
           ],
           "sequentialminus": [
            [
             0,
             "#0d0887"
            ],
            [
             0.1111111111111111,
             "#46039f"
            ],
            [
             0.2222222222222222,
             "#7201a8"
            ],
            [
             0.3333333333333333,
             "#9c179e"
            ],
            [
             0.4444444444444444,
             "#bd3786"
            ],
            [
             0.5555555555555556,
             "#d8576b"
            ],
            [
             0.6666666666666666,
             "#ed7953"
            ],
            [
             0.7777777777777778,
             "#fb9f3a"
            ],
            [
             0.8888888888888888,
             "#fdca26"
            ],
            [
             1,
             "#f0f921"
            ]
           ]
          },
          "colorway": [
           "#636efa",
           "#EF553B",
           "#00cc96",
           "#ab63fa",
           "#FFA15A",
           "#19d3f3",
           "#FF6692",
           "#B6E880",
           "#FF97FF",
           "#FECB52"
          ],
          "font": {
           "color": "#2a3f5f"
          },
          "geo": {
           "bgcolor": "white",
           "lakecolor": "white",
           "landcolor": "#E5ECF6",
           "showlakes": true,
           "showland": true,
           "subunitcolor": "white"
          },
          "hoverlabel": {
           "align": "left"
          },
          "hovermode": "closest",
          "mapbox": {
           "style": "light"
          },
          "paper_bgcolor": "white",
          "plot_bgcolor": "#E5ECF6",
          "polar": {
           "angularaxis": {
            "gridcolor": "white",
            "linecolor": "white",
            "ticks": ""
           },
           "bgcolor": "#E5ECF6",
           "radialaxis": {
            "gridcolor": "white",
            "linecolor": "white",
            "ticks": ""
           }
          },
          "scene": {
           "xaxis": {
            "backgroundcolor": "#E5ECF6",
            "gridcolor": "white",
            "gridwidth": 2,
            "linecolor": "white",
            "showbackground": true,
            "ticks": "",
            "zerolinecolor": "white"
           },
           "yaxis": {
            "backgroundcolor": "#E5ECF6",
            "gridcolor": "white",
            "gridwidth": 2,
            "linecolor": "white",
            "showbackground": true,
            "ticks": "",
            "zerolinecolor": "white"
           },
           "zaxis": {
            "backgroundcolor": "#E5ECF6",
            "gridcolor": "white",
            "gridwidth": 2,
            "linecolor": "white",
            "showbackground": true,
            "ticks": "",
            "zerolinecolor": "white"
           }
          },
          "shapedefaults": {
           "line": {
            "color": "#2a3f5f"
           }
          },
          "ternary": {
           "aaxis": {
            "gridcolor": "white",
            "linecolor": "white",
            "ticks": ""
           },
           "baxis": {
            "gridcolor": "white",
            "linecolor": "white",
            "ticks": ""
           },
           "bgcolor": "#E5ECF6",
           "caxis": {
            "gridcolor": "white",
            "linecolor": "white",
            "ticks": ""
           }
          },
          "title": {
           "x": 0.05
          },
          "xaxis": {
           "automargin": true,
           "gridcolor": "white",
           "linecolor": "white",
           "ticks": "",
           "title": {
            "standoff": 15
           },
           "zerolinecolor": "white",
           "zerolinewidth": 2
          },
          "yaxis": {
           "automargin": true,
           "gridcolor": "white",
           "linecolor": "white",
           "ticks": "",
           "title": {
            "standoff": 15
           },
           "zerolinecolor": "white",
           "zerolinewidth": 2
          }
         }
        },
        "xaxis": {
         "anchor": "y",
         "domain": [
          0,
          1
         ],
         "title": {
          "text": "date_annee"
         },
         "type": "category"
        },
        "yaxis": {
         "anchor": "x",
         "domain": [
          0,
          1
         ],
         "title": {
          "text": "Taux de défaut moyen"
         }
        }
       }
      }
     },
     "metadata": {},
     "output_type": "display_data"
    }
   ],
   "source": [
    "show_risk_stability_overtime_2(out_of_sample_data, \"Segment\")"
   ]
  }
 ],
 "metadata": {
  "kernelspec": {
   "display_name": ".venv_pd",
   "language": "python",
   "name": "python3"
  },
  "language_info": {
   "codemirror_mode": {
    "name": "ipython",
    "version": 3
   },
   "file_extension": ".py",
   "mimetype": "text/x-python",
   "name": "python",
   "nbconvert_exporter": "python",
   "pygments_lexer": "ipython3",
   "version": "3.10.0"
  }
 },
 "nbformat": 4,
 "nbformat_minor": 2
}
