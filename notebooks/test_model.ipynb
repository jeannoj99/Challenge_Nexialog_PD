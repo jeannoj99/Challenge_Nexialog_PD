{
 "cells": [
  {
   "cell_type": "code",
   "execution_count": 1,
   "metadata": {},
   "outputs": [
    {
     "name": "stdout",
     "output_type": "stream",
     "text": [
      "(CVXPY) Feb 20 12:53:27 PM: Encountered unexpected exception importing solver GLOP:\n",
      "RuntimeError('Unrecognized new version of ortools (9.8.3296). Expected < 9.8.0. Please open a feature request on cvxpy to enable support for this version.')\n",
      "(CVXPY) Feb 20 12:53:27 PM: Encountered unexpected exception importing solver PDLP:\n",
      "RuntimeError('Unrecognized new version of ortools (9.8.3296). Expected < 9.8.0. Please open a feature request on cvxpy to enable support for this version.')\n"
     ]
    }
   ],
   "source": [
    "import seaborn as sns\n",
    "import matplotlib.pyplot as plt\n",
    "import numpy as np\n",
    "import optbinning as opt\n",
    "%matplotlib inline\n",
    "import pandas as pd\n",
    "from sklearn.impute import SimpleImputer\n",
    "pd.set_option('display.max_rows', 500)\n",
    "pd.set_option('display.max_columns', 500)\n",
    "pd.set_option('display.width', 1000)\n",
    "from sklearn.preprocessing import OneHotEncoder, StandardScaler,KBinsDiscretizer, LabelEncoder\n",
    "from sklearn.impute import SimpleImputer\n",
    "import statsmodels.api as sm \n",
    "from sklearn.linear_model import LogisticRegression\n",
    "from sklearn.pipeline import make_pipeline\n",
    "from sklearn.model_selection import train_test_split\n",
    "from sklearn.metrics import classification_report, roc_auc_score, accuracy_score\n",
    "from scipy.stats import chi2_contingency\n",
    "import warnings\n",
    "warnings.filterwarnings(\"ignore\")"
   ]
  },
  {
   "cell_type": "code",
   "execution_count": 2,
   "metadata": {},
   "outputs": [],
   "source": [
    "data=pd.read_csv(\"../data/application_train_vf.csv\",parse_dates=[\"date_mensuelle\"], index_col=0)"
   ]
  },
  {
   "cell_type": "code",
   "execution_count": 3,
   "metadata": {},
   "outputs": [],
   "source": [
    "variables_retenues=['CODE_GENDER',\n",
    " 'FLAG_OWN_CAR',\n",
    " 'FLAG_OWN_REALTY',\n",
    " 'CNT_CHILDREN',\n",
    " 'AMT_INCOME_TOTAL',\n",
    " 'AMT_CREDIT',\n",
    " 'AMT_ANNUITY',\n",
    " 'AMT_GOODS_PRICE',\n",
    " 'NAME_INCOME_TYPE',\n",
    " 'NAME_EDUCATION_TYPE',\n",
    " 'NAME_FAMILY_STATUS',\n",
    " 'NAME_HOUSING_TYPE',\n",
    " 'REGION_POPULATION_RELATIVE',\n",
    " 'DAYS_BIRTH',\n",
    " 'DAYS_EMPLOYED',\n",
    " 'DAYS_REGISTRATION',\n",
    " 'DAYS_ID_PUBLISH'] #,'OWN_CAR_AGE'"
   ]
  },
  {
   "cell_type": "code",
   "execution_count": 4,
   "metadata": {},
   "outputs": [
    {
     "data": {
      "text/plain": [
       "CODE_GENDER                   0.000000\n",
       "FLAG_OWN_CAR                  0.000000\n",
       "FLAG_OWN_REALTY               0.000000\n",
       "CNT_CHILDREN                  0.000000\n",
       "AMT_INCOME_TOTAL              0.000000\n",
       "AMT_CREDIT                    0.000000\n",
       "AMT_ANNUITY                   0.000039\n",
       "AMT_GOODS_PRICE               0.000905\n",
       "NAME_INCOME_TYPE              0.000000\n",
       "NAME_EDUCATION_TYPE           0.000000\n",
       "NAME_FAMILY_STATUS            0.000000\n",
       "NAME_HOUSING_TYPE             0.000000\n",
       "REGION_POPULATION_RELATIVE    0.000000\n",
       "DAYS_BIRTH                    0.000000\n",
       "DAYS_EMPLOYED                 0.000000\n",
       "DAYS_REGISTRATION             0.000000\n",
       "DAYS_ID_PUBLISH               0.000000\n",
       "dtype: float64"
      ]
     },
     "execution_count": 4,
     "metadata": {},
     "output_type": "execute_result"
    }
   ],
   "source": [
    "data[variables_retenues].isna().mean()"
   ]
  },
  {
   "cell_type": "code",
   "execution_count": 5,
   "metadata": {},
   "outputs": [],
   "source": [
    "baseline_data=data[[\"TARGET\"]+variables_retenues].dropna()"
   ]
  },
  {
   "cell_type": "code",
   "execution_count": 6,
   "metadata": {},
   "outputs": [],
   "source": [
    "train_data, test_data=train_test_split(baseline_data, test_size=0.3, stratify=baseline_data[\"TARGET\"], random_state=42)"
   ]
  },
  {
   "cell_type": "code",
   "execution_count": 7,
   "metadata": {},
   "outputs": [],
   "source": [
    "formula =  \"TARGET ~ CODE_GENDER+FLAG_OWN_CAR+FLAG_OWN_REALTY+CNT_CHILDREN+AMT_INCOME_TOTAL+AMT_CREDIT+AMT_ANNUITY+AMT_GOODS_PRICE+NAME_INCOME_TYPE+NAME_EDUCATION_TYPE+NAME_FAMILY_STATUS+NAME_HOUSING_TYPE+REGION_POPULATION_RELATIVE+DAYS_BIRTH+DAYS_EMPLOYED+DAYS_REGISTRATION+DAYS_ID_PUBLISH\""
   ]
  },
  {
   "cell_type": "code",
   "execution_count": 8,
   "metadata": {},
   "outputs": [
    {
     "name": "stdout",
     "output_type": "stream",
     "text": [
      "Warning: Maximum number of iterations has been exceeded.\n",
      "         Current function value: 0.259103\n",
      "         Iterations: 35\n"
     ]
    }
   ],
   "source": [
    "model_logit=sm.Logit.from_formula(formula=formula,data=train_data).fit()"
   ]
  },
  {
   "cell_type": "code",
   "execution_count": 9,
   "metadata": {},
   "outputs": [
    {
     "name": "stdout",
     "output_type": "stream",
     "text": [
      "                           Logit Regression Results                           \n",
      "==============================================================================\n",
      "Dep. Variable:                 TARGET   No. Observations:               214072\n",
      "Model:                          Logit   Df Residuals:                   214037\n",
      "Method:                           MLE   Df Model:                           34\n",
      "Date:                Tue, 20 Feb 2024   Pseudo R-squ.:                 0.04280\n",
      "Time:                        12:53:40   Log-Likelihood:                -55467.\n",
      "converged:                      False   LL-Null:                       -57947.\n",
      "Covariance Type:            nonrobust   LLR p-value:                     0.000\n",
      "========================================================================================================================\n",
      "                                                           coef    std err          z      P>|z|      [0.025      0.975]\n",
      "------------------------------------------------------------------------------------------------------------------------\n",
      "Intercept                                              -14.7985   1587.140     -0.009      0.993   -3125.536    3095.939\n",
      "CODE_GENDER[T.M]                                         0.3945      0.018     21.409      0.000       0.358       0.431\n",
      "CODE_GENDER[T.XNA]                                     -27.9799   2.96e+06  -9.44e-06      1.000   -5.81e+06    5.81e+06\n",
      "FLAG_OWN_CAR[T.Y]                                       -0.3055      0.019    -15.784      0.000      -0.343      -0.268\n",
      "FLAG_OWN_REALTY[T.Y]                                     0.0178      0.018      0.964      0.335      -0.018       0.054\n",
      "NAME_INCOME_TYPE[T.Commercial associate]                12.5479   1587.140      0.008      0.994   -3098.190    3123.285\n",
      "NAME_INCOME_TYPE[T.Maternity leave]                     15.2904   1587.140      0.010      0.992   -3095.448    3126.028\n",
      "NAME_INCOME_TYPE[T.Pensioner]                          -23.5590   1587.141     -0.015      0.988   -3134.299    3087.181\n",
      "NAME_INCOME_TYPE[T.State servant]                       12.4241   1587.140      0.008      0.994   -3098.313    3123.162\n",
      "NAME_INCOME_TYPE[T.Student]                              2.2188   1597.028      0.001      0.999   -3127.899    3132.336\n",
      "NAME_INCOME_TYPE[T.Unemployed]                         -21.5740   1587.141     -0.014      0.989   -3132.314    3089.166\n",
      "NAME_INCOME_TYPE[T.Working]                             12.7211   1587.140      0.008      0.994   -3098.016    3123.459\n",
      "NAME_EDUCATION_TYPE[T.Higher education]                  0.6820      0.588      1.160      0.246      -0.470       1.834\n",
      "NAME_EDUCATION_TYPE[T.Incomplete higher]                 0.8383      0.589      1.422      0.155      -0.317       1.993\n",
      "NAME_EDUCATION_TYPE[T.Lower secondary]                   1.4790      0.591      2.503      0.012       0.321       2.637\n",
      "NAME_EDUCATION_TYPE[T.Secondary / secondary special]     1.1837      0.588      2.014      0.044       0.032       2.336\n",
      "NAME_FAMILY_STATUS[T.Married]                           -0.1848      0.027     -6.914      0.000      -0.237      -0.132\n",
      "NAME_FAMILY_STATUS[T.Separated]                         -0.0063      0.040     -0.157      0.875      -0.085       0.072\n",
      "NAME_FAMILY_STATUS[T.Single / not married]              -0.0636      0.032     -2.015      0.044      -0.125      -0.002\n",
      "NAME_FAMILY_STATUS[T.Widow]                             -0.1181      0.050     -2.367      0.018      -0.216      -0.020\n",
      "NAME_HOUSING_TYPE[T.House / apartment]                  -0.1266      0.131     -0.968      0.333      -0.383       0.130\n",
      "NAME_HOUSING_TYPE[T.Municipal apartment]                -0.0836      0.137     -0.608      0.543      -0.353       0.186\n",
      "NAME_HOUSING_TYPE[T.Office apartment]                   -0.3322      0.163     -2.043      0.041      -0.651      -0.013\n",
      "NAME_HOUSING_TYPE[T.Rented apartment]                    0.0276      0.141      0.195      0.845      -0.249       0.304\n",
      "NAME_HOUSING_TYPE[T.With parents]                       -0.0616      0.134     -0.458      0.647      -0.325       0.202\n",
      "CNT_CHILDREN                                             0.0112      0.012      0.930      0.352      -0.012       0.035\n",
      "AMT_INCOME_TOTAL                                     -3.655e-07   1.14e-07     -3.217      0.001   -5.88e-07   -1.43e-07\n",
      "AMT_CREDIT                                            3.048e-06   1.29e-07     23.598      0.000    2.79e-06     3.3e-06\n",
      "AMT_ANNUITY                                           1.027e-05   9.61e-07     10.684      0.000    8.38e-06    1.21e-05\n",
      "AMT_GOODS_PRICE                                      -3.783e-06   1.49e-07    -25.429      0.000   -4.07e-06   -3.49e-06\n",
      "REGION_POPULATION_RELATIVE                              -7.6046      0.664    -11.456      0.000      -8.906      -6.304\n",
      "DAYS_BIRTH                                              3.7e-05   2.81e-06     13.148      0.000    3.15e-05    4.25e-05\n",
      "DAYS_EMPLOYED                                         9.825e-05   5.17e-06     19.021      0.000    8.81e-05       0.000\n",
      "DAYS_REGISTRATION                                     2.191e-05   2.63e-06      8.328      0.000    1.68e-05    2.71e-05\n",
      "DAYS_ID_PUBLISH                                       7.487e-05   5.74e-06     13.037      0.000    6.36e-05    8.61e-05\n",
      "========================================================================================================================\n"
     ]
    }
   ],
   "source": [
    "print(model_logit.summary())"
   ]
  },
  {
   "cell_type": "code",
   "execution_count": 10,
   "metadata": {},
   "outputs": [],
   "source": [
    "y_pred_proba=model_logit.predict(test_data)"
   ]
  },
  {
   "cell_type": "code",
   "execution_count": 11,
   "metadata": {},
   "outputs": [
    {
     "data": {
      "text/plain": [
       "0.3229297846568788"
      ]
     },
     "execution_count": 11,
     "metadata": {},
     "output_type": "execute_result"
    }
   ],
   "source": [
    "2*roc_auc_score(test_data[\"TARGET\"], y_pred_proba) - 1"
   ]
  },
  {
   "cell_type": "code",
   "execution_count": null,
   "metadata": {},
   "outputs": [],
   "source": []
  }
 ],
 "metadata": {
  "kernelspec": {
   "display_name": ".venv_pd",
   "language": "python",
   "name": "python3"
  },
  "language_info": {
   "codemirror_mode": {
    "name": "ipython",
    "version": 3
   },
   "file_extension": ".py",
   "mimetype": "text/x-python",
   "name": "python",
   "nbconvert_exporter": "python",
   "pygments_lexer": "ipython3",
   "version": "3.11.7"
  }
 },
 "nbformat": 4,
 "nbformat_minor": 2
}
