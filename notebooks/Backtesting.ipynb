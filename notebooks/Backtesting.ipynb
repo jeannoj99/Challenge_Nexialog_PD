{
 "cells": [
  {
   "cell_type": "code",
   "execution_count": 1,
   "metadata": {},
   "outputs": [
    {
     "name": "stdout",
     "output_type": "stream",
     "text": [
      "(CVXPY) Apr 14 11:39:13 AM: Encountered unexpected exception importing solver GLOP:\n",
      "RuntimeError('Unrecognized new version of ortools (9.8.3296). Expected < 9.8.0. Please open a feature request on cvxpy to enable support for this version.')\n",
      "(CVXPY) Apr 14 11:39:13 AM: Encountered unexpected exception importing solver PDLP:\n",
      "RuntimeError('Unrecognized new version of ortools (9.8.3296). Expected < 9.8.0. Please open a feature request on cvxpy to enable support for this version.')\n"
     ]
    }
   ],
   "source": [
    "import seaborn as sns\n",
    "import matplotlib.pyplot as plt\n",
    "import numpy as np\n",
    "import optbinning as opt\n",
    "%matplotlib inline\n",
    "import pandas as pd\n",
    "from sklearn.impute import SimpleImputer\n",
    "pd.set_option('display.max_rows', 500)\n",
    "pd.set_option('display.max_columns', 500)\n",
    "pd.set_option('display.width', 1000)\n",
    "from sklearn.preprocessing import OneHotEncoder, StandardScaler,KBinsDiscretizer, LabelEncoder\n",
    "from sklearn.impute import SimpleImputer\n",
    "from scipy.stats import mannwhitneyu ,chi2_contingency, anderson, f_oneway\n",
    "import statsmodels.api as sm \n",
    "from sklearn.linear_model import LogisticRegression\n",
    "from sklearn.pipeline import make_pipeline\n",
    "from sklearn.model_selection import train_test_split\n",
    "from sklearn.metrics import classification_report, roc_auc_score, accuracy_score\n",
    "import warnings\n",
    "warnings.filterwarnings(\"ignore\")"
   ]
  },
  {
   "cell_type": "code",
   "execution_count": 2,
   "metadata": {},
   "outputs": [],
   "source": [
    "data=pd.read_csv(\"../data/application_train_vf.csv\",parse_dates=[\"date_mensuelle\"], index_col=0)"
   ]
  },
  {
   "cell_type": "code",
   "execution_count": 3,
   "metadata": {},
   "outputs": [],
   "source": [
    "credit_bureau_data=pd.read_csv(\"../data/cb_findings.csv\", index_col=0)\n",
    "data=data.merge(credit_bureau_data, left_on=\"SK_ID_CURR\", right_on=\"CB_SK_ID_CURR\")"
   ]
  },
  {
   "cell_type": "code",
   "execution_count": 4,
   "metadata": {},
   "outputs": [],
   "source": [
    "data[\"date_annee\"]=data[\"date_mensuelle\"].dt.year"
   ]
  },
  {
   "cell_type": "code",
   "execution_count": 5,
   "metadata": {},
   "outputs": [],
   "source": [
    "data_reference = data[data[\"date_annee\"] < 2020]"
   ]
  },
  {
   "cell_type": "code",
   "execution_count": 6,
   "metadata": {},
   "outputs": [],
   "source": [
    "data_backtest = data[data[\"date_annee\"] == 2020]"
   ]
  },
  {
   "cell_type": "code",
   "execution_count": 8,
   "metadata": {},
   "outputs": [],
   "source": [
    "import sys\n",
    "import os\n",
    "sys.path.append(os.getcwd()+\"/..\")"
   ]
  },
  {
   "cell_type": "code",
   "execution_count": 104,
   "metadata": {},
   "outputs": [],
   "source": [
    "import os\n",
    "import sys\n",
    "import pickle\n",
    "import numpy as np\n",
    "import pandas as pd\n",
    "import openpyxl\n",
    "path=os.getcwd()\n",
    "sys.path.append(path+\"\")\n",
    "from src.preprocessing import DecisionTreeDiscretizer\n",
    "from src.score import grid_score, attribute_score, attribute_chr, subplot_segment_default_rate\n",
    "\n",
    "required_columns={\n",
    "    \"Cash loans\" : [\"OCCUPATION_TYPE\", \"NAME_EDUCATION_TYPE\" , \"CB_NB_CREDIT_CLOSED\",\n",
    "              \"CB_DAYS_CREDIT\", \"AMT_CREDIT\",\"CB_AMT_CREDIT_SUM\",\"AMT_INCOME_TOTAL\",\n",
    "              \"AMT_GOODS_PRICE\",\"DAYS_BIRTH\", \"DAYS_EMPLOYED\", \"DAYS_REGISTRATION\" ],\n",
    "    \"Revolving loans\" : [\"OCCUPATION_TYPE\", \"NAME_EDUCATION_TYPE\" , \"CB_NB_CREDIT_CLOSED\",\n",
    "              \"CB_DAYS_CREDIT\", \"AMT_CREDIT\",\"CB_AMT_CREDIT_SUM\",\"AMT_INCOME_TOTAL\",\n",
    "              \"AMT_GOODS_PRICE\",\"DAYS_BIRTH\", \"DAYS_EMPLOYED\", \"DAYS_REGISTRATION\" ]\n",
    "}\n",
    "\n",
    "cash_grid_score=pd.read_excel(\"../data/grille_de_score_cash.xlsx\", index_col=0)\n",
    "revolving_grid_score = pd.read_excel(\"../data/grille_de_score_revolving.xlsx\", index_col=0)\n",
    "\n",
    "discretizers={}\n",
    "\n",
    "with open(\"../web_app/utils/Revolving/discretizers.pkl\", \"rb\") as f:\n",
    "    discretizers[\"Revolving loans\"]=pickle.load(f)\n",
    "\n",
    "with open(\"../web_app/utils/Cash/discretizers.pkl\", \"rb\") as f:\n",
    "    discretizers[\"Cash loans\"]=pickle.load(f)\n",
    "\n",
    "breaks = {}\n",
    "\n",
    "with open(\"../web_app/utils/Cash/breaks.pkl\", \"rb\") as f:\n",
    "    breaks[\"Cash loans\"]=pickle.load(f)\n",
    "\n",
    "with open(\"../web_app/utils/Revolving/breaks.pkl\", \"rb\") as f:\n",
    "    breaks[\"Revolving loans\"]=pickle.load(f)\n",
    "\n"
   ]
  },
  {
   "cell_type": "code",
   "execution_count": 105,
   "metadata": {},
   "outputs": [],
   "source": [
    "class Dataset :\n",
    "    \n",
    "    def __init__(self,data, contract_type):\n",
    "        self.contract_type = contract_type\n",
    "        self.data = data[data[\"NAME_CONTRACT_TYPE\"]==contract_type]\n",
    "        self.discretizers = discretizers[self.contract_type]\n",
    "        self.required_columns = required_columns[self.contract_type]\n",
    "        self.note_breaks = breaks[self.contract_type]\n",
    "        self.cash_scorecard = cash_grid_score   \n",
    "        self.revolving_scorecard = revolving_grid_score\n",
    "        \n",
    "    group_education_type={\n",
    "    \"Graduated\" : [\"Academic degree\", \"Higher education\"],\n",
    "    \"Non graduated\":[\"Lower secondary\", \"Secondary / secondary special\", \"Incomplete higher\"]\n",
    "}\n",
    "    group_occupation_type = {\n",
    "        \"Cash loans\":{\n",
    "    0: ['Accountants', 'HR staff', 'High skill tech staff'],\n",
    " 1: ['Managers', 'Core staff', 'Private service staff', 'Unknown',\n",
    "        'Medicine staff', 'IT staff', 'Secretaries'],\n",
    " 2: ['Realty agents', 'Cleaning staff', 'Sales staff', 'Laborers',\n",
    "        'Cooking staff', 'Security staff'],\n",
    " 3: ['Drivers', 'Waiters/barmen staff', 'Low-skill Laborers'],\n",
    "},\n",
    "        \"Revolving loans\" : {\n",
    "       0: ['IT staff', 'Accountants', 'HR staff', 'Managers', 'High skill tech staff', 'Core staff'], \n",
    "       1: ['Unknown', 'Medicine staff', 'Private service staff'],\n",
    "       2: ['Realty agents', 'Secretaries', 'Laborers', 'Security staff',\n",
    "              'Sales staff', 'Drivers', 'Waiters/barmen staff', 'Cleaning staff',\n",
    "              'Cooking staff', 'Low-skill Laborers']\n",
    "}\n",
    "    }\n",
    "    \n",
    "    def check_columns(self):\n",
    "        if len(set(self.required_columns).difference(self.data.columns)) == 0:\n",
    "            return True\n",
    "        else :\n",
    "            return False\n",
    "        \n",
    "    def _features_tranformation(self):\n",
    "        self.data[\"NAME_EDUCATION_TYPE\"] = self.data[\"NAME_EDUCATION_TYPE\"].map({value: key for key, values in self.group_education_type.items() for value in values})\n",
    "        self.data[\"OCCUPATION_TYPE\"].fillna(\"Unknown\", inplace=True)\n",
    "        self.data[\"OCCUPATION_TYPE\"] = self.data[\"OCCUPATION_TYPE\"].map({value: key for key, values in self.group_occupation_type[self.contract_type].items() for value in values})\n",
    "        \n",
    "        if self.contract_type == \"Cash loans\":\n",
    "            # ['BORROWER_AGE', 'BORROWER_SENIORITY', 'AMT_CREDIT_NORM', 'CB_NB_CREDIT_CLOSED', 'CB_DAYS_CREDIT']\n",
    "            \n",
    "            self.data['BORROWER_AGE']=self.discretizers['BORROWER_AGE'].transform(self.data['BORROWER_AGE'])\n",
    "            self.data['BORROWER_SENIORITY']=self.discretizers['BORROWER_SENIORITY'].transform(self.data['BORROWER_SENIORITY'])\n",
    "            self.data['AMT_CREDIT_NORM']=self.discretizers['AMT_CREDIT_NORM'].transform(self.data['AMT_CREDIT_NORM'])\n",
    "            self.data['CB_NB_CREDIT_CLOSED']=self.discretizers['CB_NB_CREDIT_CLOSED'].transform(self.data['CB_NB_CREDIT_CLOSED'])\n",
    "            self.data['CB_DAYS_CREDIT']=self.discretizers['CB_DAYS_CREDIT'].transform(self.data['CB_DAYS_CREDIT'])\n",
    "            pass\n",
    "        \n",
    "        elif self.contract_type == \"Revolving loans\":\n",
    "            # self.data['BORROWER_AGE']=self.discretizers['BORROWER_AGE'].transform(self.data['BORROWER_AGE'])\n",
    "            self.data['BORROWER_SENIORITY']=self.discretizers['BORROWER_SENIORITY'].transform(self.data['BORROWER_SENIORITY'])\n",
    "            # self.data['AMT_CREDIT_NORM']=self.discretizers['AMT_CREDIT_NORM'].transform(self.data['AMT_CREDIT_NORM'])\n",
    "            self.data['CB_NB_CREDIT_CLOSED']=self.discretizers['CB_NB_CREDIT_CLOSED'].transform(self.data['CB_NB_CREDIT_CLOSED'])\n",
    "            self.data['CB_DAYS_CREDIT']=self.discretizers['CB_DAYS_CREDIT'].transform(self.data['CB_DAYS_CREDIT'])\n",
    "            self.data[\"AMT_GOODS_PRICE\"] = self.discretizers['AMT_GOODS_PRICE'].transform(self.data['AMT_GOODS_PRICE'])\n",
    "            self.data[\"DAYS_LAST_PHONE_CHANGE\"] = self.discretizers['DAYS_LAST_PHONE_CHANGE'].transform(self.data['DAYS_LAST_PHONE_CHANGE'])\n",
    "            pass\n",
    "        \n",
    "    def transform_columns(self):\n",
    "        \n",
    "        if self.check_columns():\n",
    "\n",
    "            self.data[\"AMT_CREDIT_TO_INCOME\"]=(self.data[\"AMT_CREDIT\"] + self.data[\"CB_AMT_CREDIT_SUM\"])/self.data[\"AMT_INCOME_TOTAL\"]\n",
    "\n",
    "            # median_imputer=SimpleImputer(strategy=\"median\").set_output(transform=\"pandas\")\n",
    "            # self.data[\"AMT_GOODS_PRICE\"]=median_imputer.fit_transform(self.data[\"AMT_GOODS_PRICE\"].to_numpy().reshape(-1,1))\n",
    "            \n",
    "            self.data[\"AMT_CREDIT_NORM\"]=self.data[\"AMT_CREDIT\"]/self.data[\"AMT_GOODS_PRICE\"]\n",
    "            # self.data[\"AMT_ANNUITY\"]=(self.data[\"AMT_ANNUITY\"]+self.data[\"CB_AMT_ANNUITY\"])/self.data[\"AMT_INCOME_TOTAL\"]\n",
    "            self.data[\"AMT_INCOME_TOTAL_NORM\"]=self.data[\"AMT_INCOME_TOTAL\"]/self.data[\"AMT_GOODS_PRICE\"]\n",
    "            self.data[\"BORROWER_AGE\"]=self.data[\"DAYS_BIRTH\"].apply(np.abs)//365\n",
    "            self.data[\"BORROWER_SENIORITY\"]=self.data[\"DAYS_EMPLOYED\"].apply(np.abs)//365\n",
    "            self.data[\"BORROWER_FIDELITY\"]=self.data[\"DAYS_REGISTRATION\"].apply(np.abs)//365\n",
    "            self._features_tranformation()\n",
    "            \n",
    "        else:\n",
    "            pass\n",
    "        \n",
    "    def score(self):\n",
    "        if self.contract_type == \"Cash loans\":\n",
    "            attribute_score(grid_score=self.cash_scorecard, data=self.data)\n",
    "            pass\n",
    "        elif self.contract_type == \"Revolving loans\":\n",
    "            attribute_score(grid_score=self.revolving_scorecard, data=self.data)\n",
    "            pass\n",
    "        \n",
    "    def get_chr(self):\n",
    "        self.score()\n",
    "        self.data[\"Segment\"] = pd.cut(self.data[\"Note\"], bins=self.note_breaks, labels=[i for i in range(len(self.note_breaks)-1)] )\n",
    "        pass"
   ]
  },
  {
   "cell_type": "code",
   "execution_count": 106,
   "metadata": {},
   "outputs": [],
   "source": [
    "data_backtest_cash = data_backtest[data_backtest[\"NAME_CONTRACT_TYPE\"]==\"Cash loans\"]\n",
    "data_backtest_revolving = data_backtest[data_backtest[\"NAME_CONTRACT_TYPE\"]==\"Revolving loans\"]"
   ]
  },
  {
   "cell_type": "code",
   "execution_count": 107,
   "metadata": {},
   "outputs": [
    {
     "data": {
      "text/plain": [
       "((34663, 132), (3701, 132))"
      ]
     },
     "execution_count": 107,
     "metadata": {},
     "output_type": "execute_result"
    }
   ],
   "source": [
    "data_backtest_cash.shape , data_backtest_revolving.shape"
   ]
  },
  {
   "cell_type": "markdown",
   "metadata": {},
   "source": [
    "#### Population Scoring"
   ]
  },
  {
   "cell_type": "code",
   "execution_count": 108,
   "metadata": {},
   "outputs": [],
   "source": [
    "dataset_backtest_cash = Dataset(data_backtest, \"Cash loans\")"
   ]
  },
  {
   "cell_type": "code",
   "execution_count": 109,
   "metadata": {},
   "outputs": [],
   "source": [
    "dataset_backtest_cash.transform_columns()\n",
    "dataset_backtest_cash.get_chr()"
   ]
  },
  {
   "cell_type": "code",
   "execution_count": 110,
   "metadata": {},
   "outputs": [
    {
     "data": {
      "text/plain": [
       "267744    3\n",
       "267745    2\n",
       "267746    3\n",
       "267747    5\n",
       "267748    3\n",
       "         ..\n",
       "306102    5\n",
       "306103    3\n",
       "306104    1\n",
       "306105    2\n",
       "306106    0\n",
       "Name: Segment, Length: 34663, dtype: category\n",
       "Categories (7, int64): [0 < 1 < 2 < 3 < 4 < 5 < 6]"
      ]
     },
     "execution_count": 110,
     "metadata": {},
     "output_type": "execute_result"
    }
   ],
   "source": [
    "dataset_backtest_cash.data[\"Segment\"]"
   ]
  },
  {
   "cell_type": "code",
   "execution_count": 111,
   "metadata": {},
   "outputs": [],
   "source": [
    "dataset_reference_cash = Dataset(data_reference, \"Cash loans\")\n",
    "dataset_reference_cash.transform_columns()\n",
    "dataset_reference_cash.get_chr()"
   ]
  },
  {
   "cell_type": "code",
   "execution_count": 112,
   "metadata": {},
   "outputs": [],
   "source": [
    "def calculate_contribution_to_is(x):\n",
    "    return (x[\"proportion_reference\"] - x[\"proportion_backtest\"])*np.log(x[\"proportion_reference\"] / x[\"proportion_backtest\"])"
   ]
  },
  {
   "cell_type": "markdown",
   "metadata": {},
   "source": [
    "#### System Stability Index"
   ]
  },
  {
   "cell_type": "code",
   "execution_count": 113,
   "metadata": {},
   "outputs": [],
   "source": [
    "# SSI \n",
    "def system_stability_index(reference,backtest, variable):\n",
    "    dist_ref = reference[variable].value_counts(normalize=True).reset_index()\n",
    "    dist_back = backtest[variable].value_counts(normalize=True).reset_index()\n",
    "    dist_all = dist_ref.merge(dist_back, how=\"outer\", on=variable, suffixes=(\"_reference\",\"_backtest\"))\n",
    "    dist_all[\"contribution\"]=dist_all.apply(calculate_contribution_to_is, axis=1)\n",
    "    return dist_all, dist_all[\"contribution\"].sum()"
   ]
  },
  {
   "cell_type": "code",
   "execution_count": 114,
   "metadata": {},
   "outputs": [
    {
     "data": {
      "text/plain": [
       "(  Segment  proportion_reference  proportion_backtest  contribution\n",
       " 0       0              0.063920             0.063874  3.260648e-08\n",
       " 1       1              0.148708             0.151030  3.596648e-05\n",
       " 2       2              0.202028             0.205787  6.929938e-05\n",
       " 3       3              0.227755             0.227771  1.065762e-09\n",
       " 4       4              0.199647             0.199411  2.772960e-07\n",
       " 5       5              0.127905             0.123449  1.580070e-04\n",
       " 6       6              0.030036             0.028677  6.296260e-05,\n",
       " 0.00032654644743646216)"
      ]
     },
     "execution_count": 114,
     "metadata": {},
     "output_type": "execute_result"
    }
   ],
   "source": [
    "system_stability_index(dataset_reference_cash.data,dataset_backtest_cash.data, \"Segment\")"
   ]
  },
  {
   "cell_type": "code",
   "execution_count": 115,
   "metadata": {},
   "outputs": [],
   "source": [
    "from src.score import subplot_segment_default_rate"
   ]
  },
  {
   "cell_type": "code",
   "execution_count": 116,
   "metadata": {},
   "outputs": [
    {
     "data": {
      "image/png": "[encoded data removed]",
      "text/plain": [
       "<Figure size 1000x600 with 2 Axes>"
      ]
     },
     "metadata": {},
     "output_type": "display_data"
    }
   ],
   "source": [
    "subplot_segment_default_rate(dataset_backtest_cash.data)"
   ]
  },
  {
   "cell_type": "code",
   "execution_count": 117,
   "metadata": {},
   "outputs": [
    {
     "data": {
      "image/png": "[encoded data removed]",
      "text/plain": [
       "<Figure size 1000x600 with 2 Axes>"
      ]
     },
     "metadata": {},
     "output_type": "display_data"
    }
   ],
   "source": [
    "subplot_segment_default_rate(dataset_reference_cash.data)"
   ]
  },
  {
   "cell_type": "code",
   "execution_count": 118,
   "metadata": {},
   "outputs": [],
   "source": [
    "from scipy.stats import ks_2samp"
   ]
  },
  {
   "cell_type": "code",
   "execution_count": 119,
   "metadata": {},
   "outputs": [
    {
     "data": {
      "text/plain": [
       "KstestResult(statistic=0.008389234966011516, pvalue=0.02785213975219314, statistic_location=630, statistic_sign=-1)"
      ]
     },
     "execution_count": 119,
     "metadata": {},
     "output_type": "execute_result"
    }
   ],
   "source": [
    "ks_2samp(data1=dataset_reference_cash.data[\"Note\"], data2=dataset_backtest_cash.data[\"Note\"], alternative=\"two-sided\")"
   ]
  },
  {
   "cell_type": "code",
   "execution_count": null,
   "metadata": {},
   "outputs": [],
   "source": [
    "# # KS test\n",
    "# def kolmogorov_smirnov_test(reference, backtest,colname):\n",
    "#     results = ks_2samp(data1=reference[colname], data2=backtest[colname])\n",
    "#     if results[1] < 0.05:\n",
    "#         print(f\"Null hypothesis is rejected : The distributions of {colname} are not the same\")\n",
    "#     else :\n",
    "#         print(f\"Null hypothesis is not rejected : The distributions of {colname} are the same\")"
   ]
  },
  {
   "cell_type": "markdown",
   "metadata": {},
   "source": [
    "#### Stabilité des variables explicatives\n"
   ]
  },
  {
   "cell_type": "code",
   "execution_count": 120,
   "metadata": {},
   "outputs": [],
   "source": [
    "cash_features = [\"OCCUPATION_TYPE\", \"NAME_EDUCATION_TYPE\"  , \"AMT_CREDIT_NORM\" , \"BORROWER_AGE\" , \"BORROWER_SENIORITY\" , \"CB_NB_CREDIT_CLOSED\", \"CB_DAYS_CREDIT\"]\n"
   ]
  },
  {
   "cell_type": "code",
   "execution_count": 121,
   "metadata": {},
   "outputs": [
    {
     "name": "stdout",
     "output_type": "stream",
     "text": [
      "OCCUPATION_TYPE stability : \n",
      "(   OCCUPATION_TYPE  proportion_reference  proportion_backtest  contribution\n",
      "0                0              0.068773             0.067969      0.000009\n",
      "1                1              0.516917             0.514785      0.000009\n",
      "2                2              0.341374             0.343998      0.000020\n",
      "3                3              0.072937             0.073248      0.000001, 3.967468274184672e-05)\n",
      "************************************************************************************************************************\n",
      "NAME_EDUCATION_TYPE stability : \n",
      "(  NAME_EDUCATION_TYPE  proportion_reference  proportion_backtest  contribution\n",
      "0           Graduated              0.235738             0.235063  1.936147e-06\n",
      "1       Non graduated              0.764262             0.764937  5.960906e-07, 2.532237213216641e-06)\n",
      "************************************************************************************************************************\n",
      "AMT_CREDIT_NORM stability : \n",
      "(  AMT_CREDIT_NORM  proportion_reference  proportion_backtest  contribution\n",
      "0   (-inf, 1.158]              0.605815             0.602256      0.000021\n",
      "1  (1.158, 1.211]              0.162785             0.163402      0.000002\n",
      "2  (1.211, 1.317]              0.129100             0.128639      0.000002\n",
      "3    (1.317, inf]              0.102300             0.105703      0.000111, 0.00013632914180616528)\n",
      "************************************************************************************************************************\n",
      "BORROWER_AGE stability : \n",
      "(   BORROWER_AGE  proportion_reference  proportion_backtest  contribution\n",
      "0  (-inf, 30.5]              0.162785             0.162594  2.233594e-07\n",
      "1  (30.5, 38.5]              0.212228             0.217927  1.510041e-04\n",
      "2  (38.5, 52.5]              0.344226             0.341488  2.186186e-05\n",
      "3   (52.5, inf]              0.280761             0.277991  2.747130e-05, 0.00020056060104950513)\n",
      "************************************************************************************************************************\n",
      "BORROWER_SENIORITY stability : \n",
      "(  BORROWER_SENIORITY  proportion_reference  proportion_backtest  contribution\n",
      "0        (-inf, 2.5]              0.282672             0.281222      0.000007\n",
      "1         (2.5, 5.5]              0.202970             0.207080      0.000082\n",
      "2        (5.5, 10.5]              0.183179             0.184491      0.000009\n",
      "3        (10.5, inf]              0.331179             0.327208      0.000048, 0.00014709709853123537)\n",
      "************************************************************************************************************************\n",
      "CB_NB_CREDIT_CLOSED stability : \n",
      "(  CB_NB_CREDIT_CLOSED  proportion_reference  proportion_backtest  contribution\n",
      "0         (-inf, 0.5]              0.246301             0.248334      0.000017\n",
      "1          (0.5, 1.5]              0.172125             0.173874      0.000018\n",
      "2          (1.5, inf]              0.581574             0.577792      0.000025, 5.907135579413468e-05)\n",
      "************************************************************************************************************************\n",
      "CB_DAYS_CREDIT stability : \n",
      "(      CB_DAYS_CREDIT  proportion_reference  proportion_backtest  contribution\n",
      "0    (-inf, -2921.5]              0.293375             0.290800      0.000023\n",
      "1  (-2921.5, -254.5]              0.358325             0.357038      0.000005\n",
      "2    (-254.5, -59.5]              0.279123             0.283270      0.000061\n",
      "3       (-59.5, inf]              0.069177             0.068892      0.000001, 8.969308152083562e-05)\n",
      "************************************************************************************************************************\n"
     ]
    }
   ],
   "source": [
    "for variable  in cash_features:\n",
    "    print(f\"{variable} stability : \")\n",
    "    print(system_stability_index(dataset_reference_cash.data,dataset_backtest_cash.data, variable))\n",
    "    print(60*\"**\")"
   ]
  },
  {
   "cell_type": "code",
   "execution_count": 122,
   "metadata": {},
   "outputs": [],
   "source": [
    "##### revolving\n",
    "dataset_reference_revolving = Dataset(data_reference, \"Revolving loans\")\n",
    "dataset_reference_revolving.transform_columns()\n",
    "dataset_reference_revolving.get_chr()"
   ]
  },
  {
   "cell_type": "code",
   "execution_count": 123,
   "metadata": {},
   "outputs": [],
   "source": [
    "dataset_backtest_revolving = Dataset(data_backtest, \"Revolving loans\")\n",
    "dataset_backtest_revolving.transform_columns()\n",
    "dataset_backtest_revolving.get_chr()"
   ]
  },
  {
   "cell_type": "code",
   "execution_count": 127,
   "metadata": {},
   "outputs": [
    {
     "data": {
      "text/plain": [
       "KstestResult(statistic=0.021493529748954243, pvalue=0.09959238273081272, statistic_location=427, statistic_sign=1)"
      ]
     },
     "execution_count": 127,
     "metadata": {},
     "output_type": "execute_result"
    }
   ],
   "source": [
    "ks_2samp(data1=dataset_reference_revolving.data[\"Note\"], data2=dataset_backtest_revolving.data[\"Note\"], alternative=\"two-sided\")"
   ]
  },
  {
   "cell_type": "code",
   "execution_count": 124,
   "metadata": {},
   "outputs": [
    {
     "data": {
      "text/plain": [
       "(  Segment  proportion_reference  proportion_backtest  contribution\n",
       " 0       0              0.089116             0.086240      0.000094\n",
       " 1       1              0.174106             0.163017      0.000730\n",
       " 2       2              0.220275             0.213571      0.000207\n",
       " 3       3              0.218507             0.234388      0.001114\n",
       " 4       4              0.155363             0.160584      0.000173\n",
       " 5       5              0.097682             0.094350      0.000116\n",
       " 6       6              0.044951             0.047851      0.000181,\n",
       " 0.002614977574045462)"
      ]
     },
     "execution_count": 124,
     "metadata": {},
     "output_type": "execute_result"
    }
   ],
   "source": [
    "system_stability_index(dataset_reference_revolving.data,dataset_backtest_revolving.data, \"Segment\")"
   ]
  },
  {
   "cell_type": "code",
   "execution_count": 126,
   "metadata": {},
   "outputs": [
    {
     "name": "stdout",
     "output_type": "stream",
     "text": [
      "AMT_GOODS_PRICE stability : \n",
      "(        AMT_GOODS_PRICE  proportion_reference  proportion_backtest  contribution\n",
      "0      (-inf, 168750.0]              0.101689             0.094381  5.450375e-04\n",
      "1  (168750.0, 191250.0]              0.218641             0.207583  5.738855e-04\n",
      "2  (191250.0, 517500.0]              0.543371             0.561648  6.046036e-04\n",
      "3       (517500.0, inf]              0.136299             0.136388  5.897542e-08, 0.0017235855678144711)\n",
      "************************************************************************************************************************\n",
      "OCCUPATION_TYPE stability : \n",
      "(   OCCUPATION_TYPE  proportion_reference  proportion_backtest  contribution\n",
      "0                0              0.294550             0.289111      0.000101\n",
      "1                1              0.295531             0.305323      0.000319\n",
      "2                2              0.409919             0.405566      0.000046, 0.000466986914584121)\n",
      "************************************************************************************************************************\n",
      "NAME_EDUCATION_TYPE stability : \n",
      "(  NAME_EDUCATION_TYPE  proportion_reference  proportion_backtest  contribution\n",
      "0           Graduated              0.327927             0.319643      0.000212\n",
      "1       Non graduated              0.672073             0.680357      0.000101, 0.0003134482993629121)\n",
      "************************************************************************************************************************\n",
      "DAYS_LAST_PHONE_CHANGE stability : \n",
      "(  DAYS_LAST_PHONE_CHANGE  proportion_reference  proportion_backtest  contribution\n",
      "0        (-inf, -1637.5]              0.155344             0.160227      0.000151\n",
      "1      (-1637.5, -817.5]              0.211419             0.221021      0.000426\n",
      "2       (-817.5, -226.5]              0.397628             0.386652      0.000307\n",
      "3          (-226.5, inf]              0.235608             0.232099      0.000053, 0.0009374825236612864)\n",
      "************************************************************************************************************************\n",
      "BORROWER_SENIORITY stability : \n",
      "(  BORROWER_SENIORITY  proportion_reference  proportion_backtest  contribution\n",
      "0        (-inf, 1.5]              0.242677             0.241827      0.000003\n",
      "1         (1.5, 4.5]              0.289445             0.282086      0.000190\n",
      "2         (4.5, 8.5]              0.176981             0.173196      0.000082\n",
      "3         (8.5, inf]              0.290898             0.302891      0.000485, 0.0007588592662139961)\n",
      "************************************************************************************************************************\n",
      "CB_NB_CREDIT_CLOSED stability : \n",
      "(  CB_NB_CREDIT_CLOSED  proportion_reference  proportion_backtest  contribution\n",
      "0         (-inf, 0.5]              0.294393             0.297487      0.000032\n",
      "1          (0.5, 2.5]              0.327064             0.322886      0.000054\n",
      "2          (2.5, inf]              0.378544             0.379627      0.000003, 8.916636507949596e-05)\n",
      "************************************************************************************************************************\n",
      "CB_DAYS_CREDIT stability : \n",
      "(      CB_DAYS_CREDIT  proportion_reference  proportion_backtest  contribution\n",
      "0    (-inf, -2921.5]              0.301422             0.303702      0.000017\n",
      "1  (-2921.5, -264.5]              0.331619             0.337747      0.000112\n",
      "2    (-264.5, -64.5]              0.283123             0.276682      0.000148\n",
      "3       (-64.5, inf]              0.083837             0.081870      0.000047, 0.00032431870719367947)\n",
      "************************************************************************************************************************\n"
     ]
    }
   ],
   "source": [
    "revolving_features = [\"AMT_GOODS_PRICE\", \"OCCUPATION_TYPE\", \"NAME_EDUCATION_TYPE\" , \"DAYS_LAST_PHONE_CHANGE\" , \"BORROWER_SENIORITY\" , \"CB_NB_CREDIT_CLOSED\", \"CB_DAYS_CREDIT\"]\n",
    "\n",
    "for variable  in revolving_features:\n",
    "    print(f\"{variable} stability : \")\n",
    "    print(system_stability_index(dataset_reference_revolving.data,dataset_backtest_revolving.data, variable))\n",
    "    print(60*\"**\")"
   ]
  },
  {
   "cell_type": "markdown",
   "metadata": {},
   "source": [
    "#### Tests d'adéquation de la PD"
   ]
  },
  {
   "cell_type": "markdown",
   "metadata": {},
   "source": [
    "##### Test binomial"
   ]
  },
  {
   "cell_type": "code",
   "execution_count": 154,
   "metadata": {},
   "outputs": [],
   "source": [
    "from scipy.stats import binom_test\n",
    "\n",
    "def binomial_test(df, summary):\n",
    "    # Calcul des défauts attendus\n",
    "    df2 = pd.DataFrame()\n",
    "    df2[\"Expected\"] = summary[\"PD\"]\n",
    "    # Nombre total de défauts observés\n",
    "    df2[\"Observed\"] = df[[\"Segment\",\"TARGET\"]].groupby(\"Segment\")[\"TARGET\"].sum()\n",
    "    df2[\"Total obs\"] = df[[\"Segment\",\"TARGET\"]].groupby(\"Segment\").count()\n",
    "    # Nombre total de cas\n",
    "    def binom_test2(x):\n",
    "        return binom_test(x[\"Observed\"], x[\"Total obs\"], x[\"Expected\"])\n",
    "    # Effectuer le test binomial\n",
    "    p_value = df2.apply(binom_test2, axis=1)\n",
    "    \n",
    "    return p_value, df2[\"Total obs\"], df2[\"Observed\"]\n"
   ]
  },
  {
   "cell_type": "code",
   "execution_count": 151,
   "metadata": {},
   "outputs": [],
   "source": [
    "with open(\"../utils/Cash/pd_summary_table.pkl\", \"rb\") as f:\n",
    "    summary_cash = pickle.load(f)"
   ]
  },
  {
   "cell_type": "code",
   "execution_count": 155,
   "metadata": {},
   "outputs": [],
   "source": [
    "summary_cash[\"Nb obs\"], summary_cash[\"Observed Defaults\"],summary_cash[\"Binomial test (p-value)\"] = binomial_test(dataset_backtest_cash.data, summary_cash)[1], binomial_test(dataset_backtest_cash.data, summary_cash)[2], binomial_test(dataset_backtest_cash.data, summary_cash)[0]"
   ]
  },
  {
   "cell_type": "code",
   "execution_count": 156,
   "metadata": {},
   "outputs": [
    {
     "data": {
      "text/html": [
       "<div>\n",
       "<style scoped>\n",
       "    .dataframe tbody tr th:only-of-type {\n",
       "        vertical-align: middle;\n",
       "    }\n",
       "\n",
       "    .dataframe tbody tr th {\n",
       "        vertical-align: top;\n",
       "    }\n",
       "\n",
       "    .dataframe thead th {\n",
       "        text-align: right;\n",
       "    }\n",
       "</style>\n",
       "<table border=\"1\" class=\"dataframe\">\n",
       "  <thead>\n",
       "    <tr style=\"text-align: right;\">\n",
       "      <th></th>\n",
       "      <th>Segment</th>\n",
       "      <th>LRA</th>\n",
       "      <th>MOC_A</th>\n",
       "      <th>MOC_C</th>\n",
       "      <th>PD</th>\n",
       "      <th>Nb obs</th>\n",
       "      <th>Observed DR</th>\n",
       "      <th>Binomial test (p-value)</th>\n",
       "      <th>Observed Defaults</th>\n",
       "    </tr>\n",
       "  </thead>\n",
       "  <tbody>\n",
       "    <tr>\n",
       "      <th>0</th>\n",
       "      <td>0</td>\n",
       "      <td>0.190468</td>\n",
       "      <td>0.002926</td>\n",
       "      <td>0.007497</td>\n",
       "      <td>0.200890</td>\n",
       "      <td>2214</td>\n",
       "      <td>0.189250</td>\n",
       "      <td>0.176196</td>\n",
       "      <td>419</td>\n",
       "    </tr>\n",
       "    <tr>\n",
       "      <th>1</th>\n",
       "      <td>1</td>\n",
       "      <td>0.131752</td>\n",
       "      <td>0.001540</td>\n",
       "      <td>0.004063</td>\n",
       "      <td>0.137355</td>\n",
       "      <td>5235</td>\n",
       "      <td>0.131423</td>\n",
       "      <td>0.220678</td>\n",
       "      <td>688</td>\n",
       "    </tr>\n",
       "    <tr>\n",
       "      <th>2</th>\n",
       "      <td>2</td>\n",
       "      <td>0.091733</td>\n",
       "      <td>0.001250</td>\n",
       "      <td>0.003081</td>\n",
       "      <td>0.096064</td>\n",
       "      <td>7133</td>\n",
       "      <td>0.094210</td>\n",
       "      <td>0.615465</td>\n",
       "      <td>672</td>\n",
       "    </tr>\n",
       "    <tr>\n",
       "      <th>3</th>\n",
       "      <td>3</td>\n",
       "      <td>0.062877</td>\n",
       "      <td>0.000904</td>\n",
       "      <td>0.002441</td>\n",
       "      <td>0.066222</td>\n",
       "      <td>7895</td>\n",
       "      <td>0.069284</td>\n",
       "      <td>0.277314</td>\n",
       "      <td>547</td>\n",
       "    </tr>\n",
       "    <tr>\n",
       "      <th>4</th>\n",
       "      <td>4</td>\n",
       "      <td>0.046966</td>\n",
       "      <td>0.000911</td>\n",
       "      <td>0.002231</td>\n",
       "      <td>0.050107</td>\n",
       "      <td>6912</td>\n",
       "      <td>0.049479</td>\n",
       "      <td>0.846960</td>\n",
       "      <td>342</td>\n",
       "    </tr>\n",
       "    <tr>\n",
       "      <th>5</th>\n",
       "      <td>5</td>\n",
       "      <td>0.031889</td>\n",
       "      <td>0.000776</td>\n",
       "      <td>0.002331</td>\n",
       "      <td>0.034996</td>\n",
       "      <td>4279</td>\n",
       "      <td>0.033185</td>\n",
       "      <td>0.560193</td>\n",
       "      <td>142</td>\n",
       "    </tr>\n",
       "    <tr>\n",
       "      <th>6</th>\n",
       "      <td>6</td>\n",
       "      <td>0.026482</td>\n",
       "      <td>0.001590</td>\n",
       "      <td>0.004272</td>\n",
       "      <td>0.032344</td>\n",
       "      <td>994</td>\n",
       "      <td>0.038229</td>\n",
       "      <td>0.281707</td>\n",
       "      <td>38</td>\n",
       "    </tr>\n",
       "  </tbody>\n",
       "</table>\n",
       "</div>"
      ],
      "text/plain": [
       "   Segment       LRA     MOC_A     MOC_C        PD  Nb obs  Observed DR  Binomial test (p-value)  Observed Defaults\n",
       "0        0  0.190468  0.002926  0.007497  0.200890    2214     0.189250                 0.176196                419\n",
       "1        1  0.131752  0.001540  0.004063  0.137355    5235     0.131423                 0.220678                688\n",
       "2        2  0.091733  0.001250  0.003081  0.096064    7133     0.094210                 0.615465                672\n",
       "3        3  0.062877  0.000904  0.002441  0.066222    7895     0.069284                 0.277314                547\n",
       "4        4  0.046966  0.000911  0.002231  0.050107    6912     0.049479                 0.846960                342\n",
       "5        5  0.031889  0.000776  0.002331  0.034996    4279     0.033185                 0.560193                142\n",
       "6        6  0.026482  0.001590  0.004272  0.032344     994     0.038229                 0.281707                 38"
      ]
     },
     "execution_count": 156,
     "metadata": {},
     "output_type": "execute_result"
    }
   ],
   "source": [
    "summary_cash"
   ]
  },
  {
   "cell_type": "code",
   "execution_count": 164,
   "metadata": {},
   "outputs": [],
   "source": [
    "# revolving \n",
    "with open(\"../utils/Revolving/pd_summary_table.pkl\", \"rb\") as f:\n",
    "    summary_revolving = pickle.load(f)"
   ]
  },
  {
   "cell_type": "code",
   "execution_count": 165,
   "metadata": {},
   "outputs": [],
   "source": [
    "summary_revolving[\"Nb obs\"], summary_revolving[\"Observed Defaults\"],summary_revolving[\"Binomial test (p-value)\"] = binomial_test(dataset_backtest_revolving.data, summary_revolving)[1], binomial_test(dataset_backtest_revolving.data, summary_revolving)[2], binomial_test(dataset_backtest_revolving.data, summary_revolving)[0]"
   ]
  },
  {
   "cell_type": "code",
   "execution_count": 166,
   "metadata": {},
   "outputs": [
    {
     "data": {
      "text/html": [
       "<div>\n",
       "<style scoped>\n",
       "    .dataframe tbody tr th:only-of-type {\n",
       "        vertical-align: middle;\n",
       "    }\n",
       "\n",
       "    .dataframe tbody tr th {\n",
       "        vertical-align: top;\n",
       "    }\n",
       "\n",
       "    .dataframe thead th {\n",
       "        text-align: right;\n",
       "    }\n",
       "</style>\n",
       "<table border=\"1\" class=\"dataframe\">\n",
       "  <thead>\n",
       "    <tr style=\"text-align: right;\">\n",
       "      <th></th>\n",
       "      <th>Segment</th>\n",
       "      <th>LRA</th>\n",
       "      <th>MOC_A</th>\n",
       "      <th>MOC_C</th>\n",
       "      <th>PD</th>\n",
       "      <th>Nb obs</th>\n",
       "      <th>Observed Defaults</th>\n",
       "      <th>Binomial test (p-value)</th>\n",
       "    </tr>\n",
       "  </thead>\n",
       "  <tbody>\n",
       "    <tr>\n",
       "      <th>0</th>\n",
       "      <td>0</td>\n",
       "      <td>0.137796</td>\n",
       "      <td>0.006248</td>\n",
       "      <td>0.016548</td>\n",
       "      <td>0.160592</td>\n",
       "      <td>319</td>\n",
       "      <td>35</td>\n",
       "      <td>0.011738</td>\n",
       "    </tr>\n",
       "    <tr>\n",
       "      <th>1</th>\n",
       "      <td>1</td>\n",
       "      <td>0.079234</td>\n",
       "      <td>0.004222</td>\n",
       "      <td>0.009502</td>\n",
       "      <td>0.092958</td>\n",
       "      <td>603</td>\n",
       "      <td>43</td>\n",
       "      <td>0.068160</td>\n",
       "    </tr>\n",
       "    <tr>\n",
       "      <th>2</th>\n",
       "      <td>2</td>\n",
       "      <td>0.050962</td>\n",
       "      <td>0.002581</td>\n",
       "      <td>0.007225</td>\n",
       "      <td>0.060769</td>\n",
       "      <td>790</td>\n",
       "      <td>36</td>\n",
       "      <td>0.073917</td>\n",
       "    </tr>\n",
       "    <tr>\n",
       "      <th>3</th>\n",
       "      <td>3</td>\n",
       "      <td>0.037172</td>\n",
       "      <td>0.002264</td>\n",
       "      <td>0.006223</td>\n",
       "      <td>0.045658</td>\n",
       "      <td>867</td>\n",
       "      <td>47</td>\n",
       "      <td>0.222081</td>\n",
       "    </tr>\n",
       "    <tr>\n",
       "      <th>4</th>\n",
       "      <td>4</td>\n",
       "      <td>0.025781</td>\n",
       "      <td>0.002773</td>\n",
       "      <td>0.006076</td>\n",
       "      <td>0.034630</td>\n",
       "      <td>594</td>\n",
       "      <td>14</td>\n",
       "      <td>0.176175</td>\n",
       "    </tr>\n",
       "    <tr>\n",
       "      <th>5</th>\n",
       "      <td>5</td>\n",
       "      <td>0.016404</td>\n",
       "      <td>0.001534</td>\n",
       "      <td>0.004684</td>\n",
       "      <td>0.022622</td>\n",
       "      <td>349</td>\n",
       "      <td>6</td>\n",
       "      <td>0.716274</td>\n",
       "    </tr>\n",
       "    <tr>\n",
       "      <th>6</th>\n",
       "      <td>6</td>\n",
       "      <td>0.009841</td>\n",
       "      <td>0.001352</td>\n",
       "      <td>0.008165</td>\n",
       "      <td>0.019358</td>\n",
       "      <td>177</td>\n",
       "      <td>5</td>\n",
       "      <td>0.400925</td>\n",
       "    </tr>\n",
       "  </tbody>\n",
       "</table>\n",
       "</div>"
      ],
      "text/plain": [
       "   Segment       LRA     MOC_A     MOC_C        PD  Nb obs  Observed Defaults  Binomial test (p-value)\n",
       "0        0  0.137796  0.006248  0.016548  0.160592     319                 35                 0.011738\n",
       "1        1  0.079234  0.004222  0.009502  0.092958     603                 43                 0.068160\n",
       "2        2  0.050962  0.002581  0.007225  0.060769     790                 36                 0.073917\n",
       "3        3  0.037172  0.002264  0.006223  0.045658     867                 47                 0.222081\n",
       "4        4  0.025781  0.002773  0.006076  0.034630     594                 14                 0.176175\n",
       "5        5  0.016404  0.001534  0.004684  0.022622     349                  6                 0.716274\n",
       "6        6  0.009841  0.001352  0.008165  0.019358     177                  5                 0.400925"
      ]
     },
     "execution_count": 166,
     "metadata": {},
     "output_type": "execute_result"
    }
   ],
   "source": [
    "summary_revolving"
   ]
  },
  {
   "cell_type": "markdown",
   "metadata": {},
   "source": [
    "##### Test de Hosmer Lemeshow"
   ]
  },
  {
   "cell_type": "code",
   "execution_count": 159,
   "metadata": {},
   "outputs": [],
   "source": [
    "from scipy.stats import chisquare"
   ]
  },
  {
   "cell_type": "code",
   "execution_count": null,
   "metadata": {},
   "outputs": [],
   "source": [
    "\n",
    "\n",
    "# def hosmer_lemeshow_test(df, predicted_prob, observed, groups=10):\n",
    "#     df['decile'] = pd.qcut(df[predicted_prob], q=groups, duplicates='drop')\n",
    "#     result = df.groupby('decile').agg(\n",
    "#         observed_sum=pd.NamedAgg(column=observed, aggfunc='sum'),\n",
    "#         expected_sum=pd.NamedAgg(column=predicted_prob, aggfunc='mean')\n",
    "#     )\n",
    "#     result['expected_freq'] = result['expected_sum'] * len(df) / groups\n",
    "#     chi_square_stat, p_value = chisquare(result['observed_sum'], f_exp=result['expected_freq'])\n",
    "    \n",
    "#     return chi_square_stat, p_value\n",
    "\n",
    "# # Utilisation du test de Hosmer-Lemeshow\n",
    "# hl_stat, p_value_hl = hosmer_lemeshow_test(summary, 'PD', 'TARGET')\n",
    "# print(f'Hosmer-Lemeshow chi-square: {hl_stat}, p-value: {p_value_hl}')"
   ]
  },
  {
   "cell_type": "code",
   "execution_count": 162,
   "metadata": {},
   "outputs": [],
   "source": [
    "def hosmer_lemeshow_test(summary):\n",
    "    return chisquare(summary[\"Observed DR\"], summary[\"PD\"], )"
   ]
  },
  {
   "cell_type": "code",
   "execution_count": 163,
   "metadata": {},
   "outputs": [
    {
     "ename": "ValueError",
     "evalue": "For each axis slice, the sum of the observed frequencies must agree with the sum of the expected frequencies to a relative tolerance of 1e-08, but the percent differences are:\n0.021347924220902332",
     "output_type": "error",
     "traceback": [
      "\u001b[1;31m---------------------------------------------------------------------------\u001b[0m",
      "\u001b[1;31mValueError\u001b[0m                                Traceback (most recent call last)",
      "\u001b[1;32m~\\AppData\\Local\\Temp\\ipykernel_27236\\3689563174.py\u001b[0m in \u001b[0;36m?\u001b[1;34m()\u001b[0m\n\u001b[1;32m----> 1\u001b[1;33m \u001b[0mhosmer_lemeshow_test\u001b[0m\u001b[1;33m(\u001b[0m\u001b[0msummary_cash\u001b[0m\u001b[1;33m)\u001b[0m\u001b[1;33m\u001b[0m\u001b[1;33m\u001b[0m\u001b[0m\n\u001b[0m",
      "\u001b[1;32m~\\AppData\\Local\\Temp\\ipykernel_27236\\1288659441.py\u001b[0m in \u001b[0;36m?\u001b[1;34m(summary)\u001b[0m\n\u001b[0;32m      1\u001b[0m \u001b[1;32mdef\u001b[0m \u001b[0mhosmer_lemeshow_test\u001b[0m\u001b[1;33m(\u001b[0m\u001b[0msummary\u001b[0m\u001b[1;33m)\u001b[0m\u001b[1;33m:\u001b[0m\u001b[1;33m\u001b[0m\u001b[1;33m\u001b[0m\u001b[0m\n\u001b[1;32m----> 2\u001b[1;33m     \u001b[1;32mreturn\u001b[0m \u001b[0mchisquare\u001b[0m\u001b[1;33m(\u001b[0m\u001b[0msummary\u001b[0m\u001b[1;33m[\u001b[0m\u001b[1;34m\"Observed DR\"\u001b[0m\u001b[1;33m]\u001b[0m\u001b[1;33m,\u001b[0m \u001b[0msummary\u001b[0m\u001b[1;33m[\u001b[0m\u001b[1;34m\"PD\"\u001b[0m\u001b[1;33m]\u001b[0m\u001b[1;33m)\u001b[0m\u001b[1;33m\u001b[0m\u001b[1;33m\u001b[0m\u001b[0m\n\u001b[0m",
      "\u001b[1;32mc:\\Users\\jeann\\Desktop\\M2\\Credit Risk Modelling\\PD_Model_Nexialog\\Challenge_Nexialog_PD\\.venv_pd\\Lib\\site-packages\\scipy\\stats\\_stats_py.py\u001b[0m in \u001b[0;36m?\u001b[1;34m(f_obs, f_exp, ddof, axis)\u001b[0m\n\u001b[0;32m   8250\u001b[0m     ...           axis=1)\n\u001b[0;32m   8251\u001b[0m     \u001b[0mPower_divergenceResult\u001b[0m\u001b[1;33m(\u001b[0m\u001b[0mstatistic\u001b[0m\u001b[1;33m=\u001b[0m\u001b[0marray\u001b[0m\u001b[1;33m(\u001b[0m\u001b[1;33m[\u001b[0m\u001b[1;36m3.5\u001b[0m \u001b[1;33m,\u001b[0m \u001b[1;36m9.25\u001b[0m\u001b[1;33m]\u001b[0m\u001b[1;33m)\u001b[0m\u001b[1;33m,\u001b[0m \u001b[0mpvalue\u001b[0m\u001b[1;33m=\u001b[0m\u001b[0marray\u001b[0m\u001b[1;33m(\u001b[0m\u001b[1;33m[\u001b[0m\u001b[1;36m0.62338763\u001b[0m\u001b[1;33m,\u001b[0m \u001b[1;36m0.09949846\u001b[0m\u001b[1;33m]\u001b[0m\u001b[1;33m)\u001b[0m\u001b[1;33m)\u001b[0m\u001b[1;33m\u001b[0m\u001b[1;33m\u001b[0m\u001b[0m\n\u001b[0;32m   8252\u001b[0m \u001b[1;33m\u001b[0m\u001b[0m\n\u001b[0;32m   8253\u001b[0m     \"\"\"  # noqa\n\u001b[1;32m-> 8254\u001b[1;33m     return power_divergence(f_obs, f_exp=f_exp, ddof=ddof, axis=axis,\n\u001b[0m\u001b[0;32m   8255\u001b[0m                             lambda_=\"pearson\")\n",
      "\u001b[1;32mc:\\Users\\jeann\\Desktop\\M2\\Credit Risk Modelling\\PD_Model_Nexialog\\Challenge_Nexialog_PD\\.venv_pd\\Lib\\site-packages\\scipy\\stats\\_stats_py.py\u001b[0m in \u001b[0;36m?\u001b[1;34m(f_obs, f_exp, ddof, axis, lambda_)\u001b[0m\n\u001b[0;32m   8047\u001b[0m                    \u001b[1;34mf\"frequencies must agree with the sum of the \"\u001b[0m\u001b[1;33m\u001b[0m\u001b[1;33m\u001b[0m\u001b[0m\n\u001b[0;32m   8048\u001b[0m                    \u001b[1;34mf\"expected frequencies to a relative tolerance \"\u001b[0m\u001b[1;33m\u001b[0m\u001b[1;33m\u001b[0m\u001b[0m\n\u001b[0;32m   8049\u001b[0m                    \u001b[1;34mf\"of {rtol}, but the percent differences are:\\n\"\u001b[0m\u001b[1;33m\u001b[0m\u001b[1;33m\u001b[0m\u001b[0m\n\u001b[0;32m   8050\u001b[0m                    f\"{relative_diff}\")\n\u001b[1;32m-> 8051\u001b[1;33m             \u001b[1;32mraise\u001b[0m \u001b[0mValueError\u001b[0m\u001b[1;33m(\u001b[0m\u001b[0mmsg\u001b[0m\u001b[1;33m)\u001b[0m\u001b[1;33m\u001b[0m\u001b[1;33m\u001b[0m\u001b[0m\n\u001b[0m\u001b[0;32m   8052\u001b[0m \u001b[1;33m\u001b[0m\u001b[0m\n\u001b[0;32m   8053\u001b[0m     \u001b[1;32melse\u001b[0m\u001b[1;33m:\u001b[0m\u001b[1;33m\u001b[0m\u001b[1;33m\u001b[0m\u001b[0m\n\u001b[0;32m   8054\u001b[0m         \u001b[1;31m# Ignore 'invalid' errors so the edge case of a data set with length 0\u001b[0m\u001b[1;33m\u001b[0m\u001b[1;33m\u001b[0m\u001b[0m\n",
      "\u001b[1;31mValueError\u001b[0m: For each axis slice, the sum of the observed frequencies must agree with the sum of the expected frequencies to a relative tolerance of 1e-08, but the percent differences are:\n0.021347924220902332"
     ]
    }
   ],
   "source": [
    "hosmer_lemeshow_test(summary_cash)"
   ]
  },
  {
   "cell_type": "code",
   "execution_count": null,
   "metadata": {},
   "outputs": [],
   "source": []
  }
 ],
 "metadata": {
  "kernelspec": {
   "display_name": ".venv_pd",
   "language": "python",
   "name": "python3"
  },
  "language_info": {
   "codemirror_mode": {
    "name": "ipython",
    "version": 3
   },
   "file_extension": ".py",
   "mimetype": "text/x-python",
   "name": "python",
   "nbconvert_exporter": "python",
   "pygments_lexer": "ipython3",
   "version": "3.11.7"
  }
 },
 "nbformat": 4,
 "nbformat_minor": 2
}
