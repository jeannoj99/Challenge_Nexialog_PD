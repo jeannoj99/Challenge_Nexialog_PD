{
 "cells": [
  {
   "cell_type": "code",
   "execution_count": 1,
   "metadata": {},
   "outputs": [
    {
     "name": "stdout",
     "output_type": "stream",
     "text": [
      "(CVXPY) Apr 02 07:32:58 PM: Encountered unexpected exception importing solver GLOP:\n",
      "RuntimeError('Unrecognized new version of ortools (9.8.3296). Expected < 9.8.0. Please open a feature request on cvxpy to enable support for this version.')\n",
      "(CVXPY) Apr 02 07:32:58 PM: Encountered unexpected exception importing solver PDLP:\n",
      "RuntimeError('Unrecognized new version of ortools (9.8.3296). Expected < 9.8.0. Please open a feature request on cvxpy to enable support for this version.')\n"
     ]
    }
   ],
   "source": [
    "import seaborn as sns\n",
    "import matplotlib.pyplot as plt\n",
    "import numpy as np\n",
    "import optbinning as opt\n",
    "%matplotlib inline\n",
    "import pandas as pd\n",
    "from sklearn.impute import SimpleImputer\n",
    "pd.set_option('display.max_rows', 500)\n",
    "pd.set_option('display.max_columns', 500)\n",
    "pd.set_option('display.width', 1000)\n",
    "from sklearn.preprocessing import OneHotEncoder, StandardScaler,KBinsDiscretizer, LabelEncoder\n",
    "from sklearn.impute import SimpleImputer\n",
    "from scipy.stats import mannwhitneyu ,chi2_contingency, anderson, f_oneway\n",
    "import statsmodels.api as sm \n",
    "from sklearn.linear_model import LogisticRegression\n",
    "from sklearn.pipeline import make_pipeline\n",
    "from sklearn.model_selection import train_test_split\n",
    "from sklearn.metrics import classification_report, roc_auc_score, accuracy_score\n",
    "import warnings\n",
    "warnings.filterwarnings(\"ignore\")"
   ]
  },
  {
   "cell_type": "code",
   "execution_count": 2,
   "metadata": {},
   "outputs": [],
   "source": [
    "data=pd.read_csv(\"../data/application_train_vf.csv\",parse_dates=[\"date_mensuelle\"], index_col=0)"
   ]
  },
  {
   "cell_type": "code",
   "execution_count": 3,
   "metadata": {},
   "outputs": [],
   "source": [
    "credit_bureau_data=pd.read_csv(\"../data/cb_findings.csv\", index_col=0)\n",
    "data=data.merge(credit_bureau_data, left_on=\"SK_ID_CURR\", right_on=\"CB_SK_ID_CURR\")"
   ]
  },
  {
   "cell_type": "code",
   "execution_count": 4,
   "metadata": {},
   "outputs": [],
   "source": [
    "data[\"date_annee\"]=data[\"date_mensuelle\"].dt.year"
   ]
  },
  {
   "cell_type": "code",
   "execution_count": 5,
   "metadata": {},
   "outputs": [],
   "source": [
    "data_reference = data[data[\"date_annee\"] < 2020]"
   ]
  },
  {
   "cell_type": "code",
   "execution_count": 6,
   "metadata": {},
   "outputs": [],
   "source": [
    "data_backtest = data[data[\"date_annee\"] == 2020]"
   ]
  },
  {
   "cell_type": "code",
   "execution_count": 7,
   "metadata": {},
   "outputs": [],
   "source": [
    "mandatory_columns=[]"
   ]
  },
  {
   "cell_type": "markdown",
   "metadata": {},
   "source": [
    "#### Data Quality Assessment"
   ]
  },
  {
   "cell_type": "code",
   "execution_count": null,
   "metadata": {},
   "outputs": [],
   "source": [
    "def data_integrity_assessment(df):\n",
    "    if True:\n",
    "        return True\n",
    "    else :\n",
    "        return False"
   ]
  },
  {
   "cell_type": "code",
   "execution_count": null,
   "metadata": {},
   "outputs": [],
   "source": [
    "if data_integrity_assessment(data_backtest) == False :\n",
    "    StopIteration"
   ]
  },
  {
   "cell_type": "markdown",
   "metadata": {},
   "source": [
    "#### Feature Engineering "
   ]
  },
  {
   "cell_type": "code",
   "execution_count": null,
   "metadata": {},
   "outputs": [],
   "source": [
    "# creation of mandatory features et application of discretisation "
   ]
  },
  {
   "cell_type": "markdown",
   "metadata": {},
   "source": [
    "#### Population Scoring"
   ]
  },
  {
   "cell_type": "code",
   "execution_count": 12,
   "metadata": {},
   "outputs": [],
   "source": [
    "# Application of score card \n",
    "data_reference[\"Segment\"] = np.random.randint(0,7,data_reference.shape[0])\n",
    "data_backtest[\"Segment\"] = np.random.randint(0,7,data_backtest.shape[0])"
   ]
  },
  {
   "cell_type": "code",
   "execution_count": 15,
   "metadata": {},
   "outputs": [],
   "source": [
    "toto=data_backtest[\"Segment\"].value_counts(normalize=True).reset_index()\n",
    "tata = data_reference[\"Segment\"].value_counts(normalize=True).reset_index()"
   ]
  },
  {
   "cell_type": "code",
   "execution_count": 34,
   "metadata": {},
   "outputs": [],
   "source": [
    "titi=tata.merge(toto, how=\"outer\", on=\"Segment\", suffixes=(\"_reference\",\"_backtest\"))"
   ]
  },
  {
   "cell_type": "code",
   "execution_count": 35,
   "metadata": {},
   "outputs": [
    {
     "data": {
      "text/html": [
       "<div>\n",
       "<style scoped>\n",
       "    .dataframe tbody tr th:only-of-type {\n",
       "        vertical-align: middle;\n",
       "    }\n",
       "\n",
       "    .dataframe tbody tr th {\n",
       "        vertical-align: top;\n",
       "    }\n",
       "\n",
       "    .dataframe thead th {\n",
       "        text-align: right;\n",
       "    }\n",
       "</style>\n",
       "<table border=\"1\" class=\"dataframe\">\n",
       "  <thead>\n",
       "    <tr style=\"text-align: right;\">\n",
       "      <th></th>\n",
       "      <th>Segment</th>\n",
       "      <th>proportion_reference</th>\n",
       "      <th>proportion_backtest</th>\n",
       "    </tr>\n",
       "  </thead>\n",
       "  <tbody>\n",
       "    <tr>\n",
       "      <th>0</th>\n",
       "      <td>0</td>\n",
       "      <td>0.142573</td>\n",
       "      <td>0.147169</td>\n",
       "    </tr>\n",
       "    <tr>\n",
       "      <th>1</th>\n",
       "      <td>1</td>\n",
       "      <td>0.143182</td>\n",
       "      <td>0.144797</td>\n",
       "    </tr>\n",
       "    <tr>\n",
       "      <th>2</th>\n",
       "      <td>2</td>\n",
       "      <td>0.142110</td>\n",
       "      <td>0.141982</td>\n",
       "    </tr>\n",
       "    <tr>\n",
       "      <th>3</th>\n",
       "      <td>3</td>\n",
       "      <td>0.143063</td>\n",
       "      <td>0.144198</td>\n",
       "    </tr>\n",
       "    <tr>\n",
       "      <th>4</th>\n",
       "      <td>4</td>\n",
       "      <td>0.143249</td>\n",
       "      <td>0.141330</td>\n",
       "    </tr>\n",
       "    <tr>\n",
       "      <th>5</th>\n",
       "      <td>5</td>\n",
       "      <td>0.143630</td>\n",
       "      <td>0.140444</td>\n",
       "    </tr>\n",
       "    <tr>\n",
       "      <th>6</th>\n",
       "      <td>6</td>\n",
       "      <td>0.142192</td>\n",
       "      <td>0.140079</td>\n",
       "    </tr>\n",
       "  </tbody>\n",
       "</table>\n",
       "</div>"
      ],
      "text/plain": [
       "   Segment  proportion_reference  proportion_backtest\n",
       "0        0              0.142573             0.147169\n",
       "1        1              0.143182             0.144797\n",
       "2        2              0.142110             0.141982\n",
       "3        3              0.143063             0.144198\n",
       "4        4              0.143249             0.141330\n",
       "5        5              0.143630             0.140444\n",
       "6        6              0.142192             0.140079"
      ]
     },
     "execution_count": 35,
     "metadata": {},
     "output_type": "execute_result"
    }
   ],
   "source": [
    "titi"
   ]
  },
  {
   "cell_type": "code",
   "execution_count": 20,
   "metadata": {},
   "outputs": [],
   "source": [
    "def calculate_contribution_to_is(x):\n",
    "    return (x[\"proportion_reference\"] - x[\"proportion_backtest\"])*np.log(x[\"proportion_reference\"] / x[\"proportion_backtest\"])"
   ]
  },
  {
   "cell_type": "code",
   "execution_count": 36,
   "metadata": {},
   "outputs": [],
   "source": [
    "titi[\"contribution\"]=titi.apply(calculate_contribution_to_is, axis=1)"
   ]
  },
  {
   "cell_type": "code",
   "execution_count": 41,
   "metadata": {},
   "outputs": [
    {
     "data": {
      "text/html": [
       "<div>\n",
       "<style scoped>\n",
       "    .dataframe tbody tr th:only-of-type {\n",
       "        vertical-align: middle;\n",
       "    }\n",
       "\n",
       "    .dataframe tbody tr th {\n",
       "        vertical-align: top;\n",
       "    }\n",
       "\n",
       "    .dataframe thead th {\n",
       "        text-align: right;\n",
       "    }\n",
       "</style>\n",
       "<table border=\"1\" class=\"dataframe\">\n",
       "  <thead>\n",
       "    <tr style=\"text-align: right;\">\n",
       "      <th></th>\n",
       "      <th>Segment</th>\n",
       "      <th>proportion_reference</th>\n",
       "      <th>proportion_backtest</th>\n",
       "      <th>contribution</th>\n",
       "    </tr>\n",
       "  </thead>\n",
       "  <tbody>\n",
       "    <tr>\n",
       "      <th>0</th>\n",
       "      <td>21.0</td>\n",
       "      <td>1.0</td>\n",
       "      <td>1.0</td>\n",
       "      <td>0.000302</td>\n",
       "    </tr>\n",
       "  </tbody>\n",
       "</table>\n",
       "</div>"
      ],
      "text/plain": [
       "   Segment  proportion_reference  proportion_backtest  contribution\n",
       "0     21.0                   1.0                  1.0      0.000302"
      ]
     },
     "execution_count": 41,
     "metadata": {},
     "output_type": "execute_result"
    }
   ],
   "source": [
    "pd.DataFrame(titi.apply(np.sum, axis=0)).T"
   ]
  },
  {
   "cell_type": "code",
   "execution_count": 44,
   "metadata": {},
   "outputs": [],
   "source": [
    "titi = pd.concat([titi,pd.DataFrame(titi.apply(np.sum, axis=0)).T], axis=0, ignore_index=True)"
   ]
  },
  {
   "cell_type": "code",
   "execution_count": 45,
   "metadata": {},
   "outputs": [
    {
     "data": {
      "text/html": [
       "<div>\n",
       "<style scoped>\n",
       "    .dataframe tbody tr th:only-of-type {\n",
       "        vertical-align: middle;\n",
       "    }\n",
       "\n",
       "    .dataframe tbody tr th {\n",
       "        vertical-align: top;\n",
       "    }\n",
       "\n",
       "    .dataframe thead th {\n",
       "        text-align: right;\n",
       "    }\n",
       "</style>\n",
       "<table border=\"1\" class=\"dataframe\">\n",
       "  <thead>\n",
       "    <tr style=\"text-align: right;\">\n",
       "      <th></th>\n",
       "      <th>Segment</th>\n",
       "      <th>proportion_reference</th>\n",
       "      <th>proportion_backtest</th>\n",
       "      <th>contribution</th>\n",
       "    </tr>\n",
       "  </thead>\n",
       "  <tbody>\n",
       "    <tr>\n",
       "      <th>0</th>\n",
       "      <td>0.0</td>\n",
       "      <td>0.142573</td>\n",
       "      <td>0.147169</td>\n",
       "      <td>1.458148e-04</td>\n",
       "    </tr>\n",
       "    <tr>\n",
       "      <th>1</th>\n",
       "      <td>1.0</td>\n",
       "      <td>0.143182</td>\n",
       "      <td>0.144797</td>\n",
       "      <td>1.811696e-05</td>\n",
       "    </tr>\n",
       "    <tr>\n",
       "      <th>2</th>\n",
       "      <td>2.0</td>\n",
       "      <td>0.142110</td>\n",
       "      <td>0.141982</td>\n",
       "      <td>1.155075e-07</td>\n",
       "    </tr>\n",
       "    <tr>\n",
       "      <th>3</th>\n",
       "      <td>3.0</td>\n",
       "      <td>0.143063</td>\n",
       "      <td>0.144198</td>\n",
       "      <td>8.971013e-06</td>\n",
       "    </tr>\n",
       "    <tr>\n",
       "      <th>4</th>\n",
       "      <td>4.0</td>\n",
       "      <td>0.143249</td>\n",
       "      <td>0.141330</td>\n",
       "      <td>2.587829e-05</td>\n",
       "    </tr>\n",
       "    <tr>\n",
       "      <th>5</th>\n",
       "      <td>5.0</td>\n",
       "      <td>0.143630</td>\n",
       "      <td>0.140444</td>\n",
       "      <td>7.147209e-05</td>\n",
       "    </tr>\n",
       "    <tr>\n",
       "      <th>6</th>\n",
       "      <td>6.0</td>\n",
       "      <td>0.142192</td>\n",
       "      <td>0.140079</td>\n",
       "      <td>3.163771e-05</td>\n",
       "    </tr>\n",
       "    <tr>\n",
       "      <th>7</th>\n",
       "      <td>21.0</td>\n",
       "      <td>1.000000</td>\n",
       "      <td>1.000000</td>\n",
       "      <td>3.020063e-04</td>\n",
       "    </tr>\n",
       "  </tbody>\n",
       "</table>\n",
       "</div>"
      ],
      "text/plain": [
       "   Segment  proportion_reference  proportion_backtest  contribution\n",
       "0      0.0              0.142573             0.147169  1.458148e-04\n",
       "1      1.0              0.143182             0.144797  1.811696e-05\n",
       "2      2.0              0.142110             0.141982  1.155075e-07\n",
       "3      3.0              0.143063             0.144198  8.971013e-06\n",
       "4      4.0              0.143249             0.141330  2.587829e-05\n",
       "5      5.0              0.143630             0.140444  7.147209e-05\n",
       "6      6.0              0.142192             0.140079  3.163771e-05\n",
       "7     21.0              1.000000             1.000000  3.020063e-04"
      ]
     },
     "execution_count": 45,
     "metadata": {},
     "output_type": "execute_result"
    }
   ],
   "source": [
    "titi"
   ]
  },
  {
   "cell_type": "code",
   "execution_count": 56,
   "metadata": {},
   "outputs": [],
   "source": [
    "titi[\"Segment\"][-1:] = np.nan"
   ]
  },
  {
   "cell_type": "code",
   "execution_count": 57,
   "metadata": {},
   "outputs": [
    {
     "data": {
      "text/html": [
       "<div>\n",
       "<style scoped>\n",
       "    .dataframe tbody tr th:only-of-type {\n",
       "        vertical-align: middle;\n",
       "    }\n",
       "\n",
       "    .dataframe tbody tr th {\n",
       "        vertical-align: top;\n",
       "    }\n",
       "\n",
       "    .dataframe thead th {\n",
       "        text-align: right;\n",
       "    }\n",
       "</style>\n",
       "<table border=\"1\" class=\"dataframe\">\n",
       "  <thead>\n",
       "    <tr style=\"text-align: right;\">\n",
       "      <th></th>\n",
       "      <th>Segment</th>\n",
       "      <th>proportion_reference</th>\n",
       "      <th>proportion_backtest</th>\n",
       "      <th>contribution</th>\n",
       "    </tr>\n",
       "  </thead>\n",
       "  <tbody>\n",
       "    <tr>\n",
       "      <th>0</th>\n",
       "      <td>0.0</td>\n",
       "      <td>0.142573</td>\n",
       "      <td>0.147169</td>\n",
       "      <td>1.458148e-04</td>\n",
       "    </tr>\n",
       "    <tr>\n",
       "      <th>1</th>\n",
       "      <td>1.0</td>\n",
       "      <td>0.143182</td>\n",
       "      <td>0.144797</td>\n",
       "      <td>1.811696e-05</td>\n",
       "    </tr>\n",
       "    <tr>\n",
       "      <th>2</th>\n",
       "      <td>2.0</td>\n",
       "      <td>0.142110</td>\n",
       "      <td>0.141982</td>\n",
       "      <td>1.155075e-07</td>\n",
       "    </tr>\n",
       "    <tr>\n",
       "      <th>3</th>\n",
       "      <td>3.0</td>\n",
       "      <td>0.143063</td>\n",
       "      <td>0.144198</td>\n",
       "      <td>8.971013e-06</td>\n",
       "    </tr>\n",
       "    <tr>\n",
       "      <th>4</th>\n",
       "      <td>4.0</td>\n",
       "      <td>0.143249</td>\n",
       "      <td>0.141330</td>\n",
       "      <td>2.587829e-05</td>\n",
       "    </tr>\n",
       "    <tr>\n",
       "      <th>5</th>\n",
       "      <td>5.0</td>\n",
       "      <td>0.143630</td>\n",
       "      <td>0.140444</td>\n",
       "      <td>7.147209e-05</td>\n",
       "    </tr>\n",
       "    <tr>\n",
       "      <th>6</th>\n",
       "      <td>6.0</td>\n",
       "      <td>0.142192</td>\n",
       "      <td>0.140079</td>\n",
       "      <td>3.163771e-05</td>\n",
       "    </tr>\n",
       "    <tr>\n",
       "      <th>7</th>\n",
       "      <td>NaN</td>\n",
       "      <td>1.000000</td>\n",
       "      <td>1.000000</td>\n",
       "      <td>3.020063e-04</td>\n",
       "    </tr>\n",
       "  </tbody>\n",
       "</table>\n",
       "</div>"
      ],
      "text/plain": [
       "   Segment  proportion_reference  proportion_backtest  contribution\n",
       "0      0.0              0.142573             0.147169  1.458148e-04\n",
       "1      1.0              0.143182             0.144797  1.811696e-05\n",
       "2      2.0              0.142110             0.141982  1.155075e-07\n",
       "3      3.0              0.143063             0.144198  8.971013e-06\n",
       "4      4.0              0.143249             0.141330  2.587829e-05\n",
       "5      5.0              0.143630             0.140444  7.147209e-05\n",
       "6      6.0              0.142192             0.140079  3.163771e-05\n",
       "7      NaN              1.000000             1.000000  3.020063e-04"
      ]
     },
     "execution_count": 57,
     "metadata": {},
     "output_type": "execute_result"
    }
   ],
   "source": [
    "titi"
   ]
  },
  {
   "cell_type": "code",
   "execution_count": 59,
   "metadata": {},
   "outputs": [],
   "source": [
    "data_reference[\"Note\"]=np.random.randint(0,1001,data_reference.shape[0])\n",
    "data_backtest[\"Note\"]=np.random.randint(0,1001,data_backtest.shape[0])"
   ]
  },
  {
   "cell_type": "markdown",
   "metadata": {},
   "source": [
    "#### System Stability Index"
   ]
  },
  {
   "cell_type": "code",
   "execution_count": null,
   "metadata": {},
   "outputs": [],
   "source": [
    "# SSI \n",
    "def system_stability_index(reference,backtest):\n",
    "    dist_ref = reference[\"Segment\"].value_counts(normalize=True).reset_index()\n",
    "    dist_back = backtest[\"Segment\"].value_counts(normalize=True).reset_index()\n",
    "    dist_all = dist_ref.merge(dist_back, how=\"outer\", on=\"Segment\", suffixes=(\"_reference\",\"_backtest\"))\n",
    "    dist_all[\"contribution\"]=dist_all.apply(calculate_contribution_to_is, axis=1)\n",
    "    dist_all = pd.concat([dist_all,pd.DataFrame(dist_all.apply(np.sum, axis=0)).T], axis=0, ignore_index=True)\n",
    "    dist_all[\"Segment\"][-1:] = np.nan\n",
    "    return dist_all"
   ]
  },
  {
   "cell_type": "code",
   "execution_count": null,
   "metadata": {},
   "outputs": [],
   "source": [
    "#"
   ]
  },
  {
   "cell_type": "code",
   "execution_count": 58,
   "metadata": {},
   "outputs": [],
   "source": [
    "from scipy.stats import ks_2samp"
   ]
  },
  {
   "cell_type": "code",
   "execution_count": 62,
   "metadata": {},
   "outputs": [
    {
     "data": {
      "text/plain": [
       "KstestResult(statistic=0.0033123477128031986, pvalue=0.8539633484066944, statistic_location=511, statistic_sign=1)"
      ]
     },
     "execution_count": 62,
     "metadata": {},
     "output_type": "execute_result"
    }
   ],
   "source": [
    "ks_2samp(data1=data_reference[\"Note\"], data2=data_backtest[\"Note\"])"
   ]
  },
  {
   "cell_type": "code",
   "execution_count": null,
   "metadata": {},
   "outputs": [],
   "source": [
    "# KS test\n",
    "def kolmogorov_smirnov_test(reference, backtest,colname):\n",
    "    results = ks_2samp(data1=reference[colname], data2=backtest[colname])\n",
    "    if results[1] < 0.05:\n",
    "        print(f\"Null hypothesis is rejected : The distributions of {colname} are not the same\")\n",
    "    else :\n",
    "        print(f\"Null hypothesis is not rejected : The distributions of {colname} are the same\")"
   ]
  },
  {
   "cell_type": "code",
   "execution_count": 64,
   "metadata": {},
   "outputs": [
    {
     "name": "stdout",
     "output_type": "stream",
     "text": [
      "Meilleurs points de coupe pour la segmentation : [-1258.9600900309915, -340.2688919497276, -109.30749309606335, 50.50904313729883, 224.64714651696286, 541.672787398319]\n",
      "Variance intra-segment et -Variance inter-segment : (70.3205536750747, -121.50245484697069)\n"
     ]
    }
   ],
   "source": [
    "import numpy as np\n",
    "from deap import base, creator, tools, algorithms\n",
    "\n",
    "# Simulons une variable numérique comme exemple\n",
    "np.random.seed(42)  # Pour la reproductibilité\n",
    "data = np.random.normal(loc=50, scale=10, size=1000)\n",
    "\n",
    "# Nombre de segments\n",
    "n_segments = 7\n",
    "\n",
    "# Fonction pour calculer la variance intra-segment et inter-segment\n",
    "def evalSegments(individual):\n",
    "    # Tri des points de coupe\n",
    "    cuts = sorted(individual)\n",
    "    # Ajout des limites\n",
    "    segments = [-np.inf] + cuts + [np.inf]\n",
    "    # Calcul des moyennes et variances intra-segment\n",
    "    var_intra = 0\n",
    "    means = []\n",
    "    for i in range(len(segments) - 1):\n",
    "        segment_data = data[(data > segments[i]) & (data <= segments[i+1])]\n",
    "        if len(segment_data) > 0:\n",
    "            var_intra += np.var(segment_data)\n",
    "            means.append(np.mean(segment_data))\n",
    "    # Calcul de la variance inter-segments\n",
    "    mean_global = np.mean(data)\n",
    "    var_inter = sum([(mean - mean_global)**2 for mean in means])\n",
    "    # L'objectif est de minimiser la variance intra-segment et maximiser la variance inter-segment\n",
    "    return (var_intra, -var_inter)\n",
    "\n",
    "# Configuration de l'algorithme génétique\n",
    "creator.create(\"FitnessMulti\", base.Fitness, weights=(-1.0, 1.0))\n",
    "creator.create(\"Individual\", list, fitness=creator.FitnessMulti)\n",
    "\n",
    "toolbox = base.Toolbox()\n",
    "toolbox.register(\"attr_float\", np.random.uniform, np.min(data), np.max(data))\n",
    "toolbox.register(\"individual\", tools.initRepeat, creator.Individual, toolbox.attr_float, n=n_segments-1)\n",
    "toolbox.register(\"population\", tools.initRepeat, list, toolbox.individual)\n",
    "\n",
    "toolbox.register(\"evaluate\", evalSegments)\n",
    "toolbox.register(\"mate\", tools.cxBlend, alpha=0.5)\n",
    "toolbox.register(\"mutate\", tools.mutGaussian, mu=0, sigma=5, indpb=0.2)\n",
    "toolbox.register(\"select\", tools.selNSGA2)\n",
    "\n",
    "# Paramètres de l'algorithme\n",
    "population_size = 50\n",
    "number_of_generations = 100\n",
    "crossover_probability = 0.7\n",
    "mutation_probability = 0.2\n",
    "\n",
    "# Initialisation de la population\n",
    "pop = toolbox.population(n=population_size)\n",
    "\n",
    "# Lancement de l'algorithme génétique\n",
    "final_population = algorithms.eaSimple(pop, toolbox, cxpb=crossover_probability, mutpb=mutation_probability, ngen=number_of_generations, verbose=False)\n",
    "\n",
    "# Meilleure solution\n",
    "best_ind = tools.selBest(pop, 1)[0]\n",
    "print(\"Meilleurs points de coupe pour la segmentation :\", sorted(best_ind))\n",
    "print(\"Variance intra-segment et -Variance inter-segment :\", evalSegments(best_ind))"
   ]
  },
  {
   "cell_type": "code",
   "execution_count": 65,
   "metadata": {},
   "outputs": [
    {
     "data": {
      "text/plain": [
       "95.79049897315173"
      ]
     },
     "execution_count": 65,
     "metadata": {},
     "output_type": "execute_result"
    }
   ],
   "source": [
    "np.var(data)"
   ]
  },
  {
   "cell_type": "code",
   "execution_count": null,
   "metadata": {},
   "outputs": [],
   "source": []
  }
 ],
 "metadata": {
  "kernelspec": {
   "display_name": ".venv_pd",
   "language": "python",
   "name": "python3"
  },
  "language_info": {
   "codemirror_mode": {
    "name": "ipython",
    "version": 3
   },
   "file_extension": ".py",
   "mimetype": "text/x-python",
   "name": "python",
   "nbconvert_exporter": "python",
   "pygments_lexer": "ipython3",
   "version": "3.11.7"
  }
 },
 "nbformat": 4,
 "nbformat_minor": 2
}
