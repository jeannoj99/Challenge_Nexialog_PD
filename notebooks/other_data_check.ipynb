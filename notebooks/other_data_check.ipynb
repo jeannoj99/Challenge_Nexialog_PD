{
 "cells": [
  {
   "cell_type": "code",
   "execution_count": 1,
   "metadata": {},
   "outputs": [
    {
     "name": "stdout",
     "output_type": "stream",
     "text": [
      "(CVXPY) Feb 24 11:38:31 PM: Encountered unexpected exception importing solver GLOP:\n",
      "RuntimeError('Unrecognized new version of ortools (9.8.3296). Expected < 9.8.0. Please open a feature request on cvxpy to enable support for this version.')\n",
      "(CVXPY) Feb 24 11:38:31 PM: Encountered unexpected exception importing solver PDLP:\n",
      "RuntimeError('Unrecognized new version of ortools (9.8.3296). Expected < 9.8.0. Please open a feature request on cvxpy to enable support for this version.')\n"
     ]
    }
   ],
   "source": [
    "import seaborn as sns\n",
    "import matplotlib.pyplot as plt\n",
    "import numpy as np\n",
    "import optbinning as opt\n",
    "%matplotlib inline\n",
    "import pandas as pd\n",
    "from sklearn.impute import SimpleImputer\n",
    "pd.set_option('display.max_rows', 500)\n",
    "pd.set_option('display.max_columns', 500)\n",
    "pd.set_option('display.width', 1000)\n",
    "from sklearn.preprocessing import OneHotEncoder, StandardScaler,KBinsDiscretizer, LabelEncoder\n",
    "from sklearn.impute import SimpleImputer\n",
    "from scipy.stats import mannwhitneyu ,chi2_contingency, anderson, f_oneway\n",
    "import statsmodels.api as sm \n",
    "from sklearn.linear_model import LogisticRegression\n",
    "from sklearn.pipeline import make_pipeline\n",
    "from sklearn.model_selection import train_test_split\n",
    "from sklearn.metrics import classification_report, roc_auc_score, accuracy_score\n",
    "import warnings\n",
    "warnings.filterwarnings(\"ignore\")"
   ]
  },
  {
   "cell_type": "code",
   "execution_count": 2,
   "metadata": {},
   "outputs": [],
   "source": [
    "left_data=pd.read_csv(\"../data/application_train_vf.csv\",parse_dates=[\"date_mensuelle\"], index_col=0)"
   ]
  },
  {
   "cell_type": "code",
   "execution_count": 3,
   "metadata": {},
   "outputs": [],
   "source": [
    "data=pd.read_csv(\"../data/bureau.csv\") #"
   ]
  },
  {
   "cell_type": "code",
   "execution_count": 4,
   "metadata": {},
   "outputs": [],
   "source": [
    "left_data=left_data[[\"SK_ID_CURR\",\"TARGET\"]]"
   ]
  },
  {
   "cell_type": "code",
   "execution_count": 5,
   "metadata": {},
   "outputs": [
    {
     "data": {
      "text/html": [
       "<div>\n",
       "<style scoped>\n",
       "    .dataframe tbody tr th:only-of-type {\n",
       "        vertical-align: middle;\n",
       "    }\n",
       "\n",
       "    .dataframe tbody tr th {\n",
       "        vertical-align: top;\n",
       "    }\n",
       "\n",
       "    .dataframe thead th {\n",
       "        text-align: right;\n",
       "    }\n",
       "</style>\n",
       "<table border=\"1\" class=\"dataframe\">\n",
       "  <thead>\n",
       "    <tr style=\"text-align: right;\">\n",
       "      <th></th>\n",
       "      <th>SK_ID_CURR</th>\n",
       "      <th>SK_ID_BUREAU</th>\n",
       "      <th>CREDIT_ACTIVE</th>\n",
       "      <th>CREDIT_CURRENCY</th>\n",
       "      <th>DAYS_CREDIT</th>\n",
       "      <th>CREDIT_DAY_OVERDUE</th>\n",
       "      <th>DAYS_CREDIT_ENDDATE</th>\n",
       "      <th>DAYS_ENDDATE_FACT</th>\n",
       "      <th>AMT_CREDIT_MAX_OVERDUE</th>\n",
       "      <th>CNT_CREDIT_PROLONG</th>\n",
       "      <th>AMT_CREDIT_SUM</th>\n",
       "      <th>AMT_CREDIT_SUM_DEBT</th>\n",
       "      <th>AMT_CREDIT_SUM_LIMIT</th>\n",
       "      <th>AMT_CREDIT_SUM_OVERDUE</th>\n",
       "      <th>CREDIT_TYPE</th>\n",
       "      <th>DAYS_CREDIT_UPDATE</th>\n",
       "      <th>AMT_ANNUITY</th>\n",
       "    </tr>\n",
       "  </thead>\n",
       "  <tbody>\n",
       "    <tr>\n",
       "      <th>0</th>\n",
       "      <td>215354</td>\n",
       "      <td>5714462</td>\n",
       "      <td>Closed</td>\n",
       "      <td>currency 1</td>\n",
       "      <td>-497</td>\n",
       "      <td>0</td>\n",
       "      <td>-153.0</td>\n",
       "      <td>-153.0</td>\n",
       "      <td>NaN</td>\n",
       "      <td>0</td>\n",
       "      <td>91323.00</td>\n",
       "      <td>0.0</td>\n",
       "      <td>NaN</td>\n",
       "      <td>0.0</td>\n",
       "      <td>Consumer credit</td>\n",
       "      <td>-131</td>\n",
       "      <td>NaN</td>\n",
       "    </tr>\n",
       "    <tr>\n",
       "      <th>1</th>\n",
       "      <td>215354</td>\n",
       "      <td>5714463</td>\n",
       "      <td>Active</td>\n",
       "      <td>currency 1</td>\n",
       "      <td>-208</td>\n",
       "      <td>0</td>\n",
       "      <td>1075.0</td>\n",
       "      <td>NaN</td>\n",
       "      <td>NaN</td>\n",
       "      <td>0</td>\n",
       "      <td>225000.00</td>\n",
       "      <td>171342.0</td>\n",
       "      <td>NaN</td>\n",
       "      <td>0.0</td>\n",
       "      <td>Credit card</td>\n",
       "      <td>-20</td>\n",
       "      <td>NaN</td>\n",
       "    </tr>\n",
       "    <tr>\n",
       "      <th>2</th>\n",
       "      <td>215354</td>\n",
       "      <td>5714464</td>\n",
       "      <td>Active</td>\n",
       "      <td>currency 1</td>\n",
       "      <td>-203</td>\n",
       "      <td>0</td>\n",
       "      <td>528.0</td>\n",
       "      <td>NaN</td>\n",
       "      <td>NaN</td>\n",
       "      <td>0</td>\n",
       "      <td>464323.50</td>\n",
       "      <td>NaN</td>\n",
       "      <td>NaN</td>\n",
       "      <td>0.0</td>\n",
       "      <td>Consumer credit</td>\n",
       "      <td>-16</td>\n",
       "      <td>NaN</td>\n",
       "    </tr>\n",
       "    <tr>\n",
       "      <th>3</th>\n",
       "      <td>215354</td>\n",
       "      <td>5714465</td>\n",
       "      <td>Active</td>\n",
       "      <td>currency 1</td>\n",
       "      <td>-203</td>\n",
       "      <td>0</td>\n",
       "      <td>NaN</td>\n",
       "      <td>NaN</td>\n",
       "      <td>NaN</td>\n",
       "      <td>0</td>\n",
       "      <td>90000.00</td>\n",
       "      <td>NaN</td>\n",
       "      <td>NaN</td>\n",
       "      <td>0.0</td>\n",
       "      <td>Credit card</td>\n",
       "      <td>-16</td>\n",
       "      <td>NaN</td>\n",
       "    </tr>\n",
       "    <tr>\n",
       "      <th>4</th>\n",
       "      <td>215354</td>\n",
       "      <td>5714466</td>\n",
       "      <td>Active</td>\n",
       "      <td>currency 1</td>\n",
       "      <td>-629</td>\n",
       "      <td>0</td>\n",
       "      <td>1197.0</td>\n",
       "      <td>NaN</td>\n",
       "      <td>77674.5</td>\n",
       "      <td>0</td>\n",
       "      <td>2700000.00</td>\n",
       "      <td>NaN</td>\n",
       "      <td>NaN</td>\n",
       "      <td>0.0</td>\n",
       "      <td>Consumer credit</td>\n",
       "      <td>-21</td>\n",
       "      <td>NaN</td>\n",
       "    </tr>\n",
       "    <tr>\n",
       "      <th>...</th>\n",
       "      <td>...</td>\n",
       "      <td>...</td>\n",
       "      <td>...</td>\n",
       "      <td>...</td>\n",
       "      <td>...</td>\n",
       "      <td>...</td>\n",
       "      <td>...</td>\n",
       "      <td>...</td>\n",
       "      <td>...</td>\n",
       "      <td>...</td>\n",
       "      <td>...</td>\n",
       "      <td>...</td>\n",
       "      <td>...</td>\n",
       "      <td>...</td>\n",
       "      <td>...</td>\n",
       "      <td>...</td>\n",
       "      <td>...</td>\n",
       "    </tr>\n",
       "    <tr>\n",
       "      <th>1716423</th>\n",
       "      <td>259355</td>\n",
       "      <td>5057750</td>\n",
       "      <td>Active</td>\n",
       "      <td>currency 1</td>\n",
       "      <td>-44</td>\n",
       "      <td>0</td>\n",
       "      <td>-30.0</td>\n",
       "      <td>NaN</td>\n",
       "      <td>0.0</td>\n",
       "      <td>0</td>\n",
       "      <td>11250.00</td>\n",
       "      <td>11250.0</td>\n",
       "      <td>0.0</td>\n",
       "      <td>0.0</td>\n",
       "      <td>Microloan</td>\n",
       "      <td>-19</td>\n",
       "      <td>NaN</td>\n",
       "    </tr>\n",
       "    <tr>\n",
       "      <th>1716424</th>\n",
       "      <td>100044</td>\n",
       "      <td>5057754</td>\n",
       "      <td>Closed</td>\n",
       "      <td>currency 1</td>\n",
       "      <td>-2648</td>\n",
       "      <td>0</td>\n",
       "      <td>-2433.0</td>\n",
       "      <td>-2493.0</td>\n",
       "      <td>5476.5</td>\n",
       "      <td>0</td>\n",
       "      <td>38130.84</td>\n",
       "      <td>0.0</td>\n",
       "      <td>0.0</td>\n",
       "      <td>0.0</td>\n",
       "      <td>Consumer credit</td>\n",
       "      <td>-2493</td>\n",
       "      <td>NaN</td>\n",
       "    </tr>\n",
       "    <tr>\n",
       "      <th>1716425</th>\n",
       "      <td>100044</td>\n",
       "      <td>5057762</td>\n",
       "      <td>Closed</td>\n",
       "      <td>currency 1</td>\n",
       "      <td>-1809</td>\n",
       "      <td>0</td>\n",
       "      <td>-1628.0</td>\n",
       "      <td>-970.0</td>\n",
       "      <td>NaN</td>\n",
       "      <td>0</td>\n",
       "      <td>15570.00</td>\n",
       "      <td>NaN</td>\n",
       "      <td>NaN</td>\n",
       "      <td>0.0</td>\n",
       "      <td>Consumer credit</td>\n",
       "      <td>-967</td>\n",
       "      <td>NaN</td>\n",
       "    </tr>\n",
       "    <tr>\n",
       "      <th>1716426</th>\n",
       "      <td>246829</td>\n",
       "      <td>5057770</td>\n",
       "      <td>Closed</td>\n",
       "      <td>currency 1</td>\n",
       "      <td>-1878</td>\n",
       "      <td>0</td>\n",
       "      <td>-1513.0</td>\n",
       "      <td>-1513.0</td>\n",
       "      <td>NaN</td>\n",
       "      <td>0</td>\n",
       "      <td>36000.00</td>\n",
       "      <td>0.0</td>\n",
       "      <td>0.0</td>\n",
       "      <td>0.0</td>\n",
       "      <td>Consumer credit</td>\n",
       "      <td>-1508</td>\n",
       "      <td>NaN</td>\n",
       "    </tr>\n",
       "    <tr>\n",
       "      <th>1716427</th>\n",
       "      <td>246829</td>\n",
       "      <td>5057778</td>\n",
       "      <td>Closed</td>\n",
       "      <td>currency 1</td>\n",
       "      <td>-463</td>\n",
       "      <td>0</td>\n",
       "      <td>NaN</td>\n",
       "      <td>-387.0</td>\n",
       "      <td>NaN</td>\n",
       "      <td>0</td>\n",
       "      <td>22500.00</td>\n",
       "      <td>0.0</td>\n",
       "      <td>NaN</td>\n",
       "      <td>0.0</td>\n",
       "      <td>Microloan</td>\n",
       "      <td>-387</td>\n",
       "      <td>NaN</td>\n",
       "    </tr>\n",
       "  </tbody>\n",
       "</table>\n",
       "<p>1716428 rows × 17 columns</p>\n",
       "</div>"
      ],
      "text/plain": [
       "         SK_ID_CURR  SK_ID_BUREAU CREDIT_ACTIVE CREDIT_CURRENCY  DAYS_CREDIT  CREDIT_DAY_OVERDUE  DAYS_CREDIT_ENDDATE  DAYS_ENDDATE_FACT  AMT_CREDIT_MAX_OVERDUE  CNT_CREDIT_PROLONG  AMT_CREDIT_SUM  AMT_CREDIT_SUM_DEBT  AMT_CREDIT_SUM_LIMIT  AMT_CREDIT_SUM_OVERDUE      CREDIT_TYPE  DAYS_CREDIT_UPDATE  AMT_ANNUITY\n",
       "0            215354       5714462        Closed      currency 1         -497                   0               -153.0             -153.0                     NaN                   0        91323.00                  0.0                   NaN                     0.0  Consumer credit                -131          NaN\n",
       "1            215354       5714463        Active      currency 1         -208                   0               1075.0                NaN                     NaN                   0       225000.00             171342.0                   NaN                     0.0      Credit card                 -20          NaN\n",
       "2            215354       5714464        Active      currency 1         -203                   0                528.0                NaN                     NaN                   0       464323.50                  NaN                   NaN                     0.0  Consumer credit                 -16          NaN\n",
       "3            215354       5714465        Active      currency 1         -203                   0                  NaN                NaN                     NaN                   0        90000.00                  NaN                   NaN                     0.0      Credit card                 -16          NaN\n",
       "4            215354       5714466        Active      currency 1         -629                   0               1197.0                NaN                 77674.5                   0      2700000.00                  NaN                   NaN                     0.0  Consumer credit                 -21          NaN\n",
       "...             ...           ...           ...             ...          ...                 ...                  ...                ...                     ...                 ...             ...                  ...                   ...                     ...              ...                 ...          ...\n",
       "1716423      259355       5057750        Active      currency 1          -44                   0                -30.0                NaN                     0.0                   0        11250.00              11250.0                   0.0                     0.0        Microloan                 -19          NaN\n",
       "1716424      100044       5057754        Closed      currency 1        -2648                   0              -2433.0            -2493.0                  5476.5                   0        38130.84                  0.0                   0.0                     0.0  Consumer credit               -2493          NaN\n",
       "1716425      100044       5057762        Closed      currency 1        -1809                   0              -1628.0             -970.0                     NaN                   0        15570.00                  NaN                   NaN                     0.0  Consumer credit                -967          NaN\n",
       "1716426      246829       5057770        Closed      currency 1        -1878                   0              -1513.0            -1513.0                     NaN                   0        36000.00                  0.0                   0.0                     0.0  Consumer credit               -1508          NaN\n",
       "1716427      246829       5057778        Closed      currency 1         -463                   0                  NaN             -387.0                     NaN                   0        22500.00                  0.0                   NaN                     0.0        Microloan                -387          NaN\n",
       "\n",
       "[1716428 rows x 17 columns]"
      ]
     },
     "execution_count": 5,
     "metadata": {},
     "output_type": "execute_result"
    }
   ],
   "source": [
    "data"
   ]
  },
  {
   "cell_type": "code",
   "execution_count": 6,
   "metadata": {},
   "outputs": [
    {
     "data": {
      "text/plain": [
       "SK_ID_CURR                0.000000\n",
       "SK_ID_BUREAU              0.000000\n",
       "CREDIT_ACTIVE             0.000000\n",
       "CREDIT_CURRENCY           0.000000\n",
       "DAYS_CREDIT               0.000000\n",
       "CREDIT_DAY_OVERDUE        0.000000\n",
       "DAYS_CREDIT_ENDDATE       0.061496\n",
       "DAYS_ENDDATE_FACT         0.369170\n",
       "AMT_CREDIT_MAX_OVERDUE    0.655133\n",
       "CNT_CREDIT_PROLONG        0.000000\n",
       "AMT_CREDIT_SUM            0.000008\n",
       "AMT_CREDIT_SUM_DEBT       0.150119\n",
       "AMT_CREDIT_SUM_LIMIT      0.344774\n",
       "AMT_CREDIT_SUM_OVERDUE    0.000000\n",
       "CREDIT_TYPE               0.000000\n",
       "DAYS_CREDIT_UPDATE        0.000000\n",
       "AMT_ANNUITY               0.714735\n",
       "dtype: float64"
      ]
     },
     "execution_count": 6,
     "metadata": {},
     "output_type": "execute_result"
    }
   ],
   "source": [
    "data.isna().mean()"
   ]
  },
  {
   "cell_type": "code",
   "execution_count": 7,
   "metadata": {},
   "outputs": [
    {
     "data": {
      "text/plain": [
       "CREDIT_ACTIVE\n",
       "Closed      1079273\n",
       "Active       630607\n",
       "Sold           6527\n",
       "Bad debt         21\n",
       "Name: count, dtype: int64"
      ]
     },
     "execution_count": 7,
     "metadata": {},
     "output_type": "execute_result"
    }
   ],
   "source": [
    "data[\"CREDIT_ACTIVE\"].value_counts()"
   ]
  },
  {
   "cell_type": "code",
   "execution_count": 8,
   "metadata": {},
   "outputs": [
    {
     "data": {
      "text/plain": [
       "0.25279650530054276"
      ]
     },
     "execution_count": 8,
     "metadata": {},
     "output_type": "execute_result"
    }
   ],
   "source": [
    "(data[\"AMT_CREDIT_SUM_DEBT\"] > 0).mean()"
   ]
  },
  {
   "cell_type": "code",
   "execution_count": 9,
   "metadata": {},
   "outputs": [
    {
     "data": {
      "text/plain": [
       "CREDIT_TYPE\n",
       "Consumer credit                                 1251615\n",
       "Credit card                                      402195\n",
       "Car loan                                          27690\n",
       "Mortgage                                          18391\n",
       "Microloan                                         12413\n",
       "Loan for business development                      1975\n",
       "Another type of loan                               1017\n",
       "Unknown type of loan                                555\n",
       "Loan for working capital replenishment              469\n",
       "Cash loan (non-earmarked)                            56\n",
       "Real estate loan                                     27\n",
       "Loan for the purchase of equipment                   19\n",
       "Loan for purchase of shares (margin lending)          4\n",
       "Mobile operator loan                                  1\n",
       "Interbank credit                                      1\n",
       "Name: count, dtype: int64"
      ]
     },
     "execution_count": 9,
     "metadata": {},
     "output_type": "execute_result"
    }
   ],
   "source": [
    "data[\"CREDIT_TYPE\"].value_counts()"
   ]
  },
  {
   "cell_type": "code",
   "execution_count": 10,
   "metadata": {},
   "outputs": [
    {
     "data": {
      "text/plain": [
       "CREDIT_ACTIVE\n",
       "Closed      1079273\n",
       "Active       630607\n",
       "Sold           6527\n",
       "Bad debt         21\n",
       "Name: count, dtype: int64"
      ]
     },
     "execution_count": 10,
     "metadata": {},
     "output_type": "execute_result"
    }
   ],
   "source": [
    "data[\"CREDIT_ACTIVE\"].value_counts()"
   ]
  },
  {
   "cell_type": "code",
   "execution_count": 11,
   "metadata": {},
   "outputs": [
    {
     "data": {
      "image/png": "[encoded data removed]",
      "text/plain": [
       "<Figure size 640x480 with 1 Axes>"
      ]
     },
     "metadata": {},
     "output_type": "display_data"
    }
   ],
   "source": [
    "sns.kdeplot(data[data[\"CREDIT_ACTIVE\"]==\"Active\"][\"AMT_ANNUITY\"].apply(np.log))\n",
    "plt.show()"
   ]
  },
  {
   "cell_type": "code",
   "execution_count": 12,
   "metadata": {},
   "outputs": [
    {
     "data": {
      "text/plain": [
       "0.2742031707709266"
      ]
     },
     "execution_count": 12,
     "metadata": {},
     "output_type": "execute_result"
    }
   ],
   "source": [
    "(data[\"AMT_CREDIT_MAX_OVERDUE\"] == 0 ).mean()"
   ]
  },
  {
   "cell_type": "code",
   "execution_count": 13,
   "metadata": {},
   "outputs": [
    {
     "data": {
      "text/plain": [
       "0.0014664174669721073"
      ]
     },
     "execution_count": 13,
     "metadata": {},
     "output_type": "execute_result"
    }
   ],
   "source": [
    "(data[\"CREDIT_DAY_OVERDUE\"] >= 30).mean()"
   ]
  },
  {
   "cell_type": "code",
   "execution_count": 14,
   "metadata": {},
   "outputs": [],
   "source": [
    "data_credit_bureau=left_data.merge(data, how='left', on=\"SK_ID_CURR\")"
   ]
  },
  {
   "cell_type": "code",
   "execution_count": 15,
   "metadata": {},
   "outputs": [
    {
     "data": {
      "text/plain": [
       "SK_ID_CURR                0.000000\n",
       "TARGET                    0.000000\n",
       "SK_ID_BUREAU              0.029128\n",
       "CREDIT_ACTIVE             0.029128\n",
       "CREDIT_CURRENCY           0.029128\n",
       "DAYS_CREDIT               0.029128\n",
       "CREDIT_DAY_OVERDUE        0.029128\n",
       "DAYS_CREDIT_ENDDATE       0.088092\n",
       "DAYS_ENDDATE_FACT         0.389729\n",
       "AMT_CREDIT_MAX_OVERDUE    0.657594\n",
       "CNT_CREDIT_PROLONG        0.029128\n",
       "AMT_CREDIT_SUM            0.029130\n",
       "AMT_CREDIT_SUM_DEBT       0.176951\n",
       "AMT_CREDIT_SUM_LIMIT      0.353551\n",
       "AMT_CREDIT_SUM_OVERDUE    0.029128\n",
       "CREDIT_TYPE               0.029128\n",
       "DAYS_CREDIT_UPDATE        0.029128\n",
       "AMT_ANNUITY               0.777940\n",
       "dtype: float64"
      ]
     },
     "execution_count": 15,
     "metadata": {},
     "output_type": "execute_result"
    }
   ],
   "source": [
    "data_credit_bureau.isna().mean()"
   ]
  },
  {
   "cell_type": "code",
   "execution_count": 16,
   "metadata": {},
   "outputs": [],
   "source": [
    "data_credit_bureau[[\"AMT_CREDIT_SUM_DEBT\",\"AMT_CREDIT_SUM\",\"AMT_ANNUITY\"]].fillna(0, inplace=True)"
   ]
  },
  {
   "cell_type": "code",
   "execution_count": null,
   "metadata": {},
   "outputs": [],
   "source": []
  },
  {
   "cell_type": "code",
   "execution_count": 17,
   "metadata": {},
   "outputs": [],
   "source": [
    "clients_debts=data_credit_bureau[[\"SK_ID_CURR\", \"AMT_CREDIT_SUM_DEBT\"]].groupby(by=\"SK_ID_CURR\").agg(sum).reset_index()"
   ]
  },
  {
   "cell_type": "code",
   "execution_count": 18,
   "metadata": {},
   "outputs": [],
   "source": [
    "clients_all_credits=data_credit_bureau.loc[data_credit_bureau[\"CREDIT_ACTIVE\"]==\"Active\",[\"SK_ID_CURR\",\"AMT_CREDIT_SUM\"]].groupby(by=\"SK_ID_CURR\").sum().reset_index()"
   ]
  },
  {
   "cell_type": "code",
   "execution_count": 19,
   "metadata": {},
   "outputs": [],
   "source": [
    "clients_all_annuities=data_credit_bureau.loc[data_credit_bureau[\"CREDIT_ACTIVE\"]==\"Active\",[\"SK_ID_CURR\",\"AMT_ANNUITY\"]].groupby(by=\"SK_ID_CURR\").sum().reset_index()"
   ]
  },
  {
   "cell_type": "code",
   "execution_count": 20,
   "metadata": {},
   "outputs": [],
   "source": [
    "clients_credit_actives=data_credit_bureau.loc[data_credit_bureau[\"CREDIT_ACTIVE\"]==\"Active\",[\"SK_ID_CURR\",\"CREDIT_ACTIVE\"]].groupby(by=\"SK_ID_CURR\").count().reset_index()"
   ]
  },
  {
   "cell_type": "code",
   "execution_count": 21,
   "metadata": {},
   "outputs": [],
   "source": [
    "clients_credit_closed=data_credit_bureau.loc[data_credit_bureau[\"CREDIT_ACTIVE\"]==\"Closed\",[\"SK_ID_CURR\",\"CREDIT_ACTIVE\"]].groupby(by=\"SK_ID_CURR\").count().reset_index()"
   ]
  },
  {
   "cell_type": "code",
   "execution_count": 22,
   "metadata": {},
   "outputs": [],
   "source": [
    "last_credit=data_credit_bureau.loc[data_credit_bureau[\"CREDIT_ACTIVE\"]==\"Active\",[\"SK_ID_CURR\",\"DAYS_CREDIT\"]].groupby(by=\"SK_ID_CURR\").max().reset_index()"
   ]
  },
  {
   "cell_type": "code",
   "execution_count": 23,
   "metadata": {},
   "outputs": [],
   "source": [
    "end_date_last_credit=data_credit_bureau.loc[data_credit_bureau[\"CREDIT_ACTIVE\"]==\"Active\",[\"SK_ID_CURR\",\"DAYS_CREDIT_ENDDATE\"]].groupby(by=\"SK_ID_CURR\").max().reset_index()"
   ]
  },
  {
   "cell_type": "code",
   "execution_count": 24,
   "metadata": {},
   "outputs": [],
   "source": [
    "clients_credit_actives.rename(columns={\"CREDIT_ACTIVE\":\"NB_CREDIT_ACTIVE\"}, inplace=True)\n",
    "clients_credit_closed.rename(columns={\"CREDIT_ACTIVE\":\"NB_CREDIT_CLOSED\"}, inplace=True)"
   ]
  },
  {
   "cell_type": "code",
   "execution_count": 25,
   "metadata": {},
   "outputs": [],
   "source": [
    "left_data=left_data.merge(clients_debts, how=\"left\", on = \"SK_ID_CURR\")"
   ]
  },
  {
   "cell_type": "code",
   "execution_count": 26,
   "metadata": {},
   "outputs": [],
   "source": [
    "left_data=left_data.merge(clients_credit_actives, how=\"left\", on = \"SK_ID_CURR\")"
   ]
  },
  {
   "cell_type": "code",
   "execution_count": 27,
   "metadata": {},
   "outputs": [],
   "source": [
    "left_data=left_data.merge(clients_credit_closed, how=\"left\", on = \"SK_ID_CURR\")"
   ]
  },
  {
   "cell_type": "code",
   "execution_count": 28,
   "metadata": {},
   "outputs": [],
   "source": [
    "left_data=left_data.merge(last_credit, how=\"left\", on =\"SK_ID_CURR\")"
   ]
  },
  {
   "cell_type": "code",
   "execution_count": 29,
   "metadata": {},
   "outputs": [],
   "source": [
    "left_data=left_data.merge(end_date_last_credit, how=\"left\", on = \"SK_ID_CURR\")"
   ]
  },
  {
   "cell_type": "code",
   "execution_count": 30,
   "metadata": {},
   "outputs": [],
   "source": [
    "left_data=left_data.merge(clients_all_credits, how=\"left\", on=\"SK_ID_CURR\")"
   ]
  },
  {
   "cell_type": "code",
   "execution_count": 31,
   "metadata": {},
   "outputs": [],
   "source": [
    "left_data=left_data.merge(clients_all_annuities, how=\"left\", on=\"SK_ID_CURR\")"
   ]
  },
  {
   "cell_type": "code",
   "execution_count": 32,
   "metadata": {},
   "outputs": [
    {
     "data": {
      "text/plain": [
       "0        -175.0\n",
       "1        -359.0\n",
       "2        -173.0\n",
       "3           NaN\n",
       "4        -235.0\n",
       "          ...  \n",
       "306102   -409.0\n",
       "306103      NaN\n",
       "306104      NaN\n",
       "306105   -289.0\n",
       "306106    -66.0\n",
       "Name: DAYS_CREDIT, Length: 306107, dtype: float64"
      ]
     },
     "execution_count": 32,
     "metadata": {},
     "output_type": "execute_result"
    }
   ],
   "source": [
    "left_data[\"DAYS_CREDIT\"]"
   ]
  },
  {
   "cell_type": "code",
   "execution_count": 33,
   "metadata": {},
   "outputs": [],
   "source": [
    "left_data[\"NB_CREDIT_ACTIVE\"].fillna(0, inplace=True)\n",
    "left_data[\"NB_CREDIT_CLOSED\"].fillna(0, inplace=True)\n",
    "left_data[\"DAYS_CREDIT\"].fillna(left_data[\"DAYS_CREDIT\"].max(), inplace=True)\n",
    "left_data[\"AMT_CREDIT_SUM_DEBT\"].fillna(0, inplace=True)\n",
    "left_data[\"AMT_CREDIT_SUM\"].fillna(0, inplace=True)"
   ]
  },
  {
   "cell_type": "code",
   "execution_count": 34,
   "metadata": {},
   "outputs": [],
   "source": [
    "left_data[\"DAYS_CREDIT_ENDDATE\"].fillna(0, inplace=True)"
   ]
  },
  {
   "cell_type": "code",
   "execution_count": 35,
   "metadata": {},
   "outputs": [],
   "source": [
    "left_data[\"AMT_ANNUITY\"].fillna(0, inplace=True)"
   ]
  },
  {
   "cell_type": "code",
   "execution_count": 36,
   "metadata": {},
   "outputs": [],
   "source": [
    "left_data.drop(columns=\"TARGET\").add_prefix(\"CB_\").to_csv(\"../data/cb_findings.csv\")"
   ]
  },
  {
   "cell_type": "code",
   "execution_count": 37,
   "metadata": {},
   "outputs": [],
   "source": [
    "def cramers_v(confusion_matrix):\n",
    "    chi2 = chi2_contingency(confusion_matrix)[0]\n",
    "    n = confusion_matrix.sum().sum()\n",
    "    phi2 = chi2 / n\n",
    "    r, k = confusion_matrix.shape\n",
    "    phi2corr = max(0, phi2 - ((k-1)*(r-1))/(n-1))\n",
    "    rcorr = r - ((r-1)**2)/(n-1)\n",
    "    kcorr = k - ((k-1)**2)/(n-1)\n",
    "    return np.sqrt(phi2corr / min((kcorr-1), (rcorr-1)))"
   ]
  },
  {
   "cell_type": "code",
   "execution_count": 38,
   "metadata": {},
   "outputs": [],
   "source": [
    "def mannwhitney_test(df:pd.DataFrame,variable:str,target:str):\n",
    "    # Séparer les données en deux groupes en fonction de la variable cible\n",
    "    group_1 = df[df[target] == 0]\n",
    "    group_2 = df[df[target] == 1]\n",
    "\n",
    "    stat, p_value = mannwhitneyu(group_1[variable].dropna(), group_2[variable].dropna())\n",
    "    # Afficher les résultats\n",
    "    print(f\"Variable: {variable}\")\n",
    "    print(f\"Mann-Whitney U-statistic: {stat}\")\n",
    "    print(f\"P-value: {p_value}\")\n",
    "    print(10*\"===\")\n",
    "    \n",
    "    pass"
   ]
  },
  {
   "cell_type": "code",
   "execution_count": 39,
   "metadata": {},
   "outputs": [
    {
     "name": "stdout",
     "output_type": "stream",
     "text": [
      "Variable: AMT_CREDIT_SUM\n",
      "Mann-Whitney U-statistic: 3272229246.5\n",
      "P-value: 0.0003162306436866172\n",
      "==============================\n"
     ]
    }
   ],
   "source": [
    "mannwhitney_test(left_data,\"AMT_CREDIT_SUM\",\"TARGET\")"
   ]
  },
  {
   "cell_type": "code",
   "execution_count": 40,
   "metadata": {},
   "outputs": [
    {
     "name": "stdout",
     "output_type": "stream",
     "text": [
      "Variable: AMT_CREDIT_SUM_DEBT\n",
      "Mann-Whitney U-statistic: 3133031095.5\n",
      "P-value: 5.979879521139057e-49\n",
      "==============================\n"
     ]
    }
   ],
   "source": [
    "mannwhitney_test(left_data,\"AMT_CREDIT_SUM_DEBT\",\"TARGET\")"
   ]
  },
  {
   "cell_type": "code",
   "execution_count": 41,
   "metadata": {},
   "outputs": [
    {
     "name": "stdout",
     "output_type": "stream",
     "text": [
      "Variable: NB_CREDIT_CLOSED\n",
      "Mann-Whitney U-statistic: 3680612527.5\n",
      "P-value: 4.6863231031874803e-175\n",
      "==============================\n"
     ]
    }
   ],
   "source": [
    "mannwhitney_test(left_data,\"NB_CREDIT_CLOSED\",\"TARGET\")"
   ]
  },
  {
   "cell_type": "code",
   "execution_count": 42,
   "metadata": {},
   "outputs": [
    {
     "name": "stdout",
     "output_type": "stream",
     "text": [
      "Variable: NB_CREDIT_ACTIVE\n",
      "Mann-Whitney U-statistic: 3123304824.5\n",
      "P-value: 2.4344390971841764e-53\n",
      "==============================\n"
     ]
    }
   ],
   "source": [
    "mannwhitney_test(left_data,\"NB_CREDIT_ACTIVE\",\"TARGET\")"
   ]
  },
  {
   "cell_type": "code",
   "execution_count": 43,
   "metadata": {},
   "outputs": [
    {
     "name": "stdout",
     "output_type": "stream",
     "text": [
      "Variable: DAYS_CREDIT\n",
      "Mann-Whitney U-statistic: 3077426477.5\n",
      "P-value: 1.5485316146462724e-78\n",
      "==============================\n"
     ]
    }
   ],
   "source": [
    "mannwhitney_test(left_data,\"DAYS_CREDIT\",\"TARGET\")"
   ]
  },
  {
   "cell_type": "code",
   "execution_count": 44,
   "metadata": {},
   "outputs": [
    {
     "name": "stdout",
     "output_type": "stream",
     "text": [
      "Variable: DAYS_CREDIT_ENDDATE\n",
      "Mann-Whitney U-statistic: 3110108726.0\n",
      "P-value: 1.1983707194643837e-59\n",
      "==============================\n"
     ]
    }
   ],
   "source": [
    "mannwhitney_test(left_data,\"DAYS_CREDIT_ENDDATE\",\"TARGET\")"
   ]
  },
  {
   "cell_type": "code",
   "execution_count": 45,
   "metadata": {},
   "outputs": [
    {
     "name": "stdout",
     "output_type": "stream",
     "text": [
      "Variable: AMT_ANNUITY\n",
      "Mann-Whitney U-statistic: 3223333125.5\n",
      "P-value: 1.2599151178089192e-32\n",
      "==============================\n"
     ]
    }
   ],
   "source": [
    "mannwhitney_test(left_data,\"AMT_ANNUITY\",\"TARGET\")"
   ]
  },
  {
   "cell_type": "code",
   "execution_count": 46,
   "metadata": {},
   "outputs": [],
   "source": [
    "import numpy as np\n",
    "import pandas as pd\n",
    "from sklearn.tree import DecisionTreeClassifier\n",
    "from sklearn.metrics import roc_auc_score\n",
    "\n",
    "class DecisionTreeDiscretizer:\n",
    "    def __init__(self, max_bins=5, target=None):\n",
    "        self.tree_max_bins = max_bins\n",
    "        self.clf = DecisionTreeClassifier(criterion=\"gini\", max_depth=int(round(self.tree_max_bins/2,0)),\n",
    "                                          min_samples_split=0.05,\n",
    "                                           min_samples_leaf=0.05) #\n",
    "        self.target = target\n",
    "\n",
    "    def fit(self, X_train):\n",
    "        # Entraîner le modèle sur les données d'entraînement\n",
    "        self.clf.fit(X_train.values.reshape(-1, 1), self.target)\n",
    "\n",
    "    def _get_tree_thresholds(self):\n",
    "        thresholds = set()\n",
    "        for node in range(self.clf.tree_.node_count):\n",
    "            if self.clf.tree_.children_left[node] != self.clf.tree_.children_right[node]:  # non-leaf node\n",
    "                feature = self.clf.tree_.feature[node]\n",
    "                threshold = self.clf.tree_.threshold[node]\n",
    "                thresholds.add(threshold)\n",
    "        return np.array(list(thresholds))\n",
    "\n",
    "    def get_thresholds(self):\n",
    "        if hasattr(self.clf, 'tree_') and self.clf.tree_ is not None:\n",
    "            thresholds_np = self._get_tree_thresholds()\n",
    "            thresholds = [-np.inf] + sorted(list(set(list(thresholds_np)))) + [np.inf]\n",
    "            return thresholds\n",
    "        else:\n",
    "            raise ValueError(\"Le classifieur n'est pas entraîné. Utilisez la méthode fit avant d'obtenir les seuils.\")\n",
    "\n",
    "    def transform(self, X):\n",
    "        # Vérifier si le modèle est entraîné\n",
    "        if not hasattr(self.clf, 'tree_') or self.clf.tree_ is None:\n",
    "            raise ValueError(\"Le classifieur n'est pas entraîné. Utilisez la méthode fit avant de transformer les données de test.\")\n",
    "\n",
    "        thresholds = self.get_thresholds()\n",
    "\n",
    "        # Utiliser pd.cut pour obtenir les intervalles au lieu des numéros\n",
    "        intervals = pd.cut(X.values.flatten(), bins=thresholds, include_lowest=True, right=True)\n",
    "        return intervals\n",
    "\n"
   ]
  },
  {
   "cell_type": "code",
   "execution_count": 47,
   "metadata": {},
   "outputs": [],
   "source": [
    "discretizer=DecisionTreeDiscretizer(target=left_data[\"TARGET\"])"
   ]
  },
  {
   "cell_type": "code",
   "execution_count": 48,
   "metadata": {},
   "outputs": [],
   "source": [
    "discretizer.fit(left_data[\"AMT_CREDIT_SUM_DEBT\"])\n",
    "left_data[\"AMT_CREDIT_SUM_DEBT\"]=discretizer.transform(left_data[\"AMT_CREDIT_SUM_DEBT\"])"
   ]
  },
  {
   "cell_type": "code",
   "execution_count": 49,
   "metadata": {},
   "outputs": [],
   "source": [
    "discretizer.fit(left_data[\"NB_CREDIT_CLOSED\"])\n",
    "left_data[\"NB_CREDIT_CLOSED\"]=discretizer.transform(left_data[\"NB_CREDIT_CLOSED\"])"
   ]
  },
  {
   "cell_type": "code",
   "execution_count": 50,
   "metadata": {},
   "outputs": [],
   "source": [
    "discretizer.fit(left_data[\"NB_CREDIT_ACTIVE\"])\n",
    "left_data[\"NB_CREDIT_ACTIVE\"]=discretizer.transform(left_data[\"NB_CREDIT_ACTIVE\"])"
   ]
  },
  {
   "cell_type": "code",
   "execution_count": 51,
   "metadata": {},
   "outputs": [],
   "source": [
    "discretizer.fit(left_data[\"DAYS_CREDIT\"])\n",
    "left_data[\"DAYS_CREDIT\"]=discretizer.transform(left_data[\"DAYS_CREDIT\"])"
   ]
  },
  {
   "cell_type": "code",
   "execution_count": 52,
   "metadata": {},
   "outputs": [],
   "source": [
    "discretizer.fit(left_data[\"DAYS_CREDIT_ENDDATE\"])\n",
    "left_data[\"DAYS_CREDIT_ENDDATE\"]=discretizer.transform(left_data[\"DAYS_CREDIT_ENDDATE\"])"
   ]
  },
  {
   "cell_type": "code",
   "execution_count": 53,
   "metadata": {},
   "outputs": [],
   "source": [
    "discretizer.fit(left_data[\"AMT_CREDIT_SUM\"])\n",
    "left_data[\"AMT_CREDIT_SUM\"]=discretizer.transform(left_data[\"AMT_CREDIT_SUM\"])"
   ]
  },
  {
   "cell_type": "code",
   "execution_count": 54,
   "metadata": {},
   "outputs": [],
   "source": [
    "discretizer.fit(left_data[\"AMT_ANNUITY\"])\n",
    "left_data[\"AMT_ANNUITY\"]=discretizer.transform(left_data[\"AMT_ANNUITY\"])"
   ]
  },
  {
   "cell_type": "code",
   "execution_count": 55,
   "metadata": {},
   "outputs": [
    {
     "data": {
      "text/html": [
       "<div>\n",
       "<style scoped>\n",
       "    .dataframe tbody tr th:only-of-type {\n",
       "        vertical-align: middle;\n",
       "    }\n",
       "\n",
       "    .dataframe tbody tr th {\n",
       "        vertical-align: top;\n",
       "    }\n",
       "\n",
       "    .dataframe thead th {\n",
       "        text-align: right;\n",
       "    }\n",
       "</style>\n",
       "<table border=\"1\" class=\"dataframe\">\n",
       "  <thead>\n",
       "    <tr style=\"text-align: right;\">\n",
       "      <th>NB_CREDIT_ACTIVE</th>\n",
       "      <th>(-inf, 2.5]</th>\n",
       "      <th>(2.5, 4.5]</th>\n",
       "      <th>(4.5, inf]</th>\n",
       "    </tr>\n",
       "    <tr>\n",
       "      <th>TARGET</th>\n",
       "      <th></th>\n",
       "      <th></th>\n",
       "      <th></th>\n",
       "    </tr>\n",
       "  </thead>\n",
       "  <tbody>\n",
       "    <tr>\n",
       "      <th>0</th>\n",
       "      <td>206114</td>\n",
       "      <td>54868</td>\n",
       "      <td>21642</td>\n",
       "    </tr>\n",
       "    <tr>\n",
       "      <th>1</th>\n",
       "      <td>15786</td>\n",
       "      <td>4896</td>\n",
       "      <td>2801</td>\n",
       "    </tr>\n",
       "  </tbody>\n",
       "</table>\n",
       "</div>"
      ],
      "text/plain": [
       "NB_CREDIT_ACTIVE  (-inf, 2.5]  (2.5, 4.5]  (4.5, inf]\n",
       "TARGET                                               \n",
       "0                      206114       54868       21642\n",
       "1                       15786        4896        2801"
      ]
     },
     "execution_count": 55,
     "metadata": {},
     "output_type": "execute_result"
    }
   ],
   "source": [
    "pd.crosstab(left_data[\"TARGET\"], left_data[\"NB_CREDIT_ACTIVE\"])"
   ]
  },
  {
   "cell_type": "code",
   "execution_count": 56,
   "metadata": {},
   "outputs": [],
   "source": [
    "def calculate_information_value_from_contingency_table(contingency_table):\n",
    "    \"\"\"\n",
    "    Calculer l'Information Value à partir d'une table de contingence.\n",
    "    \n",
    "    Args:\n",
    "        contingency_table (pd.DataFrame): La table de contingence entre la variable et la target.\n",
    "        \n",
    "    Returns:\n",
    "        float: L'Information Value calculé.\n",
    "    \"\"\"\n",
    "    non_event_rate=contingency_table.iloc[0]/(contingency_table.iloc[0].sum())\n",
    "    event_rate=contingency_table.iloc[1]/(contingency_table.iloc[1].sum())\n",
    "    iv=0\n",
    "    if (non_event_rate.min() > 0) & (event_rate.mean() >0) :\n",
    "        for col in non_event_rate.index:\n",
    "            iv += (event_rate[col] - non_event_rate[col])*np.log(event_rate[col] / non_event_rate[col])\n",
    "\n",
    "    return iv"
   ]
  },
  {
   "cell_type": "code",
   "execution_count": 57,
   "metadata": {},
   "outputs": [
    {
     "data": {
      "text/plain": [
       "0.011823451774652787"
      ]
     },
     "execution_count": 57,
     "metadata": {},
     "output_type": "execute_result"
    }
   ],
   "source": [
    "calculate_information_value_from_contingency_table(pd.crosstab(left_data[\"TARGET\"], left_data[\"AMT_CREDIT_SUM_DEBT\"]))"
   ]
  },
  {
   "cell_type": "code",
   "execution_count": 58,
   "metadata": {},
   "outputs": [
    {
     "data": {
      "text/plain": [
       "0.024596864229907343"
      ]
     },
     "execution_count": 58,
     "metadata": {},
     "output_type": "execute_result"
    }
   ],
   "source": [
    "calculate_information_value_from_contingency_table(pd.crosstab(left_data[\"TARGET\"], left_data[\"NB_CREDIT_ACTIVE\"]))"
   ]
  },
  {
   "cell_type": "code",
   "execution_count": 59,
   "metadata": {},
   "outputs": [
    {
     "data": {
      "text/plain": [
       "0.04041323067338279"
      ]
     },
     "execution_count": 59,
     "metadata": {},
     "output_type": "execute_result"
    }
   ],
   "source": [
    "calculate_information_value_from_contingency_table(pd.crosstab(left_data[\"TARGET\"], left_data[\"NB_CREDIT_CLOSED\"]))"
   ]
  },
  {
   "cell_type": "code",
   "execution_count": 60,
   "metadata": {},
   "outputs": [
    {
     "data": {
      "text/plain": [
       "0.04707099842295452"
      ]
     },
     "execution_count": 60,
     "metadata": {},
     "output_type": "execute_result"
    }
   ],
   "source": [
    "calculate_information_value_from_contingency_table(pd.crosstab(left_data[\"TARGET\"], left_data[\"DAYS_CREDIT\"]))"
   ]
  },
  {
   "cell_type": "code",
   "execution_count": 61,
   "metadata": {},
   "outputs": [
    {
     "data": {
      "text/plain": [
       "0.023349492570046263"
      ]
     },
     "execution_count": 61,
     "metadata": {},
     "output_type": "execute_result"
    }
   ],
   "source": [
    "calculate_information_value_from_contingency_table(pd.crosstab(left_data[\"TARGET\"], left_data[\"DAYS_CREDIT_ENDDATE\"]))"
   ]
  },
  {
   "cell_type": "code",
   "execution_count": 62,
   "metadata": {},
   "outputs": [
    {
     "data": {
      "text/plain": [
       "0.004261362181860707"
      ]
     },
     "execution_count": 62,
     "metadata": {},
     "output_type": "execute_result"
    }
   ],
   "source": [
    "calculate_information_value_from_contingency_table(pd.crosstab(left_data[\"TARGET\"], left_data[\"AMT_CREDIT_SUM\"]))"
   ]
  },
  {
   "cell_type": "code",
   "execution_count": 63,
   "metadata": {},
   "outputs": [
    {
     "data": {
      "text/plain": [
       "0.006777156488277911"
      ]
     },
     "execution_count": 63,
     "metadata": {},
     "output_type": "execute_result"
    }
   ],
   "source": [
    "calculate_information_value_from_contingency_table(pd.crosstab(left_data[\"TARGET\"], left_data[\"AMT_ANNUITY\"]))"
   ]
  },
  {
   "cell_type": "code",
   "execution_count": null,
   "metadata": {},
   "outputs": [],
   "source": []
  }
 ],
 "metadata": {
  "kernelspec": {
   "display_name": ".venv_pd",
   "language": "python",
   "name": "python3"
  },
  "language_info": {
   "codemirror_mode": {
    "name": "ipython",
    "version": 3
   },
   "file_extension": ".py",
   "mimetype": "text/x-python",
   "name": "python",
   "nbconvert_exporter": "python",
   "pygments_lexer": "ipython3",
   "version": "3.11.7"
  }
 },
 "nbformat": 4,
 "nbformat_minor": 2
}
