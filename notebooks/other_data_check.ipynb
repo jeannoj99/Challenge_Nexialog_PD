{
 "cells": [
  {
   "cell_type": "code",
   "execution_count": null,
   "metadata": {},
   "outputs": [],
   "source": [
    "import seaborn as sns\n",
    "import matplotlib.pyplot as plt\n",
    "import numpy as np\n",
    "import optbinning as opt\n",
    "%matplotlib inline\n",
    "import pandas as pd\n",
    "from sklearn.impute import SimpleImputer\n",
    "pd.set_option('display.max_rows', 500)\n",
    "pd.set_option('display.max_columns', 500)\n",
    "pd.set_option('display.width', 1000)\n",
    "from sklearn.preprocessing import OneHotEncoder, StandardScaler,KBinsDiscretizer, LabelEncoder\n",
    "from sklearn.impute import SimpleImputer\n",
    "from scipy.stats import mannwhitneyu ,chi2_contingency, anderson, f_oneway\n",
    "import statsmodels.api as sm \n",
    "from sklearn.linear_model import LogisticRegression\n",
    "from sklearn.pipeline import make_pipeline\n",
    "from sklearn.model_selection import train_test_split\n",
    "from sklearn.metrics import classification_report, roc_auc_score, accuracy_score\n",
    "import warnings\n",
    "warnings.filterwarnings(\"ignore\")"
   ]
  },
  {
   "cell_type": "code",
   "execution_count": null,
   "metadata": {},
   "outputs": [],
   "source": [
    "left_data=pd.read_csv(\"../data/application_train_vf.csv\",parse_dates=[\"date_mensuelle\"], index_col=0)"
   ]
  },
  {
   "cell_type": "code",
   "execution_count": null,
   "metadata": {},
   "outputs": [],
   "source": [
    "data=pd.read_csv(\"../data/bureau.csv\") #"
   ]
  },
  {
   "cell_type": "code",
   "execution_count": null,
   "metadata": {},
   "outputs": [],
   "source": [
    "left_data=left_data[[\"SK_ID_CURR\",\"TARGET\"]]"
   ]
  },
  {
   "cell_type": "code",
   "execution_count": null,
   "metadata": {},
   "outputs": [],
   "source": [
    "data"
   ]
  },
  {
   "cell_type": "code",
   "execution_count": null,
   "metadata": {},
   "outputs": [],
   "source": [
    "data.isna().mean()"
   ]
  },
  {
   "cell_type": "code",
   "execution_count": null,
   "metadata": {},
   "outputs": [],
   "source": [
    "data[\"CREDIT_ACTIVE\"].value_counts()"
   ]
  },
  {
   "cell_type": "code",
   "execution_count": null,
   "metadata": {},
   "outputs": [],
   "source": [
    "(data[\"AMT_CREDIT_SUM_DEBT\"] > 0).mean()"
   ]
  },
  {
   "cell_type": "code",
   "execution_count": null,
   "metadata": {},
   "outputs": [],
   "source": [
    "data[\"CREDIT_TYPE\"].value_counts()"
   ]
  },
  {
   "cell_type": "code",
   "execution_count": null,
   "metadata": {},
   "outputs": [],
   "source": [
    "data[\"CREDIT_ACTIVE\"].value_counts()"
   ]
  },
  {
   "cell_type": "code",
   "execution_count": null,
   "metadata": {},
   "outputs": [],
   "source": [
    "sns.kdeplot(data[data[\"CREDIT_ACTIVE\"]==\"Active\"][\"AMT_ANNUITY\"].apply(np.log))\n",
    "plt.show()"
   ]
  },
  {
   "cell_type": "code",
   "execution_count": null,
   "metadata": {},
   "outputs": [],
   "source": [
    "(data[\"AMT_CREDIT_MAX_OVERDUE\"] == 0 ).mean()"
   ]
  },
  {
   "cell_type": "code",
   "execution_count": null,
   "metadata": {},
   "outputs": [],
   "source": [
    "(data[\"CREDIT_DAY_OVERDUE\"] >= 30).mean()"
   ]
  },
  {
   "cell_type": "code",
   "execution_count": null,
   "metadata": {},
   "outputs": [],
   "source": [
    "data_credit_bureau=left_data.merge(data, how='left', on=\"SK_ID_CURR\")"
   ]
  },
  {
   "cell_type": "code",
   "execution_count": null,
   "metadata": {},
   "outputs": [],
   "source": [
    "data_credit_bureau.isna().mean()"
   ]
  },
  {
   "cell_type": "code",
   "execution_count": null,
   "metadata": {},
   "outputs": [],
   "source": [
    "data_credit_bureau[[\"AMT_CREDIT_SUM_DEBT\",\"AMT_CREDIT_SUM\",\"AMT_ANNUITY\"]].fillna(0, inplace=True)"
   ]
  },
  {
   "cell_type": "code",
   "execution_count": null,
   "metadata": {},
   "outputs": [],
   "source": []
  },
  {
   "cell_type": "code",
   "execution_count": null,
   "metadata": {},
   "outputs": [],
   "source": [
    "clients_debts=data_credit_bureau[[\"SK_ID_CURR\", \"AMT_CREDIT_SUM_DEBT\"]].groupby(by=\"SK_ID_CURR\").agg(sum).reset_index()"
   ]
  },
  {
   "cell_type": "code",
   "execution_count": null,
   "metadata": {},
   "outputs": [],
   "source": [
    "clients_all_credits=data_credit_bureau.loc[data_credit_bureau[\"CREDIT_ACTIVE\"]==\"Active\",[\"SK_ID_CURR\",\"AMT_CREDIT_SUM\"]].groupby(by=\"SK_ID_CURR\").sum().reset_index()"
   ]
  },
  {
   "cell_type": "code",
   "execution_count": null,
   "metadata": {},
   "outputs": [],
   "source": [
    "clients_all_annuities=data_credit_bureau.loc[data_credit_bureau[\"CREDIT_ACTIVE\"]==\"Active\",[\"SK_ID_CURR\",\"AMT_ANNUITY\"]].groupby(by=\"SK_ID_CURR\").sum().reset_index()"
   ]
  },
  {
   "cell_type": "code",
   "execution_count": null,
   "metadata": {},
   "outputs": [],
   "source": [
    "clients_credit_actives=data_credit_bureau.loc[data_credit_bureau[\"CREDIT_ACTIVE\"]==\"Active\",[\"SK_ID_CURR\",\"CREDIT_ACTIVE\"]].groupby(by=\"SK_ID_CURR\").count().reset_index()"
   ]
  },
  {
   "cell_type": "code",
   "execution_count": null,
   "metadata": {},
   "outputs": [],
   "source": [
    "clients_credit_closed=data_credit_bureau.loc[data_credit_bureau[\"CREDIT_ACTIVE\"]==\"Closed\",[\"SK_ID_CURR\",\"CREDIT_ACTIVE\"]].groupby(by=\"SK_ID_CURR\").count().reset_index()"
   ]
  },
  {
   "cell_type": "code",
   "execution_count": null,
   "metadata": {},
   "outputs": [],
   "source": [
    "last_credit=data_credit_bureau.loc[data_credit_bureau[\"CREDIT_ACTIVE\"]==\"Active\",[\"SK_ID_CURR\",\"DAYS_CREDIT\"]].groupby(by=\"SK_ID_CURR\").max().reset_index()"
   ]
  },
  {
   "cell_type": "code",
   "execution_count": null,
   "metadata": {},
   "outputs": [],
   "source": [
    "end_date_last_credit=data_credit_bureau.loc[data_credit_bureau[\"CREDIT_ACTIVE\"]==\"Active\",[\"SK_ID_CURR\",\"DAYS_CREDIT_ENDDATE\"]].groupby(by=\"SK_ID_CURR\").max().reset_index()"
   ]
  },
  {
   "cell_type": "code",
   "execution_count": null,
   "metadata": {},
   "outputs": [],
   "source": [
    "clients_credit_actives.rename(columns={\"CREDIT_ACTIVE\":\"NB_CREDIT_ACTIVE\"}, inplace=True)\n",
    "clients_credit_closed.rename(columns={\"CREDIT_ACTIVE\":\"NB_CREDIT_CLOSED\"}, inplace=True)"
   ]
  },
  {
   "cell_type": "code",
   "execution_count": null,
   "metadata": {},
   "outputs": [],
   "source": [
    "left_data=left_data.merge(clients_debts, how=\"left\", on = \"SK_ID_CURR\")"
   ]
  },
  {
   "cell_type": "code",
   "execution_count": null,
   "metadata": {},
   "outputs": [],
   "source": [
    "left_data=left_data.merge(clients_credit_actives, how=\"left\", on = \"SK_ID_CURR\")"
   ]
  },
  {
   "cell_type": "code",
   "execution_count": null,
   "metadata": {},
   "outputs": [],
   "source": [
    "left_data=left_data.merge(clients_credit_closed, how=\"left\", on = \"SK_ID_CURR\")"
   ]
  },
  {
   "cell_type": "code",
   "execution_count": null,
   "metadata": {},
   "outputs": [],
   "source": [
    "left_data=left_data.merge(last_credit, how=\"left\", on =\"SK_ID_CURR\")"
   ]
  },
  {
   "cell_type": "code",
   "execution_count": null,
   "metadata": {},
   "outputs": [],
   "source": [
    "left_data=left_data.merge(end_date_last_credit, how=\"left\", on = \"SK_ID_CURR\")"
   ]
  },
  {
   "cell_type": "code",
   "execution_count": null,
   "metadata": {},
   "outputs": [],
   "source": [
    "left_data=left_data.merge(clients_all_credits, how=\"left\", on=\"SK_ID_CURR\")"
   ]
  },
  {
   "cell_type": "code",
   "execution_count": null,
   "metadata": {},
   "outputs": [],
   "source": [
    "left_data=left_data.merge(clients_all_annuities, how=\"left\", on=\"SK_ID_CURR\")"
   ]
  },
  {
   "cell_type": "code",
   "execution_count": null,
   "metadata": {},
   "outputs": [],
   "source": [
    "left_data[\"DAYS_CREDIT\"]"
   ]
  },
  {
   "cell_type": "code",
   "execution_count": null,
   "metadata": {},
   "outputs": [],
   "source": [
    "left_data[\"NB_CREDIT_ACTIVE\"].fillna(0, inplace=True)\n",
    "left_data[\"NB_CREDIT_CLOSED\"].fillna(0, inplace=True)\n",
    "left_data[\"DAYS_CREDIT\"].fillna(left_data[\"DAYS_CREDIT\"].max(), inplace=True)\n",
    "left_data[\"AMT_CREDIT_SUM_DEBT\"].fillna(0, inplace=True)\n",
    "left_data[\"AMT_CREDIT_SUM\"].fillna(0, inplace=True)"
   ]
  },
  {
   "cell_type": "code",
   "execution_count": null,
   "metadata": {},
   "outputs": [],
   "source": [
    "left_data[\"DAYS_CREDIT_ENDDATE\"].fillna(0, inplace=True)"
   ]
  },
  {
   "cell_type": "code",
   "execution_count": null,
   "metadata": {},
   "outputs": [],
   "source": [
    "left_data[\"AMT_ANNUITY\"].fillna(0, inplace=True)"
   ]
  },
  {
   "cell_type": "code",
   "execution_count": null,
   "metadata": {},
   "outputs": [],
   "source": [
    "left_data.drop(columns=\"TARGET\").add_prefix(\"CB_\").to_csv(\"../data/cb_findings.csv\")"
   ]
  },
  {
   "cell_type": "code",
   "execution_count": null,
   "metadata": {},
   "outputs": [],
   "source": [
    "def cramers_v(confusion_matrix):\n",
    "    chi2 = chi2_contingency(confusion_matrix)[0]\n",
    "    n = confusion_matrix.sum().sum()\n",
    "    phi2 = chi2 / n\n",
    "    r, k = confusion_matrix.shape\n",
    "    phi2corr = max(0, phi2 - ((k-1)*(r-1))/(n-1))\n",
    "    rcorr = r - ((r-1)**2)/(n-1)\n",
    "    kcorr = k - ((k-1)**2)/(n-1)\n",
    "    return np.sqrt(phi2corr / min((kcorr-1), (rcorr-1)))"
   ]
  },
  {
   "cell_type": "code",
   "execution_count": null,
   "metadata": {},
   "outputs": [],
   "source": [
    "def mannwhitney_test(df:pd.DataFrame,variable:str,target:str):\n",
    "    # Séparer les données en deux groupes en fonction de la variable cible\n",
    "    group_1 = df[df[target] == 0]\n",
    "    group_2 = df[df[target] == 1]\n",
    "\n",
    "    stat, p_value = mannwhitneyu(group_1[variable].dropna(), group_2[variable].dropna())\n",
    "    # Afficher les résultats\n",
    "    print(f\"Variable: {variable}\")\n",
    "    print(f\"Mann-Whitney U-statistic: {stat}\")\n",
    "    print(f\"P-value: {p_value}\")\n",
    "    print(10*\"===\")\n",
    "    \n",
    "    pass"
   ]
  },
  {
   "cell_type": "code",
   "execution_count": null,
   "metadata": {},
   "outputs": [],
   "source": [
    "mannwhitney_test(left_data,\"AMT_CREDIT_SUM\",\"TARGET\")"
   ]
  },
  {
   "cell_type": "code",
   "execution_count": null,
   "metadata": {},
   "outputs": [],
   "source": [
    "mannwhitney_test(left_data,\"AMT_CREDIT_SUM_DEBT\",\"TARGET\")"
   ]
  },
  {
   "cell_type": "code",
   "execution_count": null,
   "metadata": {},
   "outputs": [],
   "source": [
    "mannwhitney_test(left_data,\"NB_CREDIT_CLOSED\",\"TARGET\")"
   ]
  },
  {
   "cell_type": "code",
   "execution_count": null,
   "metadata": {},
   "outputs": [],
   "source": [
    "mannwhitney_test(left_data,\"NB_CREDIT_ACTIVE\",\"TARGET\")"
   ]
  },
  {
   "cell_type": "code",
   "execution_count": null,
   "metadata": {},
   "outputs": [],
   "source": [
    "mannwhitney_test(left_data,\"DAYS_CREDIT\",\"TARGET\")"
   ]
  },
  {
   "cell_type": "code",
   "execution_count": null,
   "metadata": {},
   "outputs": [],
   "source": [
    "mannwhitney_test(left_data,\"DAYS_CREDIT_ENDDATE\",\"TARGET\")"
   ]
  },
  {
   "cell_type": "code",
   "execution_count": null,
   "metadata": {},
   "outputs": [],
   "source": [
    "mannwhitney_test(left_data,\"AMT_ANNUITY\",\"TARGET\")"
   ]
  },
  {
   "cell_type": "code",
   "execution_count": null,
   "metadata": {},
   "outputs": [],
   "source": [
    "import numpy as np\n",
    "import pandas as pd\n",
    "from sklearn.tree import DecisionTreeClassifier\n",
    "from sklearn.metrics import roc_auc_score\n",
    "\n",
    "class DecisionTreeDiscretizer:\n",
    "    def __init__(self, max_bins=5, target=None):\n",
    "        self.tree_max_bins = max_bins\n",
    "        self.clf = DecisionTreeClassifier(criterion=\"gini\", max_depth=int(round(self.tree_max_bins/2,0)),\n",
    "                                          min_samples_split=0.05,\n",
    "                                           min_samples_leaf=0.05) #\n",
    "        self.target = target\n",
    "\n",
    "    def fit(self, X_train):\n",
    "        # Entraîner le modèle sur les données d'entraînement\n",
    "        self.clf.fit(X_train.values.reshape(-1, 1), self.target)\n",
    "\n",
    "    def _get_tree_thresholds(self):\n",
    "        thresholds = set()\n",
    "        for node in range(self.clf.tree_.node_count):\n",
    "            if self.clf.tree_.children_left[node] != self.clf.tree_.children_right[node]:  # non-leaf node\n",
    "                feature = self.clf.tree_.feature[node]\n",
    "                threshold = self.clf.tree_.threshold[node]\n",
    "                thresholds.add(threshold)\n",
    "        return np.array(list(thresholds))\n",
    "\n",
    "    def get_thresholds(self):\n",
    "        if hasattr(self.clf, 'tree_') and self.clf.tree_ is not None:\n",
    "            thresholds_np = self._get_tree_thresholds()\n",
    "            thresholds = [-np.inf] + sorted(list(set(list(thresholds_np)))) + [np.inf]\n",
    "            return thresholds\n",
    "        else:\n",
    "            raise ValueError(\"Le classifieur n'est pas entraîné. Utilisez la méthode fit avant d'obtenir les seuils.\")\n",
    "\n",
    "    def transform(self, X):\n",
    "        # Vérifier si le modèle est entraîné\n",
    "        if not hasattr(self.clf, 'tree_') or self.clf.tree_ is None:\n",
    "            raise ValueError(\"Le classifieur n'est pas entraîné. Utilisez la méthode fit avant de transformer les données de test.\")\n",
    "\n",
    "        thresholds = self.get_thresholds()\n",
    "\n",
    "        # Utiliser pd.cut pour obtenir les intervalles au lieu des numéros\n",
    "        intervals = pd.cut(X.values.flatten(), bins=thresholds, include_lowest=True, right=True)\n",
    "        return intervals\n",
    "\n"
   ]
  },
  {
   "cell_type": "code",
   "execution_count": null,
   "metadata": {},
   "outputs": [],
   "source": [
    "discretizer=DecisionTreeDiscretizer(target=left_data[\"TARGET\"])"
   ]
  },
  {
   "cell_type": "code",
   "execution_count": null,
   "metadata": {},
   "outputs": [],
   "source": [
    "discretizer.fit(left_data[\"AMT_CREDIT_SUM_DEBT\"])\n",
    "left_data[\"AMT_CREDIT_SUM_DEBT\"]=discretizer.transform(left_data[\"AMT_CREDIT_SUM_DEBT\"])"
   ]
  },
  {
   "cell_type": "code",
   "execution_count": null,
   "metadata": {},
   "outputs": [],
   "source": [
    "discretizer.fit(left_data[\"NB_CREDIT_CLOSED\"])\n",
    "left_data[\"NB_CREDIT_CLOSED\"]=discretizer.transform(left_data[\"NB_CREDIT_CLOSED\"])"
   ]
  },
  {
   "cell_type": "code",
   "execution_count": null,
   "metadata": {},
   "outputs": [],
   "source": [
    "discretizer.fit(left_data[\"NB_CREDIT_ACTIVE\"])\n",
    "left_data[\"NB_CREDIT_ACTIVE\"]=discretizer.transform(left_data[\"NB_CREDIT_ACTIVE\"])"
   ]
  },
  {
   "cell_type": "code",
   "execution_count": null,
   "metadata": {},
   "outputs": [],
   "source": [
    "discretizer.fit(left_data[\"DAYS_CREDIT\"])\n",
    "left_data[\"DAYS_CREDIT\"]=discretizer.transform(left_data[\"DAYS_CREDIT\"])"
   ]
  },
  {
   "cell_type": "code",
   "execution_count": null,
   "metadata": {},
   "outputs": [],
   "source": [
    "discretizer.fit(left_data[\"DAYS_CREDIT_ENDDATE\"])\n",
    "left_data[\"DAYS_CREDIT_ENDDATE\"]=discretizer.transform(left_data[\"DAYS_CREDIT_ENDDATE\"])"
   ]
  },
  {
   "cell_type": "code",
   "execution_count": null,
   "metadata": {},
   "outputs": [],
   "source": [
    "discretizer.fit(left_data[\"AMT_CREDIT_SUM\"])\n",
    "left_data[\"AMT_CREDIT_SUM\"]=discretizer.transform(left_data[\"AMT_CREDIT_SUM\"])"
   ]
  },
  {
   "cell_type": "code",
   "execution_count": null,
   "metadata": {},
   "outputs": [],
   "source": [
    "discretizer.fit(left_data[\"AMT_ANNUITY\"])\n",
    "left_data[\"AMT_ANNUITY\"]=discretizer.transform(left_data[\"AMT_ANNUITY\"])"
   ]
  },
  {
   "cell_type": "code",
   "execution_count": null,
   "metadata": {},
   "outputs": [],
   "source": [
    "pd.crosstab(left_data[\"TARGET\"], left_data[\"NB_CREDIT_ACTIVE\"])"
   ]
  },
  {
   "cell_type": "code",
   "execution_count": null,
   "metadata": {},
   "outputs": [],
   "source": [
    "def calculate_information_value_from_contingency_table(contingency_table):\n",
    "    \"\"\"\n",
    "    Calculer l'Information Value à partir d'une table de contingence.\n",
    "    \n",
    "    Args:\n",
    "        contingency_table (pd.DataFrame): La table de contingence entre la variable et la target.\n",
    "        \n",
    "    Returns:\n",
    "        float: L'Information Value calculé.\n",
    "    \"\"\"\n",
    "    non_event_rate=contingency_table.iloc[0]/(contingency_table.iloc[0].sum())\n",
    "    event_rate=contingency_table.iloc[1]/(contingency_table.iloc[1].sum())\n",
    "    iv=0\n",
    "    if (non_event_rate.min() > 0) & (event_rate.mean() >0) :\n",
    "        for col in non_event_rate.index:\n",
    "            iv += (event_rate[col] - non_event_rate[col])*np.log(event_rate[col] / non_event_rate[col])\n",
    "\n",
    "    return iv"
   ]
  },
  {
   "cell_type": "code",
   "execution_count": null,
   "metadata": {},
   "outputs": [],
   "source": [
    "calculate_information_value_from_contingency_table(pd.crosstab(left_data[\"TARGET\"], left_data[\"AMT_CREDIT_SUM_DEBT\"]))"
   ]
  },
  {
   "cell_type": "code",
   "execution_count": null,
   "metadata": {},
   "outputs": [],
   "source": [
    "calculate_information_value_from_contingency_table(pd.crosstab(left_data[\"TARGET\"], left_data[\"NB_CREDIT_ACTIVE\"]))"
   ]
  },
  {
   "cell_type": "code",
   "execution_count": null,
   "metadata": {},
   "outputs": [],
   "source": [
    "calculate_information_value_from_contingency_table(pd.crosstab(left_data[\"TARGET\"], left_data[\"NB_CREDIT_CLOSED\"]))"
   ]
  },
  {
   "cell_type": "code",
   "execution_count": null,
   "metadata": {},
   "outputs": [],
   "source": [
    "calculate_information_value_from_contingency_table(pd.crosstab(left_data[\"TARGET\"], left_data[\"DAYS_CREDIT\"]))"
   ]
  },
  {
   "cell_type": "code",
   "execution_count": null,
   "metadata": {},
   "outputs": [],
   "source": [
    "calculate_information_value_from_contingency_table(pd.crosstab(left_data[\"TARGET\"], left_data[\"DAYS_CREDIT_ENDDATE\"]))"
   ]
  },
  {
   "cell_type": "code",
   "execution_count": null,
   "metadata": {},
   "outputs": [],
   "source": [
    "calculate_information_value_from_contingency_table(pd.crosstab(left_data[\"TARGET\"], left_data[\"AMT_CREDIT_SUM\"]))"
   ]
  },
  {
   "cell_type": "code",
   "execution_count": null,
   "metadata": {},
   "outputs": [],
   "source": [
    "calculate_information_value_from_contingency_table(pd.crosstab(left_data[\"TARGET\"], left_data[\"AMT_ANNUITY\"]))"
   ]
  },
  {
   "cell_type": "code",
   "execution_count": null,
   "metadata": {},
   "outputs": [],
   "source": []
  }
 ],
 "metadata": {
  "kernelspec": {
   "display_name": ".venv_pd",
   "language": "python",
   "name": "python3"
  },
  "language_info": {
   "codemirror_mode": {
    "name": "ipython",
    "version": 3
   },
   "file_extension": ".py",
   "mimetype": "text/x-python",
   "name": "python",
   "nbconvert_exporter": "python",
   "pygments_lexer": "ipython3",
   "version": "3.11.7"
  }
 },
 "nbformat": 4,
 "nbformat_minor": 2
}
