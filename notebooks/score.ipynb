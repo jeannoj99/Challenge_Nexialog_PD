{
 "cells": [
  {
   "cell_type": "code",
   "execution_count": 5,
   "metadata": {},
   "outputs": [],
   "source": [
    "import pandas as pd\n",
    "import numpy as np\n",
    "import statsmodels.api as sm\n",
    "\n",
    "class PdScorer:\n",
    "    def __init__(self, fitted_model):\n",
    "        self.model = fitted_model\n",
    "        self.grid_scores = self.create_grid_scores()\n",
    "\n",
    "    def create_grid_scores(self):\n",
    "        # Extraction des coefficients estimés du modèle\n",
    "        coefficients = self.model.params\n",
    "\n",
    "        # Normalisation des coefficients pour les rendre comparables\n",
    "        normalized_coefficients = (coefficients - coefficients.min()) / (coefficients.max() - coefficients.min())\n",
    "\n",
    "        # Création d'une grille de score sur mille basée sur les coefficients normalisés\n",
    "        grid_scores = np.round(normalized_coefficients * 1000).astype(int)\n",
    "\n",
    "        return grid_scores\n",
    "\n",
    "    def get_grid_scores(self):\n",
    "        return self.grid_scores\n",
    "\n",
    "    def transform(self, data, target_col):\n",
    "        # Ajoute une colonne constante pour intercept dans data\n",
    "\n",
    "        # Extraction de la variable cible (target)\n",
    "        y = data[target_col]\n",
    "\n",
    "        # Suppression de la variable cible du DataFrame\n",
    "        data = data.drop(columns=[target_col])\n",
    "\n",
    "        # Calcul des scores normalisés sur mille en utilisant les coefficients normalisés\n",
    "        normalized_scores = np.dot(data, self.grid_scores[1:]) + self.grid_scores[0]\n",
    "\n",
    "        # Transformation des scores normalisés en scores sur 1000\n",
    "        scores_on_thousand = np.round((normalized_scores - normalized_scores.min()) / (normalized_scores.max() - normalized_scores.min()) * 1000).astype(int)\n",
    "\n",
    "        return scores_on_thousand\n",
    "\n"
   ]
  },
  {
   "cell_type": "code",
   "execution_count": 6,
   "metadata": {},
   "outputs": [],
   "source": [
    "# Exemple d'utilisation\n",
    "# Génération de données d'exemple (remplacez X et y par vos propres données)\n",
    "np.random.seed(42)\n",
    "data1 = pd.DataFrame({\n",
    "    'Category1': np.random.choice(['A', 'B', 'C'], size=100),\n",
    "    'Category2': np.random.choice(['X', 'Y', 'Z'], size=100),\n",
    "    'Variable1': np.random.rand(100),\n",
    "    'Variable2': np.random.rand(100),\n",
    "    'Target': np.random.choice([0, 1], size=100),\n",
    "})\n",
    "\n",
    "data2 = pd.DataFrame({\n",
    "    'Category1': np.random.choice(['A', 'B', 'C'], size=50),\n",
    "    'Category2': np.random.choice(['X', 'Y', 'Z'], size=50),\n",
    "    'Variable1': np.random.rand(50),\n",
    "    'Variable2': np.random.rand(50),\n",
    "    'Target': np.random.choice([0, 1], size=50),\n",
    "})\n",
    "\n",
    "# Spécification de la formule pour le modèle logistique\n",
    "formula = 'Target ~ Category1 + Category2 + Variable1 + Variable2'\n",
    "\n",
    "# Estimation du modèle de régression logistique avec statsmodels\n",
    "logit_model = sm.Logit.from_formula(formula, data1)\n",
    "fitted_model = logit_model.fit(disp=False)"
   ]
  },
  {
   "cell_type": "code",
   "execution_count": 7,
   "metadata": {},
   "outputs": [
    {
     "name": "stdout",
     "output_type": "stream",
     "text": [
      "                           Logit Regression Results                           \n",
      "==============================================================================\n",
      "Dep. Variable:                 Target   No. Observations:                  100\n",
      "Model:                          Logit   Df Residuals:                       93\n",
      "Method:                           MLE   Df Model:                            6\n",
      "Date:                Sun, 18 Feb 2024   Pseudo R-squ.:                 0.04872\n",
      "Time:                        23:56:33   Log-Likelihood:                -65.633\n",
      "converged:                       True   LL-Null:                       -68.994\n",
      "Covariance Type:            nonrobust   LLR p-value:                    0.3472\n",
      "==================================================================================\n",
      "                     coef    std err          z      P>|z|      [0.025      0.975]\n",
      "----------------------------------------------------------------------------------\n",
      "Intercept          0.9446      0.670      1.410      0.159      -0.369       2.258\n",
      "Category1[T.B]    -0.2421      0.505     -0.479      0.632      -1.232       0.748\n",
      "Category1[T.C]     0.4621      0.528      0.875      0.381      -0.573       1.497\n",
      "Category2[T.Y]    -0.1554      0.564     -0.276      0.783      -1.261       0.950\n",
      "Category2[T.Z]    -0.6957      0.496     -1.402      0.161      -1.668       0.277\n",
      "Variable1         -0.9944      0.793     -1.253      0.210      -2.549       0.561\n",
      "Variable2          0.1065      0.710      0.150      0.881      -1.285       1.498\n",
      "==================================================================================\n"
     ]
    }
   ],
   "source": [
    "print(fitted_model.summary())"
   ]
  },
  {
   "cell_type": "code",
   "execution_count": 8,
   "metadata": {},
   "outputs": [
    {
     "name": "stdout",
     "output_type": "stream",
     "text": [
      "Grille de score sur mille:\n",
      "Intercept         1000\n",
      "Category1[T.B]     388\n",
      "Category1[T.C]     751\n",
      "Category2[T.Y]     433\n",
      "Category2[T.Z]     154\n",
      "Variable1            0\n",
      "Variable2          568\n",
      "dtype: int32\n"
     ]
    },
    {
     "ename": "ValueError",
     "evalue": "shapes (100,5) and (6,) not aligned: 5 (dim 1) != 6 (dim 0)",
     "output_type": "error",
     "traceback": [
      "\u001b[1;31m---------------------------------------------------------------------------\u001b[0m",
      "\u001b[1;31mValueError\u001b[0m                                Traceback (most recent call last)",
      "Cell \u001b[1;32mIn[8], line 11\u001b[0m\n\u001b[0;32m      7\u001b[0m \u001b[38;5;28mprint\u001b[39m(grid_scores)\n\u001b[0;32m      9\u001b[0m \u001b[38;5;66;03m# Utilisation de la méthode transform pour obtenir les scores sur 1000 pour data1\u001b[39;00m\n\u001b[0;32m     10\u001b[0m \u001b[38;5;66;03m# Assurez-vous que les noms de colonnes dans 'data1' correspondent à ceux utilisés dans le modèle\u001b[39;00m\n\u001b[1;32m---> 11\u001b[0m scores_data1 \u001b[38;5;241m=\u001b[39m \u001b[43mpd_scorer\u001b[49m\u001b[38;5;241;43m.\u001b[39;49m\u001b[43mtransform\u001b[49m\u001b[43m(\u001b[49m\u001b[43mdata1\u001b[49m\u001b[43m,\u001b[49m\u001b[43m \u001b[49m\u001b[38;5;124;43m'\u001b[39;49m\u001b[38;5;124;43mTarget\u001b[39;49m\u001b[38;5;124;43m'\u001b[39;49m\u001b[43m)\u001b[49m\n\u001b[0;32m     12\u001b[0m \u001b[38;5;66;03m# Affichage des 10 premiers scores pour data1\u001b[39;00m\n\u001b[0;32m     13\u001b[0m \u001b[38;5;28mprint\u001b[39m(\u001b[38;5;124m\"\u001b[39m\u001b[38;5;130;01m\\n\u001b[39;00m\u001b[38;5;124mScores sur 1000 pour les 10 premières lignes de data1:\u001b[39m\u001b[38;5;124m\"\u001b[39m)\n",
      "Cell \u001b[1;32mIn[5], line 36\u001b[0m, in \u001b[0;36mPdScorer.transform\u001b[1;34m(self, data, target_col)\u001b[0m\n\u001b[0;32m     33\u001b[0m data \u001b[38;5;241m=\u001b[39m data\u001b[38;5;241m.\u001b[39mdrop(columns\u001b[38;5;241m=\u001b[39m[target_col])\n\u001b[0;32m     35\u001b[0m \u001b[38;5;66;03m# Calcul des scores normalisés sur mille en utilisant les coefficients normalisés\u001b[39;00m\n\u001b[1;32m---> 36\u001b[0m normalized_scores \u001b[38;5;241m=\u001b[39m \u001b[43mnp\u001b[49m\u001b[38;5;241;43m.\u001b[39;49m\u001b[43mdot\u001b[49m\u001b[43m(\u001b[49m\u001b[43mdata\u001b[49m\u001b[43m,\u001b[49m\u001b[43m \u001b[49m\u001b[38;5;28;43mself\u001b[39;49m\u001b[38;5;241;43m.\u001b[39;49m\u001b[43mgrid_scores\u001b[49m\u001b[43m[\u001b[49m\u001b[38;5;241;43m1\u001b[39;49m\u001b[43m:\u001b[49m\u001b[43m]\u001b[49m\u001b[43m)\u001b[49m \u001b[38;5;241m+\u001b[39m \u001b[38;5;28mself\u001b[39m\u001b[38;5;241m.\u001b[39mgrid_scores[\u001b[38;5;241m0\u001b[39m]\n\u001b[0;32m     38\u001b[0m \u001b[38;5;66;03m# Transformation des scores normalisés en scores sur 1000\u001b[39;00m\n\u001b[0;32m     39\u001b[0m scores_on_thousand \u001b[38;5;241m=\u001b[39m np\u001b[38;5;241m.\u001b[39mround((normalized_scores \u001b[38;5;241m-\u001b[39m normalized_scores\u001b[38;5;241m.\u001b[39mmin()) \u001b[38;5;241m/\u001b[39m (normalized_scores\u001b[38;5;241m.\u001b[39mmax() \u001b[38;5;241m-\u001b[39m normalized_scores\u001b[38;5;241m.\u001b[39mmin()) \u001b[38;5;241m*\u001b[39m \u001b[38;5;241m1000\u001b[39m)\u001b[38;5;241m.\u001b[39mastype(\u001b[38;5;28mint\u001b[39m)\n",
      "\u001b[1;31mValueError\u001b[0m: shapes (100,5) and (6,) not aligned: 5 (dim 1) != 6 (dim 0)"
     ]
    }
   ],
   "source": [
    "# Instanciation de la classe PdScorer avec le modèle ajusté\n",
    "pd_scorer = PdScorer(fitted_model)\n",
    "\n",
    "# Utilisation de la méthode get_grid_scores pour obtenir la grille de score\n",
    "grid_scores = pd_scorer.get_grid_scores()\n",
    "print(\"Grille de score sur mille:\")\n",
    "print(grid_scores)\n",
    "\n",
    "# Utilisation de la méthode transform pour obtenir les scores sur 1000 pour data1\n",
    "# Assurez-vous que les noms de colonnes dans 'data1' correspondent à ceux utilisés dans le modèle\n",
    "scores_data1 = pd_scorer.transform(data1, 'Target')\n",
    "# Affichage des 10 premiers scores pour data1\n",
    "print(\"\\nScores sur 1000 pour les 10 premières lignes de data1:\")\n",
    "print(scores_data1[:10])\n",
    "\n",
    "# Utilisation de la méthode transform pour obtenir les scores sur 1000 pour data2\n",
    "# Assurez-vous que les noms de colonnes dans 'data2' correspondent à ceux utilisés dans le modèle\n",
    "scores_data2 = pd_scorer.transform(data2, 'Target')\n",
    "# Affichage des 10 premiers scores pour data2\n",
    "print(\"\\nScores sur 1000 pour les 10 premières lignes de data2:\")\n",
    "print(scores_data2[:10])"
   ]
  },
  {
   "cell_type": "code",
   "execution_count": null,
   "metadata": {},
   "outputs": [],
   "source": []
  }
 ],
 "metadata": {
  "kernelspec": {
   "display_name": ".venv_pd",
   "language": "python",
   "name": "python3"
  },
  "language_info": {
   "codemirror_mode": {
    "name": "ipython",
    "version": 3
   },
   "file_extension": ".py",
   "mimetype": "text/x-python",
   "name": "python",
   "nbconvert_exporter": "python",
   "pygments_lexer": "ipython3",
   "version": "3.11.7"
  }
 },
 "nbformat": 4,
 "nbformat_minor": 2
}
