{
 "cells": [
  {
   "cell_type": "code",
   "execution_count": 1,
   "metadata": {},
   "outputs": [],
   "source": [
    "import numpy as np\n",
    "import pandas as pd\n",
    "\n",
    "# Fixer la graine aléatoire pour la reproductibilité\n",
    "np.random.seed(42)"
   ]
  },
  {
   "cell_type": "code",
   "execution_count": 2,
   "metadata": {},
   "outputs": [],
   "source": [
    "nb_obs=1000"
   ]
  },
  {
   "cell_type": "code",
   "execution_count": 3,
   "metadata": {},
   "outputs": [],
   "source": [
    "data={\n",
    "    \"ID\":[j for j in range(1,nb_obs+1)],\n",
    "    \"TARGET\":np.random.choice([0,1], size=nb_obs),\n",
    "    \"segment\":np.random.choice(7, size=nb_obs)\n",
    "}"
   ]
  },
  {
   "cell_type": "code",
   "execution_count": 4,
   "metadata": {},
   "outputs": [],
   "source": [
    "df=pd.DataFrame(data)"
   ]
  },
  {
   "cell_type": "code",
   "execution_count": 5,
   "metadata": {},
   "outputs": [
    {
     "data": {
      "text/plain": [
       "segment\n",
       "0    150\n",
       "5    149\n",
       "6    149\n",
       "4    146\n",
       "2    146\n",
       "1    145\n",
       "3    115\n",
       "Name: count, dtype: int64"
      ]
     },
     "execution_count": 5,
     "metadata": {},
     "output_type": "execute_result"
    }
   ],
   "source": [
    "df[\"segment\"].value_counts()"
   ]
  },
  {
   "cell_type": "markdown",
   "metadata": {},
   "source": [
    "#### MoC C"
   ]
  },
  {
   "cell_type": "code",
   "execution_count": 6,
   "metadata": {},
   "outputs": [
    {
     "name": "stdout",
     "output_type": "stream",
     "text": [
      "   Size  Segment  Percentile_90  Mean_Rate    MoC_C\n",
      "0   150        0       0.546667   0.494587  0.05208\n",
      "   Size  Segment  Percentile_90  Mean_Rate     MoC_C\n",
      "0   145        1       0.572414   0.518372  0.054041\n",
      "   Size  Segment  Percentile_90  Mean_Rate     MoC_C\n",
      "0   146        2        0.59589   0.541966  0.053925\n",
      "   Size  Segment  Percentile_90  Mean_Rate     MoC_C\n",
      "0   115        3       0.556522   0.494974  0.061548\n",
      "   Size  Segment  Percentile_90  Mean_Rate     MoC_C\n",
      "0   146        4       0.534247    0.48489  0.049356\n",
      "   Size  Segment  Percentile_90  Mean_Rate     MoC_C\n",
      "0   149        5       0.530201   0.476396  0.053805\n",
      "   Size  Segment  Percentile_90  Mean_Rate     MoC_C\n",
      "0   149        6       0.610738   0.559107  0.051631\n"
     ]
    }
   ],
   "source": [
    "# Nombre d'échantillons bootstrap par segment\n",
    "num_bootstrap_samples = 1000\n",
    "moc_segment={}\n",
    "# Fonction pour calculer le taux de 1 dans un échantillon bootstrap\n",
    "def calculate_rate_of_ones(sample):\n",
    "    return np.mean(sample)\n",
    "\n",
    "# Boucle pour chaque segment\n",
    "for segment in range(7):\n",
    "    # Générer des échantillons bootstrap\n",
    "    sample_size=df[df[\"segment\"]==segment].shape[0]\n",
    "    list_ids=df[df[\"segment\"]==segment][\"ID\"].values\n",
    "    # bootstrap_samples = [np.random.choice([0, 1], size=sample_size, replace=True) for _ in range(num_bootstrap_samples)]\n",
    "    bootstrap_samples = [np.array([df.loc[df[\"ID\"].isin(list(np.random.choice(list_ids,size=1))),\"TARGET\"].values for j in range(sample_size)]).flatten() for _ in range(num_bootstrap_samples)]\n",
    "    \n",
    "    # Calculer le taux de 1 pour chaque échantillon bootstrap\n",
    "    rates_of_ones = [calculate_rate_of_ones(sample) for sample in bootstrap_samples]\n",
    "    \n",
    "    # Calculer le 90e centile et la moyenne\n",
    "    percentile_90 = np.percentile(rates_of_ones, 90)\n",
    "    mean_rate = np.mean(rates_of_ones)\n",
    "    moc=percentile_90 - mean_rate\n",
    "    moc_segment[segment]=moc\n",
    "    # Créer un DataFrame temporaire pour le segment actuel\n",
    "    temp_df = pd.DataFrame({\n",
    "        'Size':[sample_size],\n",
    "        'Segment': [segment],\n",
    "        'Percentile_90': [percentile_90],\n",
    "        'Mean_Rate': [mean_rate],\n",
    "        \"MoC_C\": [moc]\n",
    "    })\n",
    "    \n",
    "    print(temp_df)"
   ]
  },
  {
   "cell_type": "code",
   "execution_count": 8,
   "metadata": {},
   "outputs": [
    {
     "data": {
      "text/plain": [
       "{0: 0.05208000000000007,\n",
       " 1: 0.05404137931034492,\n",
       " 2: 0.05392465753424669,\n",
       " 3: 0.06154782608695658,\n",
       " 4: 0.04935616438356166,\n",
       " 5: 0.05380536912751677,\n",
       " 6: 0.0516308724832214}"
      ]
     },
     "execution_count": 8,
     "metadata": {},
     "output_type": "execute_result"
    }
   ],
   "source": [
    "moc_segment"
   ]
  },
  {
   "cell_type": "code",
   "execution_count": 13,
   "metadata": {},
   "outputs": [
    {
     "name": "stdout",
     "output_type": "stream",
     "text": [
      "   Size  Segment  Percentile_90  Mean_Rate   MoC_C\n",
      "0   150        0       0.546667   0.493867  0.0528\n",
      "   Size  Segment  Percentile_90  Mean_Rate     MoC_C\n",
      "0   145        1       0.572414   0.519338  0.053076\n",
      "   Size  Segment  Percentile_90  Mean_Rate     MoC_C\n",
      "0   146        2        0.59589   0.542555  0.053336\n",
      "   Size  Segment  Percentile_90  Mean_Rate     MoC_C\n",
      "0   115        3       0.547826   0.495122  0.052704\n",
      "   Size  Segment  Percentile_90  Mean_Rate     MoC_C\n",
      "0   146        4       0.541096   0.486384  0.054712\n",
      "   Size  Segment  Percentile_90  Mean_Rate     MoC_C\n",
      "0   149        5       0.530201   0.476993  0.053208\n",
      "   Size  Segment  Percentile_90  Mean_Rate     MoC_C\n",
      "0   149        6       0.610738   0.556899  0.053839\n"
     ]
    }
   ],
   "source": [
    "# Nombre d'échantillons bootstrap par segment\n",
    "num_bootstrap_samples = 1000\n",
    "moc_segment={}\n",
    "# Fonction pour calculer le taux de 1 dans un échantillon bootstrap\n",
    "def calculate_rate_of_ones(sample):\n",
    "    return np.mean(sample)\n",
    "\n",
    "# Boucle pour chaque segment\n",
    "for segment in range(7):\n",
    "    # Générer des échantillons bootstrap\n",
    "    sample_size=df[df[\"segment\"]==segment].shape[0]\n",
    "    list_ids=df[df[\"segment\"]==segment][\"ID\"].values\n",
    "    # bootstrap_samples = [np.random.choice([0, 1], size=sample_size, replace=True) for _ in range(num_bootstrap_samples)]\n",
    "    bootstrap_samples = [df[df[\"segment\"]==segment].sample(frac=1, replace=True)[\"TARGET\"].values for _ in range(num_bootstrap_samples)]\n",
    "    \n",
    "    # Calculer le taux de 1 pour chaque échantillon bootstrap\n",
    "    rates_of_ones = [calculate_rate_of_ones(sample) for sample in bootstrap_samples]\n",
    "    \n",
    "    # Calculer le 90e centile et la moyenne\n",
    "    percentile_90 = np.percentile(rates_of_ones, 90)\n",
    "    mean_rate = np.mean(rates_of_ones)\n",
    "    moc=percentile_90 - mean_rate\n",
    "    moc_segment[segment]=moc\n",
    "    # Créer un DataFrame temporaire pour le segment actuel\n",
    "    temp_df = pd.DataFrame({\n",
    "        'Size':[sample_size],\n",
    "        'Segment': [segment],\n",
    "        'Percentile_90': [percentile_90],\n",
    "        'Mean_Rate': [mean_rate],\n",
    "        \"MoC_C\": [moc]\n",
    "    })\n",
    "    \n",
    "    print(temp_df)"
   ]
  },
  {
   "cell_type": "markdown",
   "metadata": {},
   "source": [
    "#### MoC A"
   ]
  },
  {
   "cell_type": "code",
   "execution_count": null,
   "metadata": {},
   "outputs": [],
   "source": [
    "import numpy as np\n",
    "from pymoo.core.problem import Problem\n",
    "from pymoo.algorithms.moo.nsga2 import NSGA2\n",
    "from pymoo.optimize import minimize\n",
    "from sklearn.cluster import KMeans\n",
    "\n",
    "class SegmentationProblem(Problem):\n",
    "    def __init__(self, n_segments, data):\n",
    "        super().__init__(n_var=n_segments - 1, n_obj=2, n_constr=0, xl=np.array([0]), xu=np.array([1000]))\n",
    "        self.data = data\n",
    "        self.n_segments = n_segments\n",
    "\n",
    "    def _evaluate(self, x, out, *args, **kwargs):\n",
    "        kmeans = KMeans(n_clusters=self.n_segments, random_state=42).fit(self.data.reshape(-1, 1))\n",
    "        labels = kmeans.labels_\n",
    "        centroids = kmeans.cluster_centers_\n",
    "\n",
    "        intra_variance = 0\n",
    "        for i in range(self.n_segments):\n",
    "            cluster_data = self.data[labels == i]\n",
    "            if len(cluster_data) > 0:\n",
    "                intra_variance += np.sum((cluster_data - centroids[i])**2)\n",
    "\n",
    "        inter_variance = np.sum((centroids - np.mean(self.data))**2)\n",
    "\n",
    "        # Nous répétons les valeurs des objectifs pour chaque individu dans la population\n",
    "        out[\"F\"] = np.array([[-intra_variance, inter_variance]] * x.shape[0])\n",
    "\n",
    "# Données de test (distribution de notes entières)\n",
    "np.random.seed(42)\n",
    "data = np.random.randint(0, 1001, size=1000)\n",
    "\n",
    "# Nombre de segments désirés\n",
    "n_segments = 7\n",
    "\n",
    "# Définir et résoudre le problème\n",
    "problem = SegmentationProblem(n_segments, data)\n",
    "algorithm = NSGA2(pop_size=100)\n",
    "res = minimize(problem, algorithm, ('n_gen', 100), seed=42)\n",
    "\n",
    "# Affichage des résultats\n",
    "best_solution = res.X[np.argmin(res.F[:, 0])]\n",
    "print(\"Seuils de segmentation optimaux :\", best_solution)\n"
   ]
  }
 ],
 "metadata": {
  "kernelspec": {
   "display_name": ".venv_pd",
   "language": "python",
   "name": "python3"
  },
  "language_info": {
   "codemirror_mode": {
    "name": "ipython",
    "version": 3
   },
   "file_extension": ".py",
   "mimetype": "text/x-python",
   "name": "python",
   "nbconvert_exporter": "python",
   "pygments_lexer": "ipython3",
   "version": "3.11.7"
  }
 },
 "nbformat": 4,
 "nbformat_minor": 2
}
