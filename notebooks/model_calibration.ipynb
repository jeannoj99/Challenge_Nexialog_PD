{
 "cells": [
  {
   "cell_type": "code",
   "execution_count": 1,
   "metadata": {},
   "outputs": [],
   "source": [
    "import numpy as np\n",
    "import pandas as pd\n",
    "\n",
    "# Fixer la graine aléatoire pour la reproductibilité\n",
    "np.random.seed(42)"
   ]
  },
  {
   "cell_type": "code",
   "execution_count": 2,
   "metadata": {},
   "outputs": [],
   "source": [
    "nb_obs=1000"
   ]
  },
  {
   "cell_type": "code",
   "execution_count": 3,
   "metadata": {},
   "outputs": [],
   "source": [
    "data={\n",
    "    \"ID\":[j for j in range(1,nb_obs+1)],\n",
    "    \"TARGET\":np.random.choice([0,1], size=nb_obs),\n",
    "    \"segment\":np.random.choice(7, size=nb_obs)\n",
    "}"
   ]
  },
  {
   "cell_type": "code",
   "execution_count": 4,
   "metadata": {},
   "outputs": [],
   "source": [
    "df=pd.DataFrame(data)"
   ]
  },
  {
   "cell_type": "code",
   "execution_count": 5,
   "metadata": {},
   "outputs": [
    {
     "data": {
      "text/plain": [
       "segment\n",
       "0    150\n",
       "5    149\n",
       "6    149\n",
       "4    146\n",
       "2    146\n",
       "1    145\n",
       "3    115\n",
       "Name: count, dtype: int64"
      ]
     },
     "execution_count": 5,
     "metadata": {},
     "output_type": "execute_result"
    }
   ],
   "source": [
    "df[\"segment\"].value_counts()"
   ]
  },
  {
   "cell_type": "markdown",
   "metadata": {},
   "source": [
    "#### MoC C"
   ]
  },
  {
   "cell_type": "code",
   "execution_count": 6,
   "metadata": {},
   "outputs": [
    {
     "name": "stdout",
     "output_type": "stream",
     "text": [
      "   Size  Segment  Percentile_90  Mean_Rate    MoC_C\n",
      "0   150        0       0.546667   0.494587  0.05208\n",
      "   Size  Segment  Percentile_90  Mean_Rate     MoC_C\n",
      "0   145        1       0.572414   0.518372  0.054041\n",
      "   Size  Segment  Percentile_90  Mean_Rate     MoC_C\n",
      "0   146        2        0.59589   0.541966  0.053925\n",
      "   Size  Segment  Percentile_90  Mean_Rate     MoC_C\n",
      "0   115        3       0.556522   0.494974  0.061548\n",
      "   Size  Segment  Percentile_90  Mean_Rate     MoC_C\n",
      "0   146        4       0.534247    0.48489  0.049356\n",
      "   Size  Segment  Percentile_90  Mean_Rate     MoC_C\n",
      "0   149        5       0.530201   0.476396  0.053805\n",
      "   Size  Segment  Percentile_90  Mean_Rate     MoC_C\n",
      "0   149        6       0.610738   0.559107  0.051631\n"
     ]
    }
   ],
   "source": [
    "# Nombre d'échantillons bootstrap par segment\n",
    "num_bootstrap_samples = 1000\n",
    "moc_segment={}\n",
    "# Fonction pour calculer le taux de 1 dans un échantillon bootstrap\n",
    "def calculate_rate_of_ones(sample):\n",
    "    return np.mean(sample)\n",
    "\n",
    "# Boucle pour chaque segment\n",
    "for segment in range(7):\n",
    "    # Générer des échantillons bootstrap\n",
    "    sample_size=df[df[\"segment\"]==segment].shape[0]\n",
    "    list_ids=df[df[\"segment\"]==segment][\"ID\"].values\n",
    "    # bootstrap_samples = [np.random.choice([0, 1], size=sample_size, replace=True) for _ in range(num_bootstrap_samples)]\n",
    "    bootstrap_samples = [np.array([df.loc[df[\"ID\"].isin(list(np.random.choice(list_ids,size=1))),\"TARGET\"].values for j in range(sample_size)]).flatten() for _ in range(num_bootstrap_samples)]\n",
    "    \n",
    "    # Calculer le taux de 1 pour chaque échantillon bootstrap\n",
    "    rates_of_ones = [calculate_rate_of_ones(sample) for sample in bootstrap_samples]\n",
    "    \n",
    "    # Calculer le 90e centile et la moyenne\n",
    "    percentile_90 = np.percentile(rates_of_ones, 90)\n",
    "    mean_rate = np.mean(rates_of_ones)\n",
    "    moc=percentile_90 - mean_rate\n",
    "    moc_segment[segment]=moc\n",
    "    # Créer un DataFrame temporaire pour le segment actuel\n",
    "    temp_df = pd.DataFrame({\n",
    "        'Size':[sample_size],\n",
    "        'Segment': [segment],\n",
    "        'Percentile_90': [percentile_90],\n",
    "        'Mean_Rate': [mean_rate],\n",
    "        \"MoC_C\": [moc]\n",
    "    })\n",
    "    \n",
    "    print(temp_df)"
   ]
  },
  {
   "cell_type": "code",
   "execution_count": null,
   "metadata": {},
   "outputs": [],
   "source": []
  },
  {
   "cell_type": "code",
   "execution_count": 8,
   "metadata": {},
   "outputs": [
    {
     "data": {
      "text/plain": [
       "{0: 0.05208000000000007,\n",
       " 1: 0.05404137931034492,\n",
       " 2: 0.05392465753424669,\n",
       " 3: 0.06154782608695658,\n",
       " 4: 0.04935616438356166,\n",
       " 5: 0.05380536912751677,\n",
       " 6: 0.0516308724832214}"
      ]
     },
     "execution_count": 8,
     "metadata": {},
     "output_type": "execute_result"
    }
   ],
   "source": [
    "moc_segment"
   ]
  },
  {
   "cell_type": "code",
   "execution_count": 13,
   "metadata": {},
   "outputs": [
    {
     "name": "stdout",
     "output_type": "stream",
     "text": [
      "   Size  Segment  Percentile_90  Mean_Rate   MoC_C\n",
      "0   150        0       0.546667   0.493867  0.0528\n",
      "   Size  Segment  Percentile_90  Mean_Rate     MoC_C\n",
      "0   145        1       0.572414   0.519338  0.053076\n",
      "   Size  Segment  Percentile_90  Mean_Rate     MoC_C\n",
      "0   146        2        0.59589   0.542555  0.053336\n",
      "   Size  Segment  Percentile_90  Mean_Rate     MoC_C\n",
      "0   115        3       0.547826   0.495122  0.052704\n",
      "   Size  Segment  Percentile_90  Mean_Rate     MoC_C\n",
      "0   146        4       0.541096   0.486384  0.054712\n",
      "   Size  Segment  Percentile_90  Mean_Rate     MoC_C\n",
      "0   149        5       0.530201   0.476993  0.053208\n",
      "   Size  Segment  Percentile_90  Mean_Rate     MoC_C\n",
      "0   149        6       0.610738   0.556899  0.053839\n"
     ]
    }
   ],
   "source": [
    "# Nombre d'échantillons bootstrap par segment\n",
    "num_bootstrap_samples = 1000\n",
    "moc_segment={}\n",
    "# Fonction pour calculer le taux de 1 dans un échantillon bootstrap\n",
    "def calculate_rate_of_ones(sample):\n",
    "    return np.mean(sample)\n",
    "\n",
    "# Boucle pour chaque segment\n",
    "for segment in range(7):\n",
    "    # Générer des échantillons bootstrap\n",
    "    sample_size=df[df[\"segment\"]==segment].shape[0]\n",
    "    list_ids=df[df[\"segment\"]==segment][\"ID\"].values\n",
    "    # bootstrap_samples = [np.random.choice([0, 1], size=sample_size, replace=True) for _ in range(num_bootstrap_samples)]\n",
    "    bootstrap_samples = [df[df[\"segment\"]==segment].sample(frac=1, replace=True)[\"TARGET\"].values for _ in range(num_bootstrap_samples)]\n",
    "    \n",
    "    # Calculer le taux de 1 pour chaque échantillon bootstrap\n",
    "    rates_of_ones = [calculate_rate_of_ones(sample) for sample in bootstrap_samples]\n",
    "    \n",
    "    # Calculer le 90e centile et la moyenne\n",
    "    percentile_90 = np.percentile(rates_of_ones, 90)\n",
    "    mean_rate = np.mean(rates_of_ones)\n",
    "    moc=percentile_90 - mean_rate\n",
    "    moc_segment[segment]=moc\n",
    "    # Créer un DataFrame temporaire pour le segment actuel\n",
    "    temp_df = pd.DataFrame({\n",
    "        'Size':[sample_size],\n",
    "        'Segment': [segment],\n",
    "        'Percentile_90': [percentile_90],\n",
    "        'Mean_Rate': [mean_rate],\n",
    "        \"MoC_C\": [moc]\n",
    "    })\n",
    "    \n",
    "    print(temp_df)"
   ]
  },
  {
   "cell_type": "markdown",
   "metadata": {},
   "source": [
    "#### MoC A"
   ]
  },
  {
   "cell_type": "code",
   "execution_count": 8,
   "metadata": {},
   "outputs": [
    {
     "name": "stdout",
     "output_type": "stream",
     "text": [
      "   Size  Segment  Percentile_90  Mean_Rate     MoC_C  Weaknesses_Data  \\\n",
      "0    12        0            1.0   0.833583  0.166417         0.291667   \n",
      "\n",
      "   Weaknesses_Methodology     MoC_A  \n",
      "0                   0.015  0.165583  \n",
      "   Size  Segment  Percentile_90  Mean_Rate     MoC_C  Weaknesses_Data  \\\n",
      "0     9        1       0.555556       0.34  0.215556         0.222222   \n",
      "\n",
      "   Weaknesses_Methodology     MoC_A  \n",
      "0                   0.015  0.215556  \n",
      "   Size  Segment  Percentile_90  Mean_Rate     MoC_C  Weaknesses_Data  \\\n",
      "0    14        2       0.714286   0.570143  0.144143         0.142857   \n",
      "\n",
      "   Weaknesses_Methodology     MoC_A  \n",
      "0                   0.015  0.139286  \n",
      "   Size  Segment  Percentile_90  Mean_Rate     MoC_C  Weaknesses_Data  \\\n",
      "0    11        3       0.363636   0.181727  0.181909         0.318182   \n",
      "\n",
      "   Weaknesses_Methodology     MoC_A  \n",
      "0                   0.015  0.180545  \n",
      "   Size  Segment  Percentile_90  Mean_Rate     MoC_C  Weaknesses_Data  \\\n",
      "0    17        4       0.647059   0.472471  0.174588         0.176471   \n",
      "\n",
      "   Weaknesses_Methodology     MoC_A  \n",
      "0                   0.015  0.179588  \n",
      "   Size  Segment  Percentile_90  Mean_Rate    MoC_C  Weaknesses_Data  \\\n",
      "0    16        5           0.75    0.56525  0.18475             0.25   \n",
      "\n",
      "   Weaknesses_Methodology     MoC_A  \n",
      "0                   0.015  0.128063  \n",
      "   Size  Segment  Percentile_90  Mean_Rate    MoC_C  Weaknesses_Data  \\\n",
      "0    21        6       0.571429   0.426238  0.14519         0.214286   \n",
      "\n",
      "   Weaknesses_Methodology     MoC_A  \n",
      "0                   0.015  0.142286  \n"
     ]
    }
   ],
   "source": [
    "import pandas as pd\n",
    "import numpy as np\n",
    "\n",
    "# Exemple de données\n",
    "data = pd.DataFrame({\n",
    "    'ID': range(1, 101),\n",
    "    'TARGET': np.random.choice([0, 1], size=100),\n",
    "    'Segment': np.random.choice(range(7), size=100),\n",
    "    'Variable_A': np.random.choice([1, 2, 3, np.nan], size=100),\n",
    "    'Variable_B': np.random.choice([1, 2, 3, np.nan], size=100),\n",
    "    # Ajoutez d'autres variables pertinentes à votre modèle\n",
    "})\n",
    "\n",
    "# Nombre d'échantillons bootstrap par segment\n",
    "num_bootstrap_samples = 1000\n",
    "moc_segment = {}\n",
    "\n",
    "# Fonction pour calculer le taux de 1 dans un échantillon bootstrap\n",
    "def calculate_rate_of_ones(sample):\n",
    "    return np.mean(sample)\n",
    "\n",
    "# Boucle pour chaque segment\n",
    "for segment in range(7):\n",
    "    # Générer des échantillons bootstrap\n",
    "    sample_size = data[data[\"Segment\"] == segment].shape[0]\n",
    "    list_ids = data[data[\"Segment\"] == segment][\"ID\"].values\n",
    "    bootstrap_samples = [np.array([data.loc[data[\"ID\"].isin(list(np.random.choice(list_ids, size=1))), \"TARGET\"].values for j in range(sample_size)]).flatten() for _ in range(num_bootstrap_samples)]\n",
    "\n",
    "    # Calculer le taux de 1 pour chaque échantillon bootstrap\n",
    "    rates_of_ones = [calculate_rate_of_ones(sample) for sample in bootstrap_samples]\n",
    "\n",
    "    # Calculer le 90e centile et la moyenne\n",
    "    percentile_90 = np.percentile(rates_of_ones, 90)\n",
    "    mean_rate = np.mean(rates_of_ones)\n",
    "    moc_c = percentile_90 - mean_rate\n",
    "\n",
    "    # Point 1 : Évaluation des Faiblesses des Données\n",
    "    data_weaknesses = data[data[\"Segment\"] == segment][['Variable_A', 'Variable_B']].isnull().mean()\n",
    "\n",
    "    # Point 2 : Évaluation des Faiblesses Méthodologiques\n",
    "    # Exemple : Ajoutez des évaluations pour d'autres faiblesses méthodologiques\n",
    "    methodology_weaknesses = {\n",
    "        'Choice_A': 0.02,\n",
    "        'Choice_B': 0.01,\n",
    "    }\n",
    "\n",
    "    # Point 3 : Analyse Sensibilité\n",
    "    # Exemple : Modifiez les données pour évaluer l'impact sur la MoC\n",
    "    sensitivity_data = data.copy()\n",
    "    sensitivity_data.loc[sensitivity_data[\"Segment\"] == segment, 'Variable_A'] = np.random.choice([1, 2, 3, np.nan], size=sample_size)\n",
    "\n",
    "    # Générer des échantillons bootstrap avec données modifiées\n",
    "    bootstrap_samples_sensitivity = [np.array([sensitivity_data.loc[sensitivity_data[\"ID\"].isin(list(np.random.choice(list_ids, size=1))), \"TARGET\"].values for j in range(sample_size)]).flatten() for _ in range(num_bootstrap_samples)]\n",
    "\n",
    "    # Calculer le taux de 1 pour chaque échantillon bootstrap avec données modifiées\n",
    "    rates_of_ones_sensitivity = [calculate_rate_of_ones(sample) for sample in bootstrap_samples_sensitivity]\n",
    "\n",
    "    # Calculer le 90e centile et la moyenne avec données modifiées\n",
    "    percentile_90_sensitivity = np.percentile(rates_of_ones_sensitivity, 90)\n",
    "    mean_rate_sensitivity = np.mean(rates_of_ones_sensitivity)\n",
    "    moc_a = percentile_90_sensitivity - mean_rate_sensitivity\n",
    "\n",
    "    # Créer un DataFrame temporaire pour le segment actuel\n",
    "    temp_df = pd.DataFrame({\n",
    "        'Size': [sample_size],\n",
    "        'Segment': [segment],\n",
    "        'Percentile_90': [percentile_90],\n",
    "        'Mean_Rate': [mean_rate],\n",
    "        \"MoC_C\": [moc_c],\n",
    "        'Weaknesses_Data': [data_weaknesses.mean()],\n",
    "        'Weaknesses_Methodology': [np.mean(list(methodology_weaknesses.values()))],\n",
    "        'MoC_A': [moc_a],\n",
    "    })\n",
    "\n",
    "    print(temp_df)\n"
   ]
  }
 ],
 "metadata": {
  "kernelspec": {
   "display_name": ".venv_pd",
   "language": "python",
   "name": "python3"
  },
  "language_info": {
   "codemirror_mode": {
    "name": "ipython",
    "version": 3
   },
   "file_extension": ".py",
   "mimetype": "text/x-python",
   "name": "python",
   "nbconvert_exporter": "python",
   "pygments_lexer": "ipython3",
   "version": "3.11.4"
  }
 },
 "nbformat": 4,
 "nbformat_minor": 2
}
